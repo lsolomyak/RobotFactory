{
 "cells": [
  {
   "cell_type": "code",
   "execution_count": 20,
   "metadata": {},
   "outputs": [
    {
     "name": "stderr",
     "output_type": "stream",
     "text": [
      "/Users/szoro/Documents/software/anaconda3.7/lib/python3.7/importlib/_bootstrap.py:219: RuntimeWarning: numpy.ufunc size changed, may indicate binary incompatibility. Expected 192 from C header, got 216 from PyObject\n",
      "  return f(*args, **kwds)\n"
     ]
    }
   ],
   "source": [
    "import numpy as np\n",
    "import matplotlib.pyplot as plt\n",
    "import seaborn as sns\n",
    "from pandas import read_csv\n",
    "sns.set_style('white')\n",
    "sns.set_context('notebook', font_scale=1.5)\n",
    "%matplotlib inline"
   ]
  },
  {
   "cell_type": "markdown",
   "metadata": {},
   "source": [
    "## Section 1: Preprocess Data"
   ]
  },
  {
   "cell_type": "code",
   "execution_count": 2,
   "metadata": {},
   "outputs": [
    {
     "name": "stdout",
     "output_type": "stream",
     "text": [
      "Fraction of participants: 0.40\n"
     ]
    },
    {
     "data": {
      "image/png": "[encoded data removed]",
      "text/plain": [
       "<Figure size 864x288 with 2 Axes>"
      ]
     },
     "metadata": {
      "needs_background": "light"
     },
     "output_type": "display_data"
    }
   ],
   "source": [
    "#~~~~~~~~~~~~~~~~~~~~~~~~~~~~~~~~~~~~~~~~~~#\n",
    "### Load and prepare data.\n",
    "#~~~~~~~~~~~~~~~~~~~~~~~~~~~~~~~~~~~~~~~~~~#\n",
    "\n",
    "## Load data.\n",
    "data = read_csv('data.csv').query('Study==\"2018moutoussis\"')\n",
    "\n",
    "## Reduce to participants at both sessions.\n",
    "data = data.groupby('Subject').filter(lambda x: x.Condition.nunique()==2)\n",
    "\n",
    "## Compute accuracy within participants & sessions.\n",
    "pre = data.groupby(['Subject','Condition','Cue']).Accuracy.mean().reset_index()\n",
    "pre['Cue'] = pre.Cue.replace({1:'GW',2:'GAL',3:'NGW',4:'NGAL'})\n",
    "\n",
    "## Compute fraction of participants with at least one bad session.\n",
    "pivot = pre.pivot_table(index=('Subject','Condition'), columns='Cue', values='Accuracy')\n",
    "pivot['R1'] = pivot['GW'] < 0.55\n",
    "pivot['R2'] = pivot['NGAL'] < 0.55\n",
    "pivot['R3'] = np.logical_or(pivot['R1'], pivot['R2'])\n",
    "reject = pivot.groupby('Subject').R3.apply(lambda x: np.any(x))\n",
    "print('Fraction of participants: %0.2f' %reject.mean())\n",
    "\n",
    "## Reject participants.\n",
    "data = data[~np.in1d(data.Subject, reject[reject].index)]\n",
    "data.to_csv('preproc.csv', index=False)\n",
    "\n",
    "## Compute accuracy within participants & sessions.\n",
    "post = data.groupby(['Subject','Condition','Cue']).Accuracy.mean().reset_index()\n",
    "post['Cue'] = post.Cue.replace({1:'GW',2:'GAL',3:'NGW',4:'NGAL'})\n",
    "\n",
    "#~~~~~~~~~~~~~~~~~~~~~~~~~~~~~~~~~~~~~~~~~~#\n",
    "### Plotting.\n",
    "#~~~~~~~~~~~~~~~~~~~~~~~~~~~~~~~~~~~~~~~~~~#\n",
    "\n",
    "## Initialize canvas.\n",
    "fig, axes = plt.subplots(1,2,figsize=(12,4),sharex=True,sharey=True)\n",
    "bins = np.linspace(0,1,37)\n",
    "\n",
    "## Iteratively plot.\n",
    "for ax, gb in zip(axes, [pre, post]):\n",
    "\n",
    "    for c in ['GW','NGW','GAL','NGAL']:\n",
    "        ax.hist(gb.query(f'Cue==\"{c}\"').Accuracy, bins=bins, density=True, cumulative=1, histtype='step')\n",
    "\n",
    "ax.invert_xaxis()\n",
    "sns.despine()\n",
    "plt.tight_layout()"
   ]
  },
  {
   "cell_type": "markdown",
   "metadata": {},
   "source": [
    "## Section 2: Prepare for Stan"
   ]
  },
  {
   "cell_type": "code",
   "execution_count": 3,
   "metadata": {},
   "outputs": [],
   "source": [
    "np.random.seed(47404)\n",
    "\n",
    "#~~~~~~~~~~~~~~~~~~~~~~~~~~~~~~~~~~~~~~~~~~#\n",
    "### Prepare data.\n",
    "#~~~~~~~~~~~~~~~~~~~~~~~~~~~~~~~~~~~~~~~~~~#\n",
    "\n",
    "## Randomly select.\n",
    "ix = np.random.choice(data.Subject.unique(), 20, replace=False)\n",
    "data = data[np.in1d(data.Subject, ix)]\n",
    "\n",
    "## Define metadata.\n",
    "N = data.Subject.nunique()\n",
    "K = data.Condition.nunique()\n",
    "T = data.Trial.nunique()\n",
    "\n",
    "## Define data.\n",
    "Y = data.pivot_table('Choice',('Subject','Condition'),'Trial').astype(int).values.reshape(N,K,T)\n",
    "X = data.pivot_table('Cue',('Subject','Condition'),'Trial').astype(int).values.reshape(N,K,T)\n",
    "R = data.pivot_table('Outcome',('Subject','Condition'),'Trial').astype(int).values.reshape(N,K,T)\n",
    "\n",
    "## Assemble data.\n",
    "dd = dict(N=N, T=T, Y=Y, X=X, R=R)"
   ]
  },
  {
   "cell_type": "markdown",
   "metadata": {},
   "source": [
    "## Secttion 3:"
   ]
  },
  {
   "cell_type": "code",
   "execution_count": 4,
   "metadata": {},
   "outputs": [
    {
     "name": "stderr",
     "output_type": "stream",
     "text": [
      "INFO:pystan:COMPILING THE C++ CODE FOR MODEL anon_model_6396d1f38a419f14d0fe01f5e47f5e24 NOW.\n"
     ]
    }
   ],
   "source": [
    "import os, pystan\n",
    "from stantools.io import load_model, save_fit\n",
    "\n",
    "#~~~~~~~~~~~~~~~~~~~~~~~~~~~~~~~~~~~~~~~~~~#\n",
    "### Define parameters.\n",
    "#~~~~~~~~~~~~~~~~~~~~~~~~~~~~~~~~~~~~~~~~~~#\n",
    "\n",
    "## I/O parameters.\n",
    "stan_model = f'pit_4arm_trt_m2'\n",
    "\n",
    "## Sampling parameters.\n",
    "samples = 1500\n",
    "warmup = 1000\n",
    "chains = 4\n",
    "thin = 1\n",
    "n_jobs = 4\n",
    "\n",
    "#~~~~~~~~~~~~~~~~~~~~~~~~~~~~~~~~~~~~~~~~~~#\n",
    "### Prepare data.\n",
    "#~~~~~~~~~~~~~~~~~~~~~~~~~~~~~~~~~~~~~~~~~~#\n",
    "\n",
    "## Define metadata.\n",
    "N = data.Subject.nunique()\n",
    "K = data.Condition.nunique()\n",
    "T = data.Trial.nunique()\n",
    "\n",
    "## Define data.\n",
    "Y = data.pivot_table('Choice',('Subject','Condition'),'Trial').astype(int).values.reshape(N,K,T)\n",
    "X = data.pivot_table('Cue',('Subject','Condition'),'Trial').astype(int).values.reshape(N,K,T)\n",
    "R = data.pivot_table('Outcome',('Subject','Condition'),'Trial').astype(int).values.reshape(N,K,T)\n",
    "\n",
    "## Assemble data.\n",
    "dd = dict(N=N, T=T, Y=Y, X=X, R=R)\n",
    "\n",
    "#~~~~~~~~~~~~~~~~~~~~~~~~~~~~~~~~~~~~~~~~~~#\n",
    "### Fit Stan Model.\n",
    "#~~~~~~~~~~~~~~~~~~~~~~~~~~~~~~~~~~~~~~~~~~#\n",
    "    \n",
    "## Load StanModel\n",
    "StanModel = load_model(os.path.join('stan_models',stan_model))\n",
    "\n",
    "## Fit model.\n",
    "# StanFit = StanModel.sampling(data=dd, iter=samples, warmup=warmup, chains=chains, \n",
    "#                              thin=thin, n_jobs=n_jobs, seed=0)\n",
    "\n",
    "## Save.\n",
    "# save_fit(f, StanFit, data=dd)"
   ]
  },
  {
   "cell_type": "code",
   "execution_count": 86,
   "metadata": {},
   "outputs": [
    {
     "name": "stdout",
     "output_type": "stream",
     "text": [
      "[0.02832681 0.32701169 0.24396604 0.28008675 0.30641903]\n"
     ]
    }
   ],
   "source": [
    "import numpy as np\n",
    "from stantools.io import load_fit\n",
    "\n",
    "## Load StanFit.\n",
    "StanFit = load_fit('stan_results/pit_4arm_trt_m2.pkl')\n",
    "\n",
    "## Preallocate space.\n",
    "sigma_c = np.zeros((2000,5))\n",
    "sigma_d = np.zeros((2000,5))\n",
    "TRT = np.zeros((2000,5))\n",
    "\n",
    "for i, par in enumerate(['rho','eta','tau','nu','xi']):\n",
    "    sigma_c[:,i] = np.var(StanFit[f'{par}_c_pr'].T * StanFit['sigma_c'][:,i], axis=0)\n",
    "    sigma_d[:,i] = np.var(StanFit[f'{par}_d_pr'].T * StanFit['sigma_d'][:,i], axis=0)\n",
    "    TRT[:,i] = (sigma_c[:,i] - sigma_d[:,i]) / (sigma_c[:,i] + sigma_d[:,i])\n",
    "\n",
    "print(TRT.mean(axis=0))"
   ]
  },
  {
   "cell_type": "code",
   "execution_count": 87,
   "metadata": {},
   "outputs": [
    {
     "name": "stdout",
     "output_type": "stream",
     "text": [
      "[0.02721826 0.32615732 0.24302805 0.28041118 0.30592645]\n"
     ]
    }
   ],
   "source": [
    "sigma_c = StanFit['sigma_c'] ** 2\n",
    "sigma_d = StanFit['sigma_d'] ** 2\n",
    "TRT = (sigma_c - sigma_d) / (sigma_c + sigma_d)\n",
    "print(TRT.mean(axis=0))"
   ]
  }
 ],
 "metadata": {
  "kernelspec": {
   "display_name": "Python 3",
   "language": "python",
   "name": "python3"
  },
  "language_info": {
   "codemirror_mode": {
    "name": "ipython",
    "version": 3
   },
   "file_extension": ".py",
   "mimetype": "text/x-python",
   "name": "python",
   "nbconvert_exporter": "python",
   "pygments_lexer": "ipython3",
   "version": "3.7.4"
  }
 },
 "nbformat": 4,
 "nbformat_minor": 4
}
