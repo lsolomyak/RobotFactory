{
 "cells": [
  {
   "cell_type": "markdown",
   "metadata": {},
   "source": [
    "# Notebook 01: Preprocessing"
   ]
  },
  {
   "cell_type": "code",
   "execution_count": 1,
   "metadata": {},
   "outputs": [],
   "source": [
    "import os\n",
    "import numpy as np\n",
    "import matplotlib.pyplot as plt\n",
    "import seaborn as sns\n",
    "sns.set_style('white')\n",
    "sns.set_context('notebook', font_scale=1.25)\n",
    "%matplotlib inline"
   ]
  },
  {
   "cell_type": "markdown",
   "metadata": {},
   "source": [
    "## Section 1: Preprocess and collate data"
   ]
  },
  {
   "cell_type": "code",
   "execution_count": 2,
   "metadata": {},
   "outputs": [],
   "source": [
    "from pandas import read_csv, concat\n",
    "\n",
    "#~~~~~~~~~~~~~~~~~~~~~~~~~~~~~~~~~~~~~~~~~~#\n",
    "### Load and prepare data.\n",
    "#~~~~~~~~~~~~~~~~~~~~~~~~~~~~~~~~~~~~~~~~~~#\n",
    "\n",
    "## Locate files.\n",
    "files = sorted([f for f in os.listdir('raw') if f.startswith('LOGS')])\n",
    "\n",
    "## Main loop.\n",
    "data = []\n",
    "for f in files:\n",
    "\n",
    "    ## Load data.\n",
    "    df = read_csv(os.path.join('raw',f), sep=' ')\n",
    "\n",
    "    ## Rename columns.\n",
    "    df.columns = ('Subject','Trial','Condition','Cue',\n",
    "                  'OutcomeCorrect','OutcomeIncorrect','OutcomeNoPress',\n",
    "                  'Outcome','Target','Choice','Accuracy','RT','')\n",
    "\n",
    "    ## Update subject.\n",
    "    df['Subject'] = int(''.join([s for s in f if s.isnumeric()]))\n",
    "    \n",
    "    ## Update condition info.\n",
    "    df['Condition'] = np.where(df.Condition==1, 'Threat', 'Safe')\n",
    "    df['Valence'] = df.Cue.replace({1:'Gain', 2:'Loss', 3:'Gain', 4:'Loss'})\n",
    "    df['Action'] = df.Cue.replace({1:'Go', 2:'Go', 3:'No-Go', 4:'No-Go'})\n",
    "    \n",
    "    ## Update trial info.\n",
    "    tally = lambda arr: np.arange(arr.size) + 1\n",
    "    df['Trial'] = df.groupby('Condition').Trial.transform(tally)\n",
    "    df['Exposure'] = df.groupby(['Condition','Cue']).Trial.transform(tally)\n",
    "    df['Block'] = ((df['Trial'] - 1) // 20) +1\n",
    "    \n",
    "    ## Restrict to columns of interest.\n",
    "    df = df[['Subject','Condition','Block','Trial','Exposure','Cue','Valence','Action',\n",
    "             'Target','Choice','Accuracy','RT','Outcome']]\n",
    "    \n",
    "    ## Append.\n",
    "    data.append(df)\n",
    "    \n",
    "## Concatenate data.    \n",
    "data = concat(data)\n",
    "\n",
    "#~~~~~~~~~~~~~~~~~~~~~~~~~~~~~~~~~~~~~~~~~~#\n",
    "### Load and prepare metadata.\n",
    "#~~~~~~~~~~~~~~~~~~~~~~~~~~~~~~~~~~~~~~~~~~#\n",
    "\n",
    "## Load metadata.\n",
    "metadata = read_csv(os.path.join('raw','STAIData.csv'))\n",
    "\n",
    "## Update diagnostic category.\n",
    "metadata['Diagnosis'] = metadata.Diagnosis.replace({'HC':'HC','patient':'Anx'})\n",
    "\n",
    "## Update subject info.\n",
    "to_numeric = lambda label: int(''.join([s for s in label if s.isnumeric()]))\n",
    "metadata['Subject'] = metadata.Subject.apply(to_numeric)\n",
    "\n",
    "## Merge with data.\n",
    "data = data.merge(metadata, on='Subject')\n",
    "\n",
    "## Save.\n",
    "data.to_csv('data.csv', index=False)"
   ]
  }
 ],
 "metadata": {
  "kernelspec": {
   "display_name": "Python 3",
   "language": "python",
   "name": "python3"
  },
  "language_info": {
   "codemirror_mode": {
    "name": "ipython",
    "version": 3
   },
   "file_extension": ".py",
   "mimetype": "text/x-python",
   "name": "python",
   "nbconvert_exporter": "python",
   "pygments_lexer": "ipython3",
   "version": "3.7.1"
  }
 },
 "nbformat": 4,
 "nbformat_minor": 2
}
