{
 "cells": [
  {
   "cell_type": "code",
   "execution_count": 1,
   "metadata": {},
   "outputs": [],
   "source": [
    "import numpy as np\n",
    "import matplotlib.pyplot as plt\n",
    "import seaborn as sns\n",
    "from pandas import read_csv\n",
    "sns.set_style('white')\n",
    "sns.set_context('notebook', font_scale=1.5)\n",
    "%matplotlib inline"
   ]
  },
  {
   "cell_type": "markdown",
   "metadata": {},
   "source": [
    "## Exclusion Criteria\n",
    "\n",
    "#### [Albrecht et al. (2016)](https://doi.org/10.1371/journal.pone.0152781)\n",
    "- Exclude participants unable to learn the easiest condition (Go-to-Win), defined as less than five correct responses.\n",
    "- Exclude participants for lack of deviance in responding, defined as making an extended run (> 40) of \"Go\" responses or \"No-Go\" responses. \n",
    "\n",
    "#### [Mkrtchian et al. (2017)](https://doi.org/10.1016/j.biopsych.2017.01.017)\n",
    "- Exclude participants who fail to \"follow task instructions\".\n",
    "\n",
    "#### [Millner et al. (2018)](https://doi.org/10.1162/jocn_a_01224)\n",
    "- Exclude participants for selecting go on every escape trial.\n",
    "\n",
    "#### [Swart et al. (2018)](https://doi.org/10.1371/journal.pbio.2005979)\n",
    "- No behavioral exclusion criteria reported.\n",
    "\n",
    "#### [Csifcsal et al. (2019/202X)](https://doi.org/10.1162/jocn_a_01515)\n",
    "- Exclude participants that do not try out both response options (response, no response) for all 4 card types at least once. "
   ]
  }
 ],
 "metadata": {
  "kernelspec": {
   "display_name": "Python 3",
   "language": "python",
   "name": "python3"
  },
  "language_info": {
   "codemirror_mode": {
    "name": "ipython",
    "version": 3
   },
   "file_extension": ".py",
   "mimetype": "text/x-python",
   "name": "python",
   "nbconvert_exporter": "python",
   "pygments_lexer": "ipython3",
   "version": "3.7.1"
  }
 },
 "nbformat": 4,
 "nbformat_minor": 4
}
