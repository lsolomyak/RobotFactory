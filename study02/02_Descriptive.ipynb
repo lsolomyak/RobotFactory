{
 "cells": [
  {
   "cell_type": "code",
   "execution_count": 1,
   "id": "5bcbb2f8-686a-4dd7-a48e-64207bf17fba",
   "metadata": {},
   "outputs": [],
   "source": [
    "import os\n",
    "import numpy as np\n",
    "import matplotlib.pyplot as plt\n",
    "import seaborn as sns\n",
    "from pandas import DataFrame, read_csv, concat\n",
    "from tqdm import tqdm\n",
    "sns.set_theme(style='ticks', context='notebook', font_scale=1.2)"
   ]
  },
  {
   "cell_type": "markdown",
   "id": "f947ce75-2fd1-41c1-a004-73f887526c6d",
   "metadata": {},
   "source": [
    "## Section 1: Demographics"
   ]
  },
  {
   "cell_type": "code",
   "execution_count": 2,
   "id": "66f6e73b-9d67-45a8-8802-6d68924b2fa0",
   "metadata": {},
   "outputs": [],
   "source": [
    "## Load data.\n",
    "demo = read_csv(os.path.join('data', 's1', 'demographics.csv'))\n",
    "\n",
    "## Apply rejections.\n",
    "reject = read_csv(os.path.join('data', 's1', 'reject.csv'))\n",
    "demo = demo[demo.subject.isin(reject.query('reject == 0').subject)].reset_index(drop=True)"
   ]
  },
  {
   "cell_type": "markdown",
   "id": "576876c1-07e5-428b-892f-b3863abab2e1",
   "metadata": {},
   "source": [
    "### 1.1 Gender"
   ]
  },
  {
   "cell_type": "code",
   "execution_count": 3,
   "id": "c540a9f6-231d-475e-947e-42e441e2d123",
   "metadata": {},
   "outputs": [
    {
     "name": "stdout",
     "output_type": "stream",
     "text": [
      "                count     %\n",
      "gender                     \n",
      "Man                65  59.1\n",
      "Woman              43  39.1\n",
      "Other               1   0.9\n",
      "Rather not say      1   0.9\n"
     ]
    }
   ],
   "source": [
    "## Count responses.\n",
    "gb = demo.groupby('gender').subject.count().reset_index(name='count')\n",
    "gb['%'] = gb['count'].transform(lambda x: np.round(x / x.sum() * 100, 1))\n",
    "print(gb.set_index('gender').sort_values('count', ascending=False))"
   ]
  },
  {
   "cell_type": "markdown",
   "id": "0b36128b-84f9-49e3-800d-d4b44b33915f",
   "metadata": {},
   "source": [
    "### 1.2 Age"
   ]
  },
  {
   "cell_type": "code",
   "execution_count": 4,
   "id": "101b2f70-9778-4817-8a3a-6c7cd30793b5",
   "metadata": {},
   "outputs": [
    {
     "data": {
      "text/plain": [
       "count    110.0\n",
       "mean      39.6\n",
       "std       11.0\n",
       "min       23.0\n",
       "25%       31.0\n",
       "50%       37.0\n",
       "75%       46.0\n",
       "max       69.0\n",
       "Name: age, dtype: float64"
      ]
     },
     "execution_count": 4,
     "metadata": {},
     "output_type": "execute_result"
    }
   ],
   "source": [
    "demo.age.describe().round(1)"
   ]
  },
  {
   "cell_type": "markdown",
   "id": "d2c84b3a-25c1-4109-8d13-961880a3e1eb",
   "metadata": {},
   "source": [
    "#### Discretized"
   ]
  },
  {
   "cell_type": "code",
   "execution_count": 5,
   "id": "2e4b842e-744d-41c4-85d2-6f6015c94bfa",
   "metadata": {},
   "outputs": [
    {
     "name": "stdout",
     "output_type": "stream",
     "text": [
      "              count     %\n",
      "18-29            21  19.1\n",
      "30-39            42  38.2\n",
      "40-49            26  23.6\n",
      "50-59            14  12.7\n",
      "60 and older      7   6.4\n"
     ]
    }
   ],
   "source": [
    "## Discretize ages.\n",
    "demo['age_cat'] = np.digitize(demo.age, [29.5, 39.5, 49.5, 59.5])\n",
    "\n",
    "## Count responses.\n",
    "gb = demo.groupby('age_cat').subject.count().reset_index(name='count')\n",
    "gb['%'] = gb['count'].transform(lambda x: np.round(x / x.sum() * 100, 1))\n",
    "gb.index = ['18-29', '30-39', '40-49', '50-59', '60 and older']\n",
    "print(gb[['count','%']])"
   ]
  },
  {
   "cell_type": "markdown",
   "id": "7bc73e07-fc4d-4506-86c6-0098323bce1e",
   "metadata": {},
   "source": [
    "### 1.3 Race & ethnicity"
   ]
  },
  {
   "cell_type": "markdown",
   "id": "54601b80-f9a7-48ea-beaf-5cd584ace727",
   "metadata": {},
   "source": [
    "#### Ethnicity"
   ]
  },
  {
   "cell_type": "code",
   "execution_count": 6,
   "id": "8b9ae9b5-59cc-4f36-93b4-d1b5dce18800",
   "metadata": {},
   "outputs": [
    {
     "name": "stdout",
     "output_type": "stream",
     "text": [
      "                        count     %\n",
      "ethnicity                          \n",
      "Not Hispanic or Latino    101  91.8\n",
      "Hispanic or Latino          8   7.3\n",
      "Rather not say              1   0.9\n"
     ]
    }
   ],
   "source": [
    "## Count responses.\n",
    "gb = demo.groupby('ethnicity').subject.count().reset_index(name='count')\n",
    "gb['%'] = gb['count'].transform(lambda x: np.round(x / x.sum() * 100, 1))\n",
    "print(gb.set_index('ethnicity').sort_values('count', ascending=False))"
   ]
  },
  {
   "cell_type": "markdown",
   "id": "dc5bba41-f0b8-4d97-8804-8df9a164ff78",
   "metadata": {},
   "source": [
    "#### Race"
   ]
  },
  {
   "cell_type": "code",
   "execution_count": 7,
   "id": "17f09fd4-c6ce-4b00-88f3-6a374fb93357",
   "metadata": {},
   "outputs": [
    {
     "name": "stdout",
     "output_type": "stream",
     "text": [
      "                               count     %\n",
      "race                                      \n",
      "White                             97  83.6\n",
      "Black or African American         10   8.6\n",
      "American Indian/Alaska Native      3   2.6\n",
      "Asian                              3   2.6\n",
      "Rather not say                     3   2.6\n"
     ]
    }
   ],
   "source": [
    "## Unpack responses.\n",
    "gb = DataFrame(dict(race = [r for resp in demo.race for r in eval(resp)]))\n",
    "\n",
    "## Count responses.\n",
    "gb = gb.groupby('race').race.count().reset_index(name='count')\n",
    "gb['%'] = gb['count'].transform(lambda x: np.round(x / x.sum() * 100, 1))\n",
    "print(gb.set_index('race').sort_values('count', ascending=False))"
   ]
  },
  {
   "cell_type": "markdown",
   "id": "6805e9ee-20ef-4e9b-9f9b-7f0682e3235e",
   "metadata": {},
   "source": [
    "## Section 2: Behavior"
   ]
  },
  {
   "cell_type": "code",
   "execution_count": 8,
   "id": "8583e2e6-7488-4e91-a2d4-b69d1dc830d4",
   "metadata": {},
   "outputs": [
    {
     "name": "stdout",
     "output_type": "stream",
     "text": [
      "session\n",
      "1    110\n",
      "2     97\n",
      "3     99\n",
      "Name: subject, dtype: int64\n"
     ]
    }
   ],
   "source": [
    "## Define parameters.\n",
    "sessions = ['s1', 's2', 's3']\n",
    "\n",
    "## Iteratively load data.\n",
    "data = concat([read_csv(os.path.join('data', session, 'pgng.csv'))\n",
    "               for session in ['s1','s2','s3']])\n",
    "\n",
    "## Restrict participants.\n",
    "reject = read_csv(os.path.join('data', 's1', 'reject.csv'))\n",
    "data = data[data.subject.isin(reject.query('reject==0').subject)].reset_index(drop=True)\n",
    "\n",
    "## Return number of participants per session.\n",
    "print(data.groupby('session').subject.nunique())"
   ]
  },
  {
   "cell_type": "markdown",
   "id": "b1ad5114-fcba-4abf-90d9-03295ed39d5a",
   "metadata": {},
   "source": [
    "### 2.1 Learning curves"
   ]
  },
  {
   "cell_type": "code",
   "execution_count": 9,
   "id": "3e5ad23c-29da-40f6-90a4-245764f7dc94",
   "metadata": {},
   "outputs": [
    {
     "data": {
      "image/png": "[encoded data removed]",
      "text/plain": [
       "<Figure size 518.4x216 with 3 Axes>"
      ]
     },
     "metadata": {
      "needs_background": "light"
     },
     "output_type": "display_data"
    }
   ],
   "source": [
    "## Initialize canvas.\n",
    "g = sns.FacetGrid(data, col='session', col_order=[1,2,3], aspect=0.8)\n",
    "\n",
    "## Define aesthetics.\n",
    "palette = ['#234f81', '#8e9cb8', '#bf8a82', '#812623']\n",
    "hue_order = ['gw','ngw','gal','ngal']\n",
    "\n",
    "## Plot learning curves.\n",
    "g.map(sns.lineplot, 'exposure', 'choice', 'robot', hue_order=hue_order, palette=palette, \n",
    "      lw=3, errorbar=('ci', 95))\n",
    "\n",
    "## Add trend line.\n",
    "for ax in g.axes.flatten(): ax.axhline(0.5, color='k', alpha=0.05, zorder=-1)\n",
    "\n",
    "## Adjust x-axis.\n",
    "g.set(xticks=[1,6,12])\n",
    "g.set_xlabels('exposure')\n",
    "\n",
    "## Adjust y-axis.\n",
    "g.set_ylabels('p(go)');"
   ]
  },
  {
   "cell_type": "markdown",
   "id": "50bbb37a-ad96-43e3-bae8-17c4be3bae40",
   "metadata": {},
   "source": [
    "### 2.2 Descriptive statistics"
   ]
  },
  {
   "cell_type": "code",
   "execution_count": 10,
   "id": "8b96960c-7652-4513-b22b-d92c12811389",
   "metadata": {},
   "outputs": [],
   "source": [
    "from itertools import combinations\n",
    "\n",
    "## Define parameters.\n",
    "n_iter = 5000\n",
    "sessions = [1,2,3]\n",
    "pairs = list(combinations(sessions, 2))\n",
    "\n",
    "## Define convenience functions.\n",
    "def mad(x):\n",
    "    \"\"\"Median absolute difference.\"\"\"\n",
    "    return np.nanmedian(np.abs(x - np.nanmedian(x)))\n",
    "\n",
    "def cohens_d(x, popmean=0):\n",
    "    \"\"\"Cohen's D for one-sample median.\"\"\"\n",
    "    return np.abs(np.nanmedian(x) - popmean) / (mad(x) / 0.6745)"
   ]
  },
  {
   "cell_type": "markdown",
   "id": "97a6c3c0-eeef-457e-acef-501a810b8b09",
   "metadata": {},
   "source": [
    "#### 2.2.1 Overall performance\n",
    "\n",
    "**Within-session comparisons**"
   ]
  },
  {
   "cell_type": "code",
   "execution_count": 11,
   "id": "bcf407be-10be-4d16-86a5-029bcd637a7d",
   "metadata": {},
   "outputs": [
    {
     "name": "stderr",
     "output_type": "stream",
     "text": [
      "100%|██████████| 5000/5000 [00:05<00:00, 903.82it/s]\n"
     ]
    },
    {
     "data": {
      "text/html": [
       "<div>\n",
       "<style scoped>\n",
       "    .dataframe tbody tr th:only-of-type {\n",
       "        vertical-align: middle;\n",
       "    }\n",
       "\n",
       "    .dataframe tbody tr th {\n",
       "        vertical-align: top;\n",
       "    }\n",
       "\n",
       "    .dataframe thead th {\n",
       "        text-align: right;\n",
       "    }\n",
       "</style>\n",
       "<table border=\"1\" class=\"dataframe\">\n",
       "  <thead>\n",
       "    <tr style=\"text-align: right;\">\n",
       "      <th></th>\n",
       "      <th>obs</th>\n",
       "      <th>d</th>\n",
       "      <th>pval</th>\n",
       "      <th>fwer</th>\n",
       "    </tr>\n",
       "    <tr>\n",
       "      <th>session</th>\n",
       "      <th></th>\n",
       "      <th></th>\n",
       "      <th></th>\n",
       "      <th></th>\n",
       "    </tr>\n",
       "  </thead>\n",
       "  <tbody>\n",
       "    <tr>\n",
       "      <th>1</th>\n",
       "      <td>0.675</td>\n",
       "      <td>1.828</td>\n",
       "      <td>0.0</td>\n",
       "      <td>0.0</td>\n",
       "    </tr>\n",
       "    <tr>\n",
       "      <th>2</th>\n",
       "      <td>0.717</td>\n",
       "      <td>2.063</td>\n",
       "      <td>0.0</td>\n",
       "      <td>0.0</td>\n",
       "    </tr>\n",
       "    <tr>\n",
       "      <th>3</th>\n",
       "      <td>0.696</td>\n",
       "      <td>1.441</td>\n",
       "      <td>0.0</td>\n",
       "      <td>0.0</td>\n",
       "    </tr>\n",
       "  </tbody>\n",
       "</table>\n",
       "</div>"
      ],
      "text/plain": [
       "           obs      d  pval  fwer\n",
       "session                          \n",
       "1        0.675  1.828   0.0   0.0\n",
       "2        0.717  2.063   0.0   0.0\n",
       "3        0.696  1.441   0.0   0.0"
      ]
     },
     "execution_count": 11,
     "metadata": {},
     "output_type": "execute_result"
    }
   ],
   "source": [
    "np.random.seed(47404)\n",
    "\n",
    "## Compute average performance.\n",
    "pivot = data.pivot_table('accuracy', 'subject', 'session')\n",
    "pivot -= 0.5\n",
    "\n",
    "## Compute observed effects.\n",
    "obs = pivot.median().values\n",
    "\n",
    "## Compute effect sizes.\n",
    "d = pivot.apply(cohens_d).values\n",
    "\n",
    "## Compute null distribution.\n",
    "null = np.zeros((n_iter, obs.size))\n",
    "for n in tqdm(range(n_iter)):\n",
    "    \n",
    "    ## Permute sign.\n",
    "    pivot = pivot * np.random.choice([1,-1], pivot.shape, replace=True)\n",
    "    \n",
    "    ## Compute observed effects.\n",
    "    null[n] = pivot.median().values\n",
    "    \n",
    "## Compute p-values.\n",
    "pval = ((np.abs(obs[np.newaxis,:]) < np.abs(null)).sum(axis=0) + 1) / (n_iter + 1)\n",
    "fwer = ((np.abs(obs[:,np.newaxis]) < np.abs(null).max(axis=1)).sum(axis=1) + 1) / (n_iter + 1)\n",
    "\n",
    "## Report summary.\n",
    "summary = DataFrame(dict(session=sessions, obs=obs + 0.5, d=d, pval=pval, fwer=fwer))\n",
    "summary.set_index('session').round(3)"
   ]
  },
  {
   "cell_type": "markdown",
   "id": "af8b12e5-bf4f-40b9-9743-620142987101",
   "metadata": {},
   "source": [
    "**Between-session comparisons**"
   ]
  },
  {
   "cell_type": "code",
   "execution_count": 12,
   "id": "15a5a2fb-8847-4ae5-988a-49a0655397fd",
   "metadata": {},
   "outputs": [
    {
     "name": "stderr",
     "output_type": "stream",
     "text": [
      "100%|██████████| 5000/5000 [00:16<00:00, 299.39it/s]\n"
     ]
    },
    {
     "data": {
      "text/html": [
       "<div>\n",
       "<style scoped>\n",
       "    .dataframe tbody tr th:only-of-type {\n",
       "        vertical-align: middle;\n",
       "    }\n",
       "\n",
       "    .dataframe tbody tr th {\n",
       "        vertical-align: top;\n",
       "    }\n",
       "\n",
       "    .dataframe thead th {\n",
       "        text-align: right;\n",
       "    }\n",
       "</style>\n",
       "<table border=\"1\" class=\"dataframe\">\n",
       "  <thead>\n",
       "    <tr style=\"text-align: right;\">\n",
       "      <th></th>\n",
       "      <th></th>\n",
       "      <th>obs</th>\n",
       "      <th>d</th>\n",
       "      <th>pval</th>\n",
       "      <th>fwer</th>\n",
       "    </tr>\n",
       "    <tr>\n",
       "      <th>s1</th>\n",
       "      <th>s2</th>\n",
       "      <th></th>\n",
       "      <th></th>\n",
       "      <th></th>\n",
       "      <th></th>\n",
       "    </tr>\n",
       "  </thead>\n",
       "  <tbody>\n",
       "    <tr>\n",
       "      <th rowspan=\"2\" valign=\"top\">1</th>\n",
       "      <th>2</th>\n",
       "      <td>-0.021</td>\n",
       "      <td>0.337</td>\n",
       "      <td>0.004</td>\n",
       "      <td>0.008</td>\n",
       "    </tr>\n",
       "    <tr>\n",
       "      <th>3</th>\n",
       "      <td>-0.012</td>\n",
       "      <td>0.156</td>\n",
       "      <td>0.127</td>\n",
       "      <td>0.326</td>\n",
       "    </tr>\n",
       "    <tr>\n",
       "      <th>2</th>\n",
       "      <th>3</th>\n",
       "      <td>0.008</td>\n",
       "      <td>0.135</td>\n",
       "      <td>0.329</td>\n",
       "      <td>0.685</td>\n",
       "    </tr>\n",
       "  </tbody>\n",
       "</table>\n",
       "</div>"
      ],
      "text/plain": [
       "         obs      d   pval   fwer\n",
       "s1 s2                            \n",
       "1  2  -0.021  0.337  0.004  0.008\n",
       "   3  -0.012  0.156  0.127  0.326\n",
       "2  3   0.008  0.135  0.329  0.685"
      ]
     },
     "execution_count": 12,
     "metadata": {},
     "output_type": "execute_result"
    }
   ],
   "source": [
    "np.random.seed(47404)\n",
    "\n",
    "## Compute average performance.\n",
    "pivot = data.pivot_table('accuracy', 'subject', 'session')\n",
    "pivot -= 0.5\n",
    "\n",
    "## Compute observed effects.\n",
    "obs = np.array([np.nanmedian(pivot[a] - pivot[b]) for a, b in pairs])\n",
    "\n",
    "## Compute effect sizes.\n",
    "d = np.array([cohens_d(pivot[a] - pivot[b]) for a, b in pairs])\n",
    "\n",
    "## Compute null distribution.\n",
    "null = np.zeros((n_iter, obs.size))\n",
    "for n in tqdm(range(n_iter)):\n",
    "    \n",
    "    ## Permute group assignments.\n",
    "    pivot.loc[:,:] = np.stack(pivot.apply(np.random.permutation, 1).values)\n",
    "    \n",
    "    ## Compute observed effects.\n",
    "    for m, (a, b) in enumerate(pairs):\n",
    "        null[n,m] = np.nanmedian(pivot[a] - pivot[b])\n",
    "        \n",
    "## Compute p-values.\n",
    "pval = ((np.abs(obs[np.newaxis,:]) < np.abs(null)).sum(axis=0) + 1) / (n_iter + 1)\n",
    "fwer = ((np.abs(obs[:,np.newaxis]) < np.abs(null).max(axis=1)).sum(axis=1) + 1) / (n_iter + 1)\n",
    "\n",
    "## Report summary.\n",
    "summary = DataFrame(dict(s1=[a for a, b in pairs], s2=[b for a, b in pairs], \n",
    "                         obs=obs, d=d, pval=pval, fwer=fwer))\n",
    "summary.set_index(['s1','s2']).round(3)"
   ]
  },
  {
   "cell_type": "markdown",
   "id": "b3abd8c9-27d1-45c3-88e2-18dcfb547ba7",
   "metadata": {},
   "source": [
    "#### 2.2.2 Main effect: required action\n",
    "\n",
    "**Within-session comparisons**"
   ]
  },
  {
   "cell_type": "code",
   "execution_count": 13,
   "id": "5af6ecf7-c4a2-4c07-bd22-6978a3813785",
   "metadata": {},
   "outputs": [
    {
     "name": "stderr",
     "output_type": "stream",
     "text": [
      "100%|██████████| 5000/5000 [00:35<00:00, 140.44it/s]\n"
     ]
    },
    {
     "data": {
      "text/html": [
       "<div>\n",
       "<style scoped>\n",
       "    .dataframe tbody tr th:only-of-type {\n",
       "        vertical-align: middle;\n",
       "    }\n",
       "\n",
       "    .dataframe tbody tr th {\n",
       "        vertical-align: top;\n",
       "    }\n",
       "\n",
       "    .dataframe thead th {\n",
       "        text-align: right;\n",
       "    }\n",
       "</style>\n",
       "<table border=\"1\" class=\"dataframe\">\n",
       "  <thead>\n",
       "    <tr style=\"text-align: right;\">\n",
       "      <th></th>\n",
       "      <th>obs</th>\n",
       "      <th>d</th>\n",
       "      <th>pval</th>\n",
       "      <th>fwer</th>\n",
       "    </tr>\n",
       "    <tr>\n",
       "      <th>session</th>\n",
       "      <th></th>\n",
       "      <th></th>\n",
       "      <th></th>\n",
       "      <th></th>\n",
       "    </tr>\n",
       "  </thead>\n",
       "  <tbody>\n",
       "    <tr>\n",
       "      <th>1</th>\n",
       "      <td>0.192</td>\n",
       "      <td>1.108</td>\n",
       "      <td>0.0</td>\n",
       "      <td>0.0</td>\n",
       "    </tr>\n",
       "    <tr>\n",
       "      <th>2</th>\n",
       "      <td>0.133</td>\n",
       "      <td>0.899</td>\n",
       "      <td>0.0</td>\n",
       "      <td>0.0</td>\n",
       "    </tr>\n",
       "    <tr>\n",
       "      <th>3</th>\n",
       "      <td>0.142</td>\n",
       "      <td>0.882</td>\n",
       "      <td>0.0</td>\n",
       "      <td>0.0</td>\n",
       "    </tr>\n",
       "  </tbody>\n",
       "</table>\n",
       "</div>"
      ],
      "text/plain": [
       "           obs      d  pval  fwer\n",
       "session                          \n",
       "1        0.192  1.108   0.0   0.0\n",
       "2        0.133  0.899   0.0   0.0\n",
       "3        0.142  0.882   0.0   0.0"
      ]
     },
     "execution_count": 13,
     "metadata": {},
     "output_type": "execute_result"
    }
   ],
   "source": [
    "np.random.seed(47404)\n",
    "\n",
    "## Compute average performance by action type.\n",
    "pivot = data.pivot_table('accuracy', ['session','subject'], 'action')\n",
    "\n",
    "## Compute observed effects.\n",
    "obs = (pivot['go'] - pivot['no-go']).groupby(level=0).median().values\n",
    "\n",
    "## Compute effect sizes.\n",
    "d = (pivot['go'] - pivot['no-go']).groupby(level=0).apply(cohens_d).values\n",
    "\n",
    "## Compute null distribution.\n",
    "null = np.zeros((n_iter, obs.size))\n",
    "for n in tqdm(range(n_iter)):\n",
    "    \n",
    "    ## Permute group assignments.\n",
    "    pivot.loc[:,:] = np.stack(pivot.apply(np.random.permutation, 1).values)\n",
    "    \n",
    "    ## Compute observed effects.\n",
    "    null[n] = (pivot['go'] - pivot['no-go']).groupby(level=0).median().values\n",
    "    \n",
    "## Compute p-values.\n",
    "pval = ((np.abs(obs[np.newaxis,:]) < np.abs(null)).sum(axis=0) + 1) / (n_iter + 1)\n",
    "fwer = ((np.abs(obs[:,np.newaxis]) < np.abs(null).max(axis=1)).sum(axis=1) + 1) / (n_iter + 1)\n",
    "\n",
    "## Report summary.\n",
    "summary = DataFrame(dict(session=sessions, obs=obs, d=d, pval=pval, fwer=fwer))\n",
    "summary.set_index('session').round(3)"
   ]
  },
  {
   "cell_type": "markdown",
   "id": "5fa956c2-1d58-4a17-aac7-a67cc755fded",
   "metadata": {},
   "source": [
    "**Between-session comparisons**"
   ]
  },
  {
   "cell_type": "code",
   "execution_count": 14,
   "id": "dbc3f1c8-3583-4d31-afdd-c8a2b374647d",
   "metadata": {},
   "outputs": [
    {
     "name": "stderr",
     "output_type": "stream",
     "text": [
      "100%|██████████| 5000/5000 [00:16<00:00, 309.54it/s]\n"
     ]
    },
    {
     "data": {
      "text/html": [
       "<div>\n",
       "<style scoped>\n",
       "    .dataframe tbody tr th:only-of-type {\n",
       "        vertical-align: middle;\n",
       "    }\n",
       "\n",
       "    .dataframe tbody tr th {\n",
       "        vertical-align: top;\n",
       "    }\n",
       "\n",
       "    .dataframe thead th {\n",
       "        text-align: right;\n",
       "    }\n",
       "</style>\n",
       "<table border=\"1\" class=\"dataframe\">\n",
       "  <thead>\n",
       "    <tr style=\"text-align: right;\">\n",
       "      <th></th>\n",
       "      <th></th>\n",
       "      <th>obs</th>\n",
       "      <th>d</th>\n",
       "      <th>pval</th>\n",
       "      <th>fwer</th>\n",
       "    </tr>\n",
       "    <tr>\n",
       "      <th>s1</th>\n",
       "      <th>s2</th>\n",
       "      <th></th>\n",
       "      <th></th>\n",
       "      <th></th>\n",
       "      <th></th>\n",
       "    </tr>\n",
       "  </thead>\n",
       "  <tbody>\n",
       "    <tr>\n",
       "      <th rowspan=\"2\" valign=\"top\">1</th>\n",
       "      <th>2</th>\n",
       "      <td>0.050</td>\n",
       "      <td>0.405</td>\n",
       "      <td>0.002</td>\n",
       "      <td>0.005</td>\n",
       "    </tr>\n",
       "    <tr>\n",
       "      <th>3</th>\n",
       "      <td>0.058</td>\n",
       "      <td>0.429</td>\n",
       "      <td>0.002</td>\n",
       "      <td>0.002</td>\n",
       "    </tr>\n",
       "    <tr>\n",
       "      <th>2</th>\n",
       "      <th>3</th>\n",
       "      <td>0.025</td>\n",
       "      <td>0.202</td>\n",
       "      <td>0.147</td>\n",
       "      <td>0.364</td>\n",
       "    </tr>\n",
       "  </tbody>\n",
       "</table>\n",
       "</div>"
      ],
      "text/plain": [
       "         obs      d   pval   fwer\n",
       "s1 s2                            \n",
       "1  2   0.050  0.405  0.002  0.005\n",
       "   3   0.058  0.429  0.002  0.002\n",
       "2  3   0.025  0.202  0.147  0.364"
      ]
     },
     "execution_count": 14,
     "metadata": {},
     "output_type": "execute_result"
    }
   ],
   "source": [
    "np.random.seed(47404)\n",
    "\n",
    "## Compute average performance by action type.\n",
    "pivot = data.pivot_table('accuracy', 'subject', ['action','session'])\n",
    "pivot = pivot['go'] - pivot['no-go']\n",
    "\n",
    "## Compute observed effects.\n",
    "obs = np.array([np.nanmedian(pivot[a] - pivot[b]) for a, b in pairs])\n",
    "\n",
    "## Compute effect sizes.\n",
    "d = np.array([cohens_d(pivot[a] - pivot[b]) for a, b in pairs])\n",
    "\n",
    "## Compute null distribution.\n",
    "null = np.zeros((n_iter, obs.size))\n",
    "for n in tqdm(range(n_iter)):\n",
    "    \n",
    "    ## Permute group assignments.\n",
    "    pivot.loc[:,:] = np.stack(pivot.apply(np.random.permutation, 1).values)\n",
    "    \n",
    "    ## Compute observed effects.\n",
    "    for m, (a, b) in enumerate(pairs):\n",
    "        null[n,m] = np.nanmedian(pivot[a] - pivot[b])\n",
    "        \n",
    "## Compute p-values.\n",
    "pval = ((np.abs(obs[np.newaxis,:]) < np.abs(null)).sum(axis=0) + 1) / (n_iter + 1)\n",
    "fwer = ((np.abs(obs[:,np.newaxis]) < np.abs(null).max(axis=1)).sum(axis=1) + 1) / (n_iter + 1)\n",
    "\n",
    "## Report summary.\n",
    "summary = DataFrame(dict(s1=[a for a, b in pairs], s2=[b for a, b in pairs], \n",
    "                         obs=obs, d=d, pval=pval, fwer=fwer))\n",
    "summary.set_index(['s1','s2']).round(3)"
   ]
  },
  {
   "cell_type": "markdown",
   "id": "d55cd0ac-8aa8-4f70-b39e-8de99e3bb78b",
   "metadata": {},
   "source": [
    "#### 2.2.3 Main effect: outcome valence\n",
    "\n",
    "**Within-session comparisons**"
   ]
  },
  {
   "cell_type": "code",
   "execution_count": 15,
   "id": "20ec4a82-7f03-481d-aa87-8056fb47acdd",
   "metadata": {},
   "outputs": [
    {
     "name": "stderr",
     "output_type": "stream",
     "text": [
      "100%|██████████| 5000/5000 [00:34<00:00, 146.65it/s]\n"
     ]
    },
    {
     "data": {
      "text/html": [
       "<div>\n",
       "<style scoped>\n",
       "    .dataframe tbody tr th:only-of-type {\n",
       "        vertical-align: middle;\n",
       "    }\n",
       "\n",
       "    .dataframe tbody tr th {\n",
       "        vertical-align: top;\n",
       "    }\n",
       "\n",
       "    .dataframe thead th {\n",
       "        text-align: right;\n",
       "    }\n",
       "</style>\n",
       "<table border=\"1\" class=\"dataframe\">\n",
       "  <thead>\n",
       "    <tr style=\"text-align: right;\">\n",
       "      <th></th>\n",
       "      <th>obs</th>\n",
       "      <th>d</th>\n",
       "      <th>pval</th>\n",
       "      <th>fwer</th>\n",
       "    </tr>\n",
       "    <tr>\n",
       "      <th>session</th>\n",
       "      <th></th>\n",
       "      <th></th>\n",
       "      <th></th>\n",
       "      <th></th>\n",
       "    </tr>\n",
       "  </thead>\n",
       "  <tbody>\n",
       "    <tr>\n",
       "      <th>1</th>\n",
       "      <td>-0.025</td>\n",
       "      <td>0.289</td>\n",
       "      <td>0.002</td>\n",
       "      <td>0.008</td>\n",
       "    </tr>\n",
       "    <tr>\n",
       "      <th>2</th>\n",
       "      <td>0.008</td>\n",
       "      <td>0.096</td>\n",
       "      <td>0.236</td>\n",
       "      <td>0.908</td>\n",
       "    </tr>\n",
       "    <tr>\n",
       "      <th>3</th>\n",
       "      <td>0.025</td>\n",
       "      <td>0.337</td>\n",
       "      <td>0.005</td>\n",
       "      <td>0.008</td>\n",
       "    </tr>\n",
       "  </tbody>\n",
       "</table>\n",
       "</div>"
      ],
      "text/plain": [
       "           obs      d   pval   fwer\n",
       "session                            \n",
       "1       -0.025  0.289  0.002  0.008\n",
       "2        0.008  0.096  0.236  0.908\n",
       "3        0.025  0.337  0.005  0.008"
      ]
     },
     "execution_count": 15,
     "metadata": {},
     "output_type": "execute_result"
    }
   ],
   "source": [
    "np.random.seed(47404)\n",
    "\n",
    "## Compute average performance by outcome valence.\n",
    "pivot = data.pivot_table('accuracy', ['session','subject'], 'valence')\n",
    "\n",
    "## Compute observed effects.\n",
    "obs = (pivot['win'] - pivot['lose']).groupby(level=0).median().values\n",
    "\n",
    "## Compute effect sizes.\n",
    "d = (pivot['win'] - pivot['lose']).groupby(level=0).apply(cohens_d).values\n",
    "\n",
    "## Compute null distribution.\n",
    "null = np.zeros((n_iter, obs.size))\n",
    "for n in tqdm(range(n_iter)):\n",
    "    \n",
    "    ## Permute group assignments.\n",
    "    pivot.loc[:,:] = np.stack(pivot.apply(np.random.permutation, 1).values)\n",
    "    \n",
    "    ## Compute observed effects.\n",
    "    null[n] = (pivot['win'] - pivot['lose']).groupby(level=0).median().values\n",
    "    \n",
    "## Compute p-values.\n",
    "pval = ((np.abs(obs[np.newaxis,:]) < np.abs(null)).sum(axis=0) + 1) / (n_iter + 1)\n",
    "fwer = ((np.abs(obs[:,np.newaxis]) < np.abs(null).max(axis=1)).sum(axis=1) + 1) / (n_iter + 1)\n",
    "\n",
    "## Report summary.\n",
    "summary = DataFrame(dict(session=sessions, obs=obs, d=d, pval=pval, fwer=fwer))\n",
    "summary.set_index('session').round(3)"
   ]
  },
  {
   "cell_type": "markdown",
   "id": "f9466e67-56f2-4b2d-b528-deaec0b08c2d",
   "metadata": {},
   "source": [
    "**Between-session comparisons**"
   ]
  },
  {
   "cell_type": "code",
   "execution_count": 16,
   "id": "5d97792b-895b-4277-b5bc-df160660746e",
   "metadata": {},
   "outputs": [
    {
     "name": "stderr",
     "output_type": "stream",
     "text": [
      "100%|██████████| 5000/5000 [00:16<00:00, 307.27it/s]\n"
     ]
    },
    {
     "data": {
      "text/html": [
       "<div>\n",
       "<style scoped>\n",
       "    .dataframe tbody tr th:only-of-type {\n",
       "        vertical-align: middle;\n",
       "    }\n",
       "\n",
       "    .dataframe tbody tr th {\n",
       "        vertical-align: top;\n",
       "    }\n",
       "\n",
       "    .dataframe thead th {\n",
       "        text-align: right;\n",
       "    }\n",
       "</style>\n",
       "<table border=\"1\" class=\"dataframe\">\n",
       "  <thead>\n",
       "    <tr style=\"text-align: right;\">\n",
       "      <th></th>\n",
       "      <th></th>\n",
       "      <th>obs</th>\n",
       "      <th>d</th>\n",
       "      <th>pval</th>\n",
       "      <th>fwer</th>\n",
       "    </tr>\n",
       "    <tr>\n",
       "      <th>s1</th>\n",
       "      <th>s2</th>\n",
       "      <th></th>\n",
       "      <th></th>\n",
       "      <th></th>\n",
       "      <th></th>\n",
       "    </tr>\n",
       "  </thead>\n",
       "  <tbody>\n",
       "    <tr>\n",
       "      <th rowspan=\"2\" valign=\"top\">1</th>\n",
       "      <th>2</th>\n",
       "      <td>-0.033</td>\n",
       "      <td>0.300</td>\n",
       "      <td>0.035</td>\n",
       "      <td>0.094</td>\n",
       "    </tr>\n",
       "    <tr>\n",
       "      <th>3</th>\n",
       "      <td>-0.050</td>\n",
       "      <td>0.450</td>\n",
       "      <td>0.000</td>\n",
       "      <td>0.001</td>\n",
       "    </tr>\n",
       "    <tr>\n",
       "      <th>2</th>\n",
       "      <th>3</th>\n",
       "      <td>-0.008</td>\n",
       "      <td>0.075</td>\n",
       "      <td>0.508</td>\n",
       "      <td>0.867</td>\n",
       "    </tr>\n",
       "  </tbody>\n",
       "</table>\n",
       "</div>"
      ],
      "text/plain": [
       "         obs      d   pval   fwer\n",
       "s1 s2                            \n",
       "1  2  -0.033  0.300  0.035  0.094\n",
       "   3  -0.050  0.450  0.000  0.001\n",
       "2  3  -0.008  0.075  0.508  0.867"
      ]
     },
     "execution_count": 16,
     "metadata": {},
     "output_type": "execute_result"
    }
   ],
   "source": [
    "np.random.seed(47404)\n",
    "\n",
    "## Compute average performance by outcome valence.\n",
    "pivot = data.pivot_table('accuracy', 'subject', ['valence','session'])\n",
    "pivot = pivot['win'] - pivot['lose']\n",
    "\n",
    "## Compute observed effects.\n",
    "obs = np.array([np.nanmedian(pivot[a] - pivot[b]) for a, b in pairs])\n",
    "\n",
    "## Compute effect sizes.\n",
    "d = np.array([cohens_d(pivot[a] - pivot[b]) for a, b in pairs])\n",
    "\n",
    "## Compute null distribution.\n",
    "null = np.zeros((n_iter, obs.size))\n",
    "for n in tqdm(range(n_iter)):\n",
    "    \n",
    "    ## Permute group assignments.\n",
    "    pivot.loc[:,:] = np.stack(pivot.apply(np.random.permutation, 1).values)\n",
    "    \n",
    "    ## Compute observed effects.\n",
    "    for m, (a, b) in enumerate(pairs):\n",
    "        null[n,m] = np.nanmedian(pivot[a] - pivot[b])\n",
    "        \n",
    "## Compute p-values.\n",
    "pval = ((np.abs(obs[np.newaxis,:]) < np.abs(null)).sum(axis=0) + 1) / (n_iter + 1)\n",
    "fwer = ((np.abs(obs[:,np.newaxis]) < np.abs(null).max(axis=1)).sum(axis=1) + 1) / (n_iter + 1)\n",
    "\n",
    "## Report summary.\n",
    "summary = DataFrame(dict(s1=[a for a, b in pairs], s2=[b for a, b in pairs], \n",
    "                         obs=obs, d=d, pval=pval, fwer=fwer))\n",
    "summary.set_index(['s1','s2']).round(3)"
   ]
  },
  {
   "cell_type": "markdown",
   "id": "fcb70399-adfc-4163-8e08-c0f7e044ad3f",
   "metadata": {},
   "source": [
    "#### 2.2.4 Interaction effect: action type X outcome valence\n",
    "\n",
    "**Within-session comparisons**"
   ]
  },
  {
   "cell_type": "code",
   "execution_count": 17,
   "id": "d91f4ab0-8c58-4ad5-9760-0cbd0d69ba14",
   "metadata": {},
   "outputs": [
    {
     "name": "stderr",
     "output_type": "stream",
     "text": [
      "100%|██████████| 5000/5000 [00:33<00:00, 147.66it/s]\n"
     ]
    },
    {
     "data": {
      "text/html": [
       "<div>\n",
       "<style scoped>\n",
       "    .dataframe tbody tr th:only-of-type {\n",
       "        vertical-align: middle;\n",
       "    }\n",
       "\n",
       "    .dataframe tbody tr th {\n",
       "        vertical-align: top;\n",
       "    }\n",
       "\n",
       "    .dataframe thead th {\n",
       "        text-align: right;\n",
       "    }\n",
       "</style>\n",
       "<table border=\"1\" class=\"dataframe\">\n",
       "  <thead>\n",
       "    <tr style=\"text-align: right;\">\n",
       "      <th></th>\n",
       "      <th>obs</th>\n",
       "      <th>d</th>\n",
       "      <th>pval</th>\n",
       "      <th>fwer</th>\n",
       "    </tr>\n",
       "    <tr>\n",
       "      <th>session</th>\n",
       "      <th></th>\n",
       "      <th></th>\n",
       "      <th></th>\n",
       "      <th></th>\n",
       "    </tr>\n",
       "  </thead>\n",
       "  <tbody>\n",
       "    <tr>\n",
       "      <th>1</th>\n",
       "      <td>0.125</td>\n",
       "      <td>1.065</td>\n",
       "      <td>0.0</td>\n",
       "      <td>0.000</td>\n",
       "    </tr>\n",
       "    <tr>\n",
       "      <th>2</th>\n",
       "      <td>0.083</td>\n",
       "      <td>0.843</td>\n",
       "      <td>0.0</td>\n",
       "      <td>0.000</td>\n",
       "    </tr>\n",
       "    <tr>\n",
       "      <th>3</th>\n",
       "      <td>0.075</td>\n",
       "      <td>0.867</td>\n",
       "      <td>0.0</td>\n",
       "      <td>0.001</td>\n",
       "    </tr>\n",
       "  </tbody>\n",
       "</table>\n",
       "</div>"
      ],
      "text/plain": [
       "           obs      d  pval   fwer\n",
       "session                           \n",
       "1        0.125  1.065   0.0  0.000\n",
       "2        0.083  0.843   0.0  0.000\n",
       "3        0.075  0.867   0.0  0.001"
      ]
     },
     "execution_count": 17,
     "metadata": {},
     "output_type": "execute_result"
    }
   ],
   "source": [
    "np.random.seed(47404)\n",
    "\n",
    "## Compute average performance by congruency.\n",
    "data['congruence'] = data.robot.replace({'gw': 'c', 'ngal': 'c', 'ngw': 'i', 'gal': 'i'})\n",
    "pivot = data.pivot_table('accuracy', ['session','subject'], 'congruence')\n",
    "\n",
    "## Compute observed effects.\n",
    "obs = (pivot['c'] - pivot['i']).groupby(level=0).median().values\n",
    "\n",
    "## Compute effect sizes.\n",
    "d = (pivot['c'] - pivot['i']).groupby(level=0).apply(cohens_d).values\n",
    "\n",
    "## Compute null distribution.\n",
    "null = np.zeros((n_iter, obs.size))\n",
    "for n in tqdm(range(n_iter)):\n",
    "    \n",
    "    ## Permute group assignments.\n",
    "    pivot.loc[:,:] = np.stack(pivot.apply(np.random.permutation, 1).values)\n",
    "    \n",
    "    ## Compute observed effects.\n",
    "    null[n] = (pivot['c'] - pivot['i']).groupby(level=0).median().values\n",
    "    \n",
    "## Compute p-values.\n",
    "pval = ((np.abs(obs[np.newaxis,:]) < np.abs(null)).sum(axis=0) + 1) / (n_iter + 1)\n",
    "fwer = ((np.abs(obs[:,np.newaxis]) < np.abs(null).max(axis=1)).sum(axis=1) + 1) / (n_iter + 1)\n",
    "\n",
    "## Report summary.\n",
    "summary = DataFrame(dict(session=sessions, obs=obs, d=d, pval=pval, fwer=fwer))\n",
    "summary.set_index('session').round(3)"
   ]
  },
  {
   "cell_type": "markdown",
   "id": "d6fb131c-3518-4e8b-93f9-2f5944c4ded3",
   "metadata": {},
   "source": [
    "**Between-session comparisons**"
   ]
  },
  {
   "cell_type": "code",
   "execution_count": 18,
   "id": "ea92d87c-abab-418f-bd8a-16f5981a4d98",
   "metadata": {},
   "outputs": [
    {
     "name": "stderr",
     "output_type": "stream",
     "text": [
      "100%|██████████| 5000/5000 [00:17<00:00, 291.24it/s]\n"
     ]
    },
    {
     "data": {
      "text/html": [
       "<div>\n",
       "<style scoped>\n",
       "    .dataframe tbody tr th:only-of-type {\n",
       "        vertical-align: middle;\n",
       "    }\n",
       "\n",
       "    .dataframe tbody tr th {\n",
       "        vertical-align: top;\n",
       "    }\n",
       "\n",
       "    .dataframe thead th {\n",
       "        text-align: right;\n",
       "    }\n",
       "</style>\n",
       "<table border=\"1\" class=\"dataframe\">\n",
       "  <thead>\n",
       "    <tr style=\"text-align: right;\">\n",
       "      <th></th>\n",
       "      <th></th>\n",
       "      <th>obs</th>\n",
       "      <th>d</th>\n",
       "      <th>pval</th>\n",
       "      <th>fwer</th>\n",
       "    </tr>\n",
       "    <tr>\n",
       "      <th>s1</th>\n",
       "      <th>s2</th>\n",
       "      <th></th>\n",
       "      <th></th>\n",
       "      <th></th>\n",
       "      <th></th>\n",
       "    </tr>\n",
       "  </thead>\n",
       "  <tbody>\n",
       "    <tr>\n",
       "      <th rowspan=\"2\" valign=\"top\">1</th>\n",
       "      <th>2</th>\n",
       "      <td>0.042</td>\n",
       "      <td>0.281</td>\n",
       "      <td>0.009</td>\n",
       "      <td>0.028</td>\n",
       "    </tr>\n",
       "    <tr>\n",
       "      <th>3</th>\n",
       "      <td>0.042</td>\n",
       "      <td>0.337</td>\n",
       "      <td>0.011</td>\n",
       "      <td>0.028</td>\n",
       "    </tr>\n",
       "    <tr>\n",
       "      <th>2</th>\n",
       "      <th>3</th>\n",
       "      <td>0.000</td>\n",
       "      <td>0.000</td>\n",
       "      <td>0.847</td>\n",
       "      <td>0.999</td>\n",
       "    </tr>\n",
       "  </tbody>\n",
       "</table>\n",
       "</div>"
      ],
      "text/plain": [
       "         obs      d   pval   fwer\n",
       "s1 s2                            \n",
       "1  2   0.042  0.281  0.009  0.028\n",
       "   3   0.042  0.337  0.011  0.028\n",
       "2  3   0.000  0.000  0.847  0.999"
      ]
     },
     "execution_count": 18,
     "metadata": {},
     "output_type": "execute_result"
    }
   ],
   "source": [
    "np.random.seed(47404)\n",
    "\n",
    "## Compute average performance by congruency.\n",
    "data['congruence'] = data.robot.replace({'gw': 'c', 'ngal': 'c', 'ngw': 'i', 'gal': 'i'})\n",
    "pivot = data.pivot_table('accuracy', 'subject', ['congruence','session'])\n",
    "pivot = pivot['c'] - pivot['i']\n",
    "\n",
    "## Compute observed effects.\n",
    "obs = np.array([np.nanmedian(pivot[a] - pivot[b]) for a, b in pairs])\n",
    "\n",
    "## Compute effect sizes.\n",
    "d = np.array([cohens_d(pivot[a] - pivot[b]) for a, b in pairs])\n",
    "\n",
    "## Compute null distribution.\n",
    "null = np.zeros((n_iter, obs.size))\n",
    "for n in tqdm(range(n_iter)):\n",
    "    \n",
    "    ## Permute group assignments.\n",
    "    pivot.loc[:,:] = np.stack(pivot.apply(np.random.permutation, 1).values)\n",
    "    \n",
    "    ## Compute observed effects.\n",
    "    for m, (a, b) in enumerate(pairs):\n",
    "        null[n,m] = np.nanmedian(pivot[a] - pivot[b])\n",
    "        \n",
    "## Compute p-values.\n",
    "pval = ((np.abs(obs[np.newaxis,:]) < np.abs(null)).sum(axis=0) + 1) / (n_iter + 1)\n",
    "fwer = ((obs[:,np.newaxis] < np.abs(null).max(axis=1)).sum(axis=1) + 1) / (n_iter + 1)\n",
    "\n",
    "## Report summary.\n",
    "summary = DataFrame(dict(s1=[a for a, b in pairs], s2=[b for a, b in pairs], \n",
    "                         obs=obs, d=d, pval=pval, fwer=fwer))\n",
    "summary.set_index(['s1','s2']).round(3)"
   ]
  },
  {
   "cell_type": "markdown",
   "id": "218680d2-eb9a-4c4f-9ef6-5dae27620247",
   "metadata": {},
   "source": [
    "#### 2.2.5 Secondary effect: feedback type \n",
    "\n",
    "**Within-session comparisons**"
   ]
  },
  {
   "cell_type": "code",
   "execution_count": 19,
   "id": "4f7e8f76-98ee-4d01-b1b8-c32b0e39981b",
   "metadata": {},
   "outputs": [
    {
     "name": "stderr",
     "output_type": "stream",
     "text": [
      "100%|██████████| 5000/5000 [00:36<00:00, 137.45it/s]\n"
     ]
    },
    {
     "data": {
      "text/html": [
       "<div>\n",
       "<style scoped>\n",
       "    .dataframe tbody tr th:only-of-type {\n",
       "        vertical-align: middle;\n",
       "    }\n",
       "\n",
       "    .dataframe tbody tr th {\n",
       "        vertical-align: top;\n",
       "    }\n",
       "\n",
       "    .dataframe thead th {\n",
       "        text-align: right;\n",
       "    }\n",
       "</style>\n",
       "<table border=\"1\" class=\"dataframe\">\n",
       "  <thead>\n",
       "    <tr style=\"text-align: right;\">\n",
       "      <th></th>\n",
       "      <th>obs</th>\n",
       "      <th>d</th>\n",
       "      <th>pval</th>\n",
       "      <th>fwer</th>\n",
       "    </tr>\n",
       "    <tr>\n",
       "      <th>session</th>\n",
       "      <th></th>\n",
       "      <th></th>\n",
       "      <th></th>\n",
       "      <th></th>\n",
       "    </tr>\n",
       "  </thead>\n",
       "  <tbody>\n",
       "    <tr>\n",
       "      <th>1</th>\n",
       "      <td>0.282</td>\n",
       "      <td>2.254</td>\n",
       "      <td>0.0</td>\n",
       "      <td>0.0</td>\n",
       "    </tr>\n",
       "    <tr>\n",
       "      <th>2</th>\n",
       "      <td>0.294</td>\n",
       "      <td>2.142</td>\n",
       "      <td>0.0</td>\n",
       "      <td>0.0</td>\n",
       "    </tr>\n",
       "    <tr>\n",
       "      <th>3</th>\n",
       "      <td>0.268</td>\n",
       "      <td>2.267</td>\n",
       "      <td>0.0</td>\n",
       "      <td>0.0</td>\n",
       "    </tr>\n",
       "  </tbody>\n",
       "</table>\n",
       "</div>"
      ],
      "text/plain": [
       "           obs      d  pval  fwer\n",
       "session                          \n",
       "1        0.282  2.254   0.0   0.0\n",
       "2        0.294  2.142   0.0   0.0\n",
       "3        0.268  2.267   0.0   0.0"
      ]
     },
     "execution_count": 19,
     "metadata": {},
     "output_type": "execute_result"
    }
   ],
   "source": [
    "## Define previous exposure.\n",
    "data['prev_sham'] = data.groupby(['subject','session','stimulus']).sham.transform(np.roll, 1)\n",
    "data.loc[data.exposure == 1, 'prev_sham'] = np.nan\n",
    "\n",
    "## Compute average performance by feedback type.\n",
    "pivot = data.pivot_table('accuracy', ['session','subject'], 'prev_sham')\n",
    "\n",
    "## Compute observed effects.\n",
    "obs = (pivot[0] - pivot[1]).groupby(level=0).median().values\n",
    "\n",
    "## Compute effect sizes.\n",
    "d = (pivot[0] - pivot[1]).groupby(level=0).apply(cohens_d).values\n",
    "\n",
    "## Compute null distribution.\n",
    "null = np.zeros((n_iter, obs.size))\n",
    "for n in tqdm(range(n_iter)):\n",
    "    \n",
    "    ## Permute group assignments.\n",
    "    pivot.loc[:,:] = np.stack(pivot.apply(np.random.permutation, 1).values)\n",
    "    \n",
    "    ## Compute observed effects.\n",
    "    null[n] = (pivot[0] - pivot[1]).groupby(level=0).median().values\n",
    "    \n",
    "## Compute p-values.\n",
    "pval = ((np.abs(obs[np.newaxis,:]) < np.abs(null)).sum(axis=0) + 1) / (n_iter + 1)\n",
    "fwer = ((np.abs(obs[:,np.newaxis]) < np.abs(null).max(axis=1)).sum(axis=1) + 1) / (n_iter + 1)\n",
    "\n",
    "## Report summary.\n",
    "summary = DataFrame(dict(session=sessions, obs=obs, d=d, pval=pval, fwer=fwer))\n",
    "summary.set_index('session').round(3)"
   ]
  },
  {
   "cell_type": "markdown",
   "id": "be59c6c1-77a0-4a24-8661-2f8c197aa62a",
   "metadata": {},
   "source": [
    "**Between-session comparisons**"
   ]
  },
  {
   "cell_type": "code",
   "execution_count": 20,
   "id": "6b329f44-4b48-4417-afa3-2e693f58b83a",
   "metadata": {},
   "outputs": [
    {
     "name": "stderr",
     "output_type": "stream",
     "text": [
      "100%|██████████| 5000/5000 [00:17<00:00, 283.68it/s]\n"
     ]
    },
    {
     "data": {
      "text/html": [
       "<div>\n",
       "<style scoped>\n",
       "    .dataframe tbody tr th:only-of-type {\n",
       "        vertical-align: middle;\n",
       "    }\n",
       "\n",
       "    .dataframe tbody tr th {\n",
       "        vertical-align: top;\n",
       "    }\n",
       "\n",
       "    .dataframe thead th {\n",
       "        text-align: right;\n",
       "    }\n",
       "</style>\n",
       "<table border=\"1\" class=\"dataframe\">\n",
       "  <thead>\n",
       "    <tr style=\"text-align: right;\">\n",
       "      <th></th>\n",
       "      <th></th>\n",
       "      <th>obs</th>\n",
       "      <th>d</th>\n",
       "      <th>pval</th>\n",
       "      <th>fwer</th>\n",
       "    </tr>\n",
       "    <tr>\n",
       "      <th>s1</th>\n",
       "      <th>s2</th>\n",
       "      <th></th>\n",
       "      <th></th>\n",
       "      <th></th>\n",
       "      <th></th>\n",
       "    </tr>\n",
       "  </thead>\n",
       "  <tbody>\n",
       "    <tr>\n",
       "      <th rowspan=\"2\" valign=\"top\">1</th>\n",
       "      <th>2</th>\n",
       "      <td>0.017</td>\n",
       "      <td>0.139</td>\n",
       "      <td>0.295</td>\n",
       "      <td>0.643</td>\n",
       "    </tr>\n",
       "    <tr>\n",
       "      <th>3</th>\n",
       "      <td>0.008</td>\n",
       "      <td>0.057</td>\n",
       "      <td>0.619</td>\n",
       "      <td>0.937</td>\n",
       "    </tr>\n",
       "    <tr>\n",
       "      <th>2</th>\n",
       "      <th>3</th>\n",
       "      <td>0.021</td>\n",
       "      <td>0.132</td>\n",
       "      <td>0.196</td>\n",
       "      <td>0.461</td>\n",
       "    </tr>\n",
       "  </tbody>\n",
       "</table>\n",
       "</div>"
      ],
      "text/plain": [
       "         obs      d   pval   fwer\n",
       "s1 s2                            \n",
       "1  2   0.017  0.139  0.295  0.643\n",
       "   3   0.008  0.057  0.619  0.937\n",
       "2  3   0.021  0.132  0.196  0.461"
      ]
     },
     "execution_count": 20,
     "metadata": {},
     "output_type": "execute_result"
    }
   ],
   "source": [
    "np.random.seed(47404)\n",
    "\n",
    "## Compute average performance by feedback type.\n",
    "pivot = data.pivot_table('accuracy', 'subject', ['prev_sham','session'])\n",
    "pivot = pivot[0] - pivot[1]\n",
    "\n",
    "## Compute observed effects.\n",
    "obs = np.array([np.nanmedian(pivot[a] - pivot[b]) for a, b in pairs])\n",
    "\n",
    "## Compute effect sizes.\n",
    "d = np.array([cohens_d(pivot[a] - pivot[b]) for a, b in pairs])\n",
    "\n",
    "## Compute null distribution.\n",
    "null = np.zeros((n_iter, obs.size))\n",
    "for n in tqdm(range(n_iter)):\n",
    "    \n",
    "    ## Permute group assignments.\n",
    "    pivot.loc[:,:] = np.stack(pivot.apply(np.random.permutation, 1).values)\n",
    "    \n",
    "    ## Compute observed effects.\n",
    "    for m, (a, b) in enumerate(pairs):\n",
    "        null[n,m] = np.nanmedian(pivot[a] - pivot[b])\n",
    "        \n",
    "## Compute p-values.\n",
    "pval = ((np.abs(obs[np.newaxis,:]) < np.abs(null)).sum(axis=0) + 1) / (n_iter + 1)\n",
    "fwer = ((np.abs(obs[:,np.newaxis]) < np.abs(null).max(axis=1)).sum(axis=1) + 1) / (n_iter + 1)\n",
    "\n",
    "## Report summary.\n",
    "summary = DataFrame(dict(s1=[a for a, b in pairs], s2=[b for a, b in pairs], \n",
    "                         obs=obs, d=d, pval=pval, fwer=fwer))\n",
    "summary.set_index(['s1','s2']).round(3)"
   ]
  },
  {
   "cell_type": "markdown",
   "id": "57ddf03e-0060-46b1-aae9-30ba31f3f9e2",
   "metadata": {},
   "source": [
    "#### 2.2.6 Secondary effect: font type\n",
    "\n",
    "**Overall accuracy**"
   ]
  },
  {
   "cell_type": "code",
   "execution_count": 21,
   "id": "7f207c65-c1a7-4a6c-b675-53d28e65e7ef",
   "metadata": {},
   "outputs": [
    {
     "name": "stderr",
     "output_type": "stream",
     "text": [
      "100%|██████████| 5000/5000 [00:38<00:00, 131.18it/s]\n"
     ]
    },
    {
     "data": {
      "text/html": [
       "<div>\n",
       "<style scoped>\n",
       "    .dataframe tbody tr th:only-of-type {\n",
       "        vertical-align: middle;\n",
       "    }\n",
       "\n",
       "    .dataframe tbody tr th {\n",
       "        vertical-align: top;\n",
       "    }\n",
       "\n",
       "    .dataframe thead th {\n",
       "        text-align: right;\n",
       "    }\n",
       "</style>\n",
       "<table border=\"1\" class=\"dataframe\">\n",
       "  <thead>\n",
       "    <tr style=\"text-align: right;\">\n",
       "      <th></th>\n",
       "      <th></th>\n",
       "      <th>obs</th>\n",
       "      <th>pval</th>\n",
       "      <th>fwer</th>\n",
       "    </tr>\n",
       "    <tr>\n",
       "      <th>s1</th>\n",
       "      <th>s2</th>\n",
       "      <th></th>\n",
       "      <th></th>\n",
       "      <th></th>\n",
       "    </tr>\n",
       "  </thead>\n",
       "  <tbody>\n",
       "    <tr>\n",
       "      <th rowspan=\"2\" valign=\"top\">bacs1</th>\n",
       "      <th>bacs2</th>\n",
       "      <td>0.004</td>\n",
       "      <td>0.817</td>\n",
       "      <td>0.953</td>\n",
       "    </tr>\n",
       "    <tr>\n",
       "      <th>elianto</th>\n",
       "      <td>-0.002</td>\n",
       "      <td>0.901</td>\n",
       "      <td>0.976</td>\n",
       "    </tr>\n",
       "    <tr>\n",
       "      <th>bacs2</th>\n",
       "      <th>elianto</th>\n",
       "      <td>-0.006</td>\n",
       "      <td>0.765</td>\n",
       "      <td>0.937</td>\n",
       "    </tr>\n",
       "  </tbody>\n",
       "</table>\n",
       "</div>"
      ],
      "text/plain": [
       "                 obs   pval   fwer\n",
       "s1    s2                          \n",
       "bacs1 bacs2    0.004  0.817  0.953\n",
       "      elianto -0.002  0.901  0.976\n",
       "bacs2 elianto -0.006  0.765  0.937"
      ]
     },
     "execution_count": 21,
     "metadata": {},
     "output_type": "execute_result"
    }
   ],
   "source": [
    "np.random.seed(47404)\n",
    "\n",
    "## Define pairs.\n",
    "pairs = list(combinations(['bacs1','bacs2','elianto'], 2))\n",
    "\n",
    "## Compute average performance by feedback type.\n",
    "pivot = data.pivot_table('accuracy', ['session','subject'], 'rune_set')\n",
    "\n",
    "## Compute observed effects.\n",
    "obs = np.array([pivot[a].median() - pivot[b].median() for a, b in pairs])\n",
    "\n",
    "## Compute null distribution.\n",
    "null = np.zeros((n_iter, obs.size))\n",
    "for n in tqdm(range(n_iter)):\n",
    "    \n",
    "    ## Permute group assignments.\n",
    "    pivot.loc[:,:] = np.stack(pivot.apply(np.random.permutation, 1).values)\n",
    "    \n",
    "    ## Compute observed effects.\n",
    "    for m, (a, b) in enumerate(pairs):\n",
    "        null[n,m] = pivot[a].median() - pivot[b].median()\n",
    "    \n",
    "## Compute p-values.\n",
    "pval = ((np.abs(obs[np.newaxis,:]) < np.abs(null)).sum(axis=0) + 1) / (n_iter + 1)\n",
    "fwer = ((np.abs(obs[:,np.newaxis]) < np.abs(null).max(axis=1)).sum(axis=1) + 1) / (n_iter + 1)\n",
    "\n",
    "## Report summary.\n",
    "summary = DataFrame(dict(s1=[a for a, b in pairs], s2=[b for a, b in pairs], \n",
    "                         obs=obs, pval=pval, fwer=fwer))\n",
    "summary.set_index(['s1','s2']).round(3)"
   ]
  },
  {
   "cell_type": "markdown",
   "id": "df016a4a-b2d7-40ba-b58d-5f2ccd0d2ba2",
   "metadata": {},
   "source": [
    "### 2.3 Individual-differences"
   ]
  },
  {
   "cell_type": "code",
   "execution_count": 22,
   "id": "db9b5344-2799-462f-a152-f23d2d9af179",
   "metadata": {},
   "outputs": [
    {
     "data": {
      "image/png": "[encoded data removed]",
      "text/plain": [
       "<Figure size 720x216 with 4 Axes>"
      ]
     },
     "metadata": {
      "needs_background": "light"
     },
     "output_type": "display_data"
    }
   ],
   "source": [
    "## Compute accuracy by participant / session / condition.\n",
    "gb = data.groupby(['subject','session','robot']).accuracy.mean().reset_index()\n",
    "\n",
    "## Score performance into top five deciles.\n",
    "gb['score'] = np.digitize(gb.accuracy, np.arange(0.6,1.0,0.1))\n",
    "\n",
    "## Calculate proportion of participants in each bin.\n",
    "gb = gb.groupby(['robot','session','score']).subject.count().reset_index()\n",
    "gb['prop'] = gb.groupby(['robot','session']).subject.transform(lambda x: x / x.sum())\n",
    "gb['cumprop'] = gb.groupby(['robot','session']).prop.transform(np.cumsum)\n",
    "\n",
    "## Initialize canvas.\n",
    "fig, axes = plt.subplots(1, 4, figsize=(10,3))\n",
    "palette = sns.color_palette('crest_r', n_colors=gb.score.nunique()).as_hex()\n",
    "palette = ['#234f81', '#4c658c', '#6d7b96', '#8d93a1', '#ababab']\n",
    "\n",
    "## Iteratively plot.\n",
    "for i, (ax, robot) in enumerate(zip(axes, ['gw','gal','ngw','ngal'])):\n",
    "\n",
    "    ## Stacked barchart. \n",
    "    for score, color in zip(np.unique(gb.score)[::-1], palette):    \n",
    "    \n",
    "        ## Plot scores.\n",
    "        q = f'robot == \"{robot}\" and score == {score}'\n",
    "        sns.barplot(x='cumprop', y='session', data=gb.query(q), order=[1,2,3], \n",
    "                    palette=np.repeat(color, 4), orient='h', ax=ax)\n",
    "    \n",
    "    ## Annotations.\n",
    "    # for y, session in enumerate([1,2,3]):\n",
    "    #     try: v = gb.set_index(['robot','session','score']).loc[(robot,session,4)].prop\n",
    "    #     except KeyError: v = 1\n",
    "    #     ax.annotate('%0.1f%%' %(v*1e2), (0,0), (1-v/2, y), ha='center', va='center',\n",
    "    #                 color='w', fontsize=10)\n",
    "    \n",
    "    ## Adjust x-axis.\n",
    "    ax.set(xlim=(0,1), xticks=np.linspace(0,1,6))\n",
    "    ax.set_xticklabels(['%0.0f%%' %p for p in np.linspace(0,1e2,6)], fontsize=9, color='0.3')\n",
    "    ax.set_xlabel('Percent of sample', fontsize=9, color='0.3')\n",
    "\n",
    "    ## Adjust y-axis.\n",
    "    ax.set(ylabel='', yticks=np.arange(3), yticklabels=[])\n",
    "    if not i: ax.set_yticklabels(['Day 0', 'Day 3', 'Day 14'], ha='right',\n",
    "                                 fontsize=11, color='0.3')\n",
    "    \n",
    "    ## Adjust title.\n",
    "    ax.set_title(robot.upper(), fontsize=14, color='0.3')\n",
    "    \n",
    "    ## Modify ax spines.\n",
    "    ax.yaxis.set_tick_params(pad=1)\n",
    "    ax.spines['bottom'].set(linewidth=1, color='0.3')\n",
    "    ax.tick_params(bottom=True, left=False, color='0.3', length=4, width=1)\n",
    "    sns.despine(ax=ax, left=True, right=True, top=True, bottom=False)\n",
    "    \n",
    "plt.tight_layout()"
   ]
  },
  {
   "cell_type": "code",
   "execution_count": 23,
   "id": "911a6243-0e27-4c7e-b912-ae96c93fc848",
   "metadata": {},
   "outputs": [
    {
     "name": "stdout",
     "output_type": "stream",
     "text": [
      "gw\tx2(df=4) = 1.163 (p = 0.884)\n",
      "ngw\tx2(df=4) = 13.343 (p = 0.010)\n",
      "gal\tx2(df=4) = 6.499 (p = 0.165)\n",
      "ngal\tx2(df=4) = 5.097 (p = 0.278)\n"
     ]
    }
   ],
   "source": [
    "from scipy.stats import chi2_contingency\n",
    "\n",
    "## Compute accuracy by participant / session / condition.\n",
    "gb = data.groupby(['subject','session','robot']).accuracy.mean().reset_index()\n",
    "\n",
    "## Score performance into top five deciles.\n",
    "gb['score'] = np.digitize(gb.accuracy, [0.6,0.9])\n",
    "\n",
    "## Calculate proportion of participants in each bin.\n",
    "pivot = gb.pivot_table('subject', ['robot','score'], 'session', aggfunc='count').fillna(0)\n",
    "\n",
    "for robot in ['gw','ngw','gal','ngal']:\n",
    "    chi2, pval, dof, _ = chi2_contingency(pivot.loc[robot])\n",
    "    print('%s\\tx2(df=%s) = %0.3f (p = %0.3f)' %(robot, dof, chi2, pval))"
   ]
  },
  {
   "cell_type": "code",
   "execution_count": null,
   "id": "f19f9bcc-9422-4f03-99ee-861a26761451",
   "metadata": {},
   "outputs": [],
   "source": []
  }
 ],
 "metadata": {
  "kernelspec": {
   "display_name": "Python 3",
   "language": "python",
   "name": "python3"
  },
  "language_info": {
   "codemirror_mode": {
    "name": "ipython",
    "version": 3
   },
   "file_extension": ".py",
   "mimetype": "text/x-python",
   "name": "python",
   "nbconvert_exporter": "python",
   "pygments_lexer": "ipython3",
   "version": "3.9.12"
  }
 },
 "nbformat": 4,
 "nbformat_minor": 5
}
