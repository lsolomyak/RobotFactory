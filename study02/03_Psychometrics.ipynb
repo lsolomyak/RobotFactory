{
 "cells": [
  {
   "cell_type": "code",
   "execution_count": 1,
   "id": "sharing-heating",
   "metadata": {},
   "outputs": [],
   "source": [
    "import os\n",
    "import numpy as np\n",
    "import matplotlib.pyplot as plt\n",
    "import seaborn as sns\n",
    "from pandas import read_csv, concat\n",
    "%matplotlib inline"
   ]
  },
  {
   "cell_type": "markdown",
   "id": "running-combine",
   "metadata": {},
   "source": [
    "## Descriptive Analysis (Logistic Regression)"
   ]
  },
  {
   "cell_type": "markdown",
   "id": "appointed-group",
   "metadata": {},
   "source": [
    "#### Diagnostics"
   ]
  },
  {
   "cell_type": "code",
   "execution_count": 3,
   "id": "radio-value",
   "metadata": {},
   "outputs": [
    {
     "name": "stdout",
     "output_type": "stream",
     "text": [
      "logit_trt_s3_m2\t  N = 1\n",
      "logit_trt_s3_m3\t  N = 2\n"
     ]
    }
   ],
   "source": [
    "## Define I/O parameters.\n",
    "stan_models = ['logit_sh', 'logit_trt']\n",
    "sessions = [1,2,3]\n",
    "models = [1,2,3]\n",
    "\n",
    "for stan_model in stan_models:\n",
    "    \n",
    "    for s in sessions:\n",
    "        \n",
    "        for m in models:\n",
    "            \n",
    "            ## Load summary file.\n",
    "            f = os.path.join('stan_results', 'logit', f'{stan_model}_s{s}_m{m}_summary.tsv')\n",
    "            df = read_csv(f, sep='\\t', index_col='name')\n",
    "            \n",
    "            if np.any(df.query('R_hat > 1.01')):\n",
    "                print(f'{stan_model}_s{s}_m{m}\\t  N =', df.query('R_hat > 1.01').shape[0])"
   ]
  },
  {
   "cell_type": "markdown",
   "id": "spatial-glenn",
   "metadata": {},
   "source": [
    "#### Split-Half Reliability"
   ]
  },
  {
   "cell_type": "code",
   "execution_count": null,
   "id": "ordinary-effectiveness",
   "metadata": {},
   "outputs": [],
   "source": [
    "## Define I/O parameters.\n",
    "stan_model = 'logit_sh'\n",
    "sessions = [1,2,3]\n",
    "models = [1,2,3]\n",
    "\n",
    "## \n",
    "data = []\n",
    "for s, m in [(s,m) for s in sessions for m in models]:\n",
    "    \n",
    "    ## Load summary file.\n",
    "    f = os.path.join('stan_results', 'logit', f'{stan_model}_s{s}_m{m}_summary.tsv')\n",
    "    df = read_csv(f, sep='\\t', index_col='name')\n",
    "    \n",
    "    ## Extract ICCs.\n",
    "    rho = df.T.filter(regex='rho').T.filter(regex='%')\n",
    "    \n",
    "    ## Add metadata. Append.\n",
    "    rho.insert(0, 'model', m)\n",
    "    rho.insert(1, 'session', s)\n",
    "    data.append(rho)\n",
    "    \n",
    "## Concatenate DataFrames.\n",
    "data = concat(data).reset_index()\n",
    "\n",
    "## Initialize canvas.\n",
    "g = sns.FacetGrid(data, row='model', col='session', height=2.5, aspect=1.25)\n",
    "\n",
    "## Plot ICCs.\n",
    "g.map(sns.barplot, 'name', '50%', order=data.name.unique())\n",
    "\n",
    "## Add markers.\n",
    "for ax in g.axes.flatten():\n",
    "    ax.axhline(0.0, lw=1.5, color='0.0')\n",
    "    ax.axhline(0.7, lw=0.8, color='0.5', linestyle='--')\n",
    "\n",
    "## Add detail.\n",
    "g.set(ylim=(-0.2,1.0))"
   ]
  },
  {
   "cell_type": "markdown",
   "id": "dying-stack",
   "metadata": {},
   "source": [
    "#### Test-Retest Reliability"
   ]
  },
  {
   "cell_type": "code",
   "execution_count": 4,
   "id": "genetic-duncan",
   "metadata": {},
   "outputs": [
    {
     "data": {
      "text/plain": [
       "<seaborn.axisgrid.FacetGrid at 0x7fe005295c90>"
      ]
     },
     "execution_count": 4,
     "metadata": {},
     "output_type": "execute_result"
    },
    {
     "data": {
      "image/png": "[encoded data removed]",
      "text/plain": [
       "<Figure size 675x540 with 9 Axes>"
      ]
     },
     "metadata": {
      "needs_background": "light"
     },
     "output_type": "display_data"
    }
   ],
   "source": [
    "## Define I/O parameters.\n",
    "stan_model = 'logit_trt'\n",
    "sessions = [1,2,3]\n",
    "models = [1,2,3]\n",
    "\n",
    "## \n",
    "data = []\n",
    "for s, m in [(s,m) for s in sessions for m in models]:\n",
    "    \n",
    "    ## Load summary file.\n",
    "    f = os.path.join('stan_results', 'logit', f'{stan_model}_s{s}_m{m}_summary.tsv')\n",
    "    df = read_csv(f, sep='\\t', index_col='name')\n",
    "    \n",
    "    ## Extract ICCs.\n",
    "    rho = df.T.filter(regex='rho').T.filter(regex='%')\n",
    "    \n",
    "    ## Add metadata. Append.\n",
    "    rho.insert(0, 'model', m)\n",
    "    rho.insert(1, 'session', s)\n",
    "    data.append(rho)\n",
    "    \n",
    "## Concatenate DataFrames.\n",
    "data = concat(data).reset_index()\n",
    "\n",
    "## Initialize canvas.\n",
    "g = sns.FacetGrid(data, row='model', col='session', height=2.5, aspect=1.25)\n",
    "\n",
    "## Plot ICCs.\n",
    "g.map(sns.barplot, 'name', '50%', order=data.name.unique())\n",
    "\n",
    "## Add markers.\n",
    "for ax in g.axes.flatten():\n",
    "    ax.axhline(0.0, lw=1.5, color='0.0')\n",
    "    ax.axhline(0.7, lw=0.8, color='0.5', linestyle='--')\n",
    "\n",
    "## Add detail.\n",
    "g.set(ylim=(-0.2,1.0))"
   ]
  }
 ],
 "metadata": {
  "kernelspec": {
   "display_name": "Python 3",
   "language": "python",
   "name": "python3"
  },
  "language_info": {
   "codemirror_mode": {
    "name": "ipython",
    "version": 3
   },
   "file_extension": ".py",
   "mimetype": "text/x-python",
   "name": "python",
   "nbconvert_exporter": "python",
   "pygments_lexer": "ipython3",
   "version": "3.7.9"
  }
 },
 "nbformat": 4,
 "nbformat_minor": 5
}
