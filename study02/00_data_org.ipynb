{
 "cells": [
  {
   "cell_type": "code",
   "execution_count": 1,
   "metadata": {},
   "outputs": [],
   "source": [
    "import numpy as np\n",
    "import pandas as pd\n",
    "from pandas import read_csv\n",
    "import json\n",
    "\n",
    "import os, sys\n",
    "from os.path import dirname\n",
    "\n",
    "\n",
    "ROOT_DIR = '.'\n"
   ]
  },
  {
   "cell_type": "code",
   "execution_count": null,
   "metadata": {},
   "outputs": [],
   "source": []
  },
  {
   "cell_type": "code",
   "execution_count": 2,
   "metadata": {},
   "outputs": [],
   "source": [
    "#import data\n",
    "raw_data = read_csv(os.path.join(ROOT_DIR,'data','data.csv'))\n",
    "data = raw_data.copy()\n",
    "\n",
    "# data rejections\n",
    "reject = read_csv(os.path.join(ROOT_DIR,'data','reject.csv'))\n",
    "data = data[data.subject.isin(reject.query('reject==0').subject)]\n",
    "\n",
    "## Sort data.\n",
    "f = lambda x: x.subject + '_' + x.rune\n",
    "data['stimulus'] = np.unique(data.apply(f, 1), return_inverse=True)[-1] + 1\n",
    "data = data.sort_values(['stimulus','exposure']).reset_index(drop=True)\n",
    "\n",
    "data['outcome'] = data.outcome.replace({10:1, 1:0, -1:1, -10:0})\n",
    "data['valence'] = data.valence.replace({'win':1, 'lose':0})\n",
    "\n",
    "cols_trt = ['session','stimulus']\n",
    "cols_ic = ['block','stimulus']\n",
    "\n"
   ]
  },
  {
   "cell_type": "code",
   "execution_count": 11,
   "metadata": {},
   "outputs": [
    {
     "name": "stdout",
     "output_type": "stream",
     "text": [
      "2328\n",
      "12\n"
     ]
    },
    {
     "data": {
      "text/plain": [
       "array([ 1,  1,  1, ..., 97, 97, 97])"
      ]
     },
     "execution_count": 11,
     "metadata": {},
     "output_type": "execute_result"
    }
   ],
   "source": [
    "data_i = data[data.session == 2]\n",
    "## Define metadata.\n",
    "print(data_i.stimulus.nunique())\n",
    "print(data_i.exposure.nunique())\n",
    "np.unique(data_i[data_i.exposure==1].subject, return_inverse=True)[-1] + 1"
   ]
  },
  {
   "cell_type": "code",
   "execution_count": 4,
   "metadata": {},
   "outputs": [
    {
     "name": "stderr",
     "output_type": "stream",
     "text": [
      "/usr/people/gk9567/.local/lib/python3.7/site-packages/ipykernel_launcher.py:20: RuntimeWarning: invalid value encountered in less\n"
     ]
    },
    {
     "name": "stdout",
     "output_type": "stream",
     "text": [
      "12 2640\n",
      "(12, 2640)\n",
      "(12, 2640)\n",
      "(12, 2640)\n",
      "(12, 2640)\n",
      "12 2328\n",
      "(12, 2328)\n",
      "(12, 2328)\n",
      "(12, 2328)\n",
      "(12, 2328)\n",
      "12 2376\n",
      "(12, 2376)\n",
      "(12, 2376)\n",
      "(12, 2376)\n",
      "(12, 2376)\n"
     ]
    }
   ],
   "source": [
    "## data\n",
    "for i in [1,2,3]:\n",
    "    data_i = data[data.session == i]\n",
    "    ## Define metadata.\n",
    "    N = data_i.stimulus.nunique()\n",
    "    E = data_i.exposure.nunique()\n",
    "    S = np.unique(data_i[data_i.exposure==1].subject, return_inverse=True)[-1] + 1\n",
    "\n",
    "    ## Prepare task variables.\n",
    "    R = data_i.pivot_table('outcome','exposure','stimulus').fillna(0).values\n",
    "\n",
    "    ## Prepare response variables.\n",
    "    Y = data_i.pivot_table('choice','exposure','stimulus').fillna(0).values.astype(int)\n",
    "\n",
    "    ## Prepare valance variables.\n",
    "\n",
    "    V = data_i.pivot_table('valence','exposure','stimulus').fillna(0).values.astype(int)\n",
    "    \n",
    "    C = data_i.pivot_table('choice','exposure','stimulus').notnull().values.astype(int)\n",
    "    C = np.where(data_i.pivot_table('rt','exposure','stimulus',dropna=False).values < 0.2, 0, C)\n",
    "\n",
    "    #print sanity check\n",
    "    print(E,N)\n",
    "    print(R.shape)\n",
    "    print(Y.shape)\n",
    "    print(V.shape)\n",
    "    print(C.shape)\n",
    "\n",
    "    model_data = dict(N=N, \n",
    "                  E=E, \n",
    "                  C=C.tolist(),\n",
    "                  S=S.tolist(), \n",
    "                  Y=Y.tolist(), \n",
    "                  V=V.tolist(),\n",
    "                  R=R.tolist())\n",
    "\n",
    "#     json_data = json.dumps(model_data)\n",
    "\n",
    "#     f = open(\"stan_data/s{}_data.json\".format(i),\"w\")\n",
    "#     f.write(json_data)\n",
    "#     f.close()\n",
    "    \n",
    "#     data_i.to_csv(\"stan_data/s{}_dataframe.csv\".format(i), index=False)"
   ]
  },
  {
   "cell_type": "code",
   "execution_count": 3,
   "metadata": {},
   "outputs": [],
   "source": [
    "########### reliability"
   ]
  },
  {
   "cell_type": "code",
   "execution_count": 13,
   "metadata": {},
   "outputs": [
    {
     "name": "stderr",
     "output_type": "stream",
     "text": [
      "/jukebox/pkgs/ANACONDAPY/5.3.1/lib/python3.7/site-packages/pandas/core/indexing.py:543: SettingWithCopyWarning: \n",
      "A value is trying to be set on a copy of a slice from a DataFrame.\n",
      "Try using .loc[row_indexer,col_indexer] = value instead\n",
      "\n",
      "See the caveats in the documentation: http://pandas.pydata.org/pandas-docs/stable/indexing.html#indexing-view-versus-copy\n",
      "  self.obj[item] = s\n",
      "/usr/people/gk9567/.local/lib/python3.7/site-packages/ipykernel_launcher.py:7: SettingWithCopyWarning: \n",
      "A value is trying to be set on a copy of a slice from a DataFrame\n",
      "\n",
      "See the caveats in the documentation: http://pandas.pydata.org/pandas-docs/stable/indexing.html#indexing-view-versus-copy\n",
      "  import sys\n"
     ]
    }
   ],
   "source": [
    "## Restrict to participants with all data available.\n",
    "data_trt = data.groupby('subject').filter(lambda x: x.session.nunique() == 3)\n",
    "\n",
    "## Sort data.\n",
    "f = lambda x: x.subject + '_' + str(x.session) + '_' + x.rune\n",
    "data_trt.loc[:,'stimulus'] = np.unique(data_trt.apply(f, 1), return_inverse=True)[-1] + 1\n",
    "data_trt.sort_values(['stimulus','exposure'], inplace=True)\n",
    "data_trt.reset_index(drop=True, inplace=True)"
   ]
  },
  {
   "cell_type": "code",
   "execution_count": 93,
   "metadata": {},
   "outputs": [
    {
     "name": "stdout",
     "output_type": "stream",
     "text": [
      "12\n",
      "12\n",
      "12\n"
     ]
    }
   ],
   "source": [
    "for i,j in [[1,2],[2,3],[1,3]]:\n",
    "    data_ij = data_trt.query('session == {} or session == {}'.format(i,j))\n",
    "    \n",
    "    ## Define metadata.\n",
    "    N = data_ij.stimulus.nunique() \n",
    "    E = data_ij.exposure.nunique()\n",
    "    print(E)"
   ]
  },
  {
   "cell_type": "code",
   "execution_count": 88,
   "metadata": {},
   "outputs": [
    {
     "name": "stderr",
     "output_type": "stream",
     "text": [
      "/usr/people/gk9567/.local/lib/python3.7/site-packages/ipykernel_launcher.py:22: RuntimeWarning: invalid value encountered in less\n"
     ]
    },
    {
     "name": "stdout",
     "output_type": "stream",
     "text": [
      "12 4368\n",
      "(4368,)\n",
      "(12, 4368)\n",
      "(12, 4368)\n",
      "(12, 4368)\n",
      "(12, 4368)\n",
      "12 4368\n",
      "(4368,)\n",
      "(12, 4368)\n",
      "(12, 4368)\n",
      "(12, 4368)\n",
      "(12, 4368)\n",
      "12 4368\n",
      "(4368,)\n",
      "(12, 4368)\n",
      "(12, 4368)\n",
      "(12, 4368)\n",
      "(12, 4368)\n"
     ]
    }
   ],
   "source": [
    "## test retest\n",
    "for i,j in [[1,2],[2,3],[1,3]]:\n",
    "    data_ij = data_trt.query('session == {} or session == {}'.format(i,j))\n",
    "    \n",
    "    ## Define metadata.\n",
    "    N = data_ij.stimulus.nunique() \n",
    "    E = data_ij.exposure.nunique()\n",
    "    S = np.unique(data_ij.query(f'exposure==1').subject, return_inverse=True)[-1] + 1\n",
    "    M = np.unique(data_ij.query(f'exposure==1').session, return_inverse=True)[-1] + 1\n",
    "\n",
    "\n",
    "    ## Prepare task variables.\n",
    "    R = data_ij.pivot_table('outcome','exposure', cols_trt).fillna(0).values.reshape(E,1,N).astype(int).swapaxes(0,1)[0]\n",
    "\n",
    "    ## Prepare response variables.\n",
    "    Y = data_ij.pivot_table('choice','exposure', cols_trt).fillna(0).values.reshape(E,1,N).astype(int).swapaxes(0,1)[0]\n",
    "\n",
    "    ## Prepare valance variables.\n",
    "    V = data_ij.pivot_table('valence','exposure',cols_trt).fillna(0).values.reshape(E,1,N).swapaxes(0,1)[0]\n",
    "    \n",
    "    C = data_ij.fillna(99).pivot_table('rt','exposure',cols_trt).values.reshape(E,1,N).swapaxes(0,1)[0]\n",
    "    C = np.invert(np.logical_or(np.isnan(C), C < 0.2)).astype(int)\n",
    "\n",
    "    #print sanity check\n",
    "    print(E,N)\n",
    "    print(S.shape)\n",
    "    print(R.shape)\n",
    "    print(Y.shape)\n",
    "    print(V.shape)\n",
    "    print(C.shape)\n",
    "\n",
    "    model_data = dict(N=N, \n",
    "                  E=E, \n",
    "                  C=C.tolist(),\n",
    "                  S=S.tolist(), \n",
    "                  M=M.tolist(), \n",
    "                  Y=Y.tolist(), \n",
    "                  V=V.tolist(),\n",
    "                  R=R.tolist())\n",
    "\n",
    "    \n",
    "#     json_data = json.dumps(model_data)\n",
    "\n",
    "#     f = open(\"stan_data/trt_{}_{}_data.json\".format(i,j),\"w\")\n",
    "#     f.write(json_data)\n",
    "#     f.close()    \n",
    "    "
   ]
  },
  {
   "cell_type": "code",
   "execution_count": null,
   "metadata": {},
   "outputs": [],
   "source": [
    "### split half"
   ]
  },
  {
   "cell_type": "code",
   "execution_count": 78,
   "metadata": {},
   "outputs": [
    {
     "name": "stderr",
     "output_type": "stream",
     "text": [
      "/jukebox/pkgs/ANACONDAPY/5.3.1/lib/python3.7/site-packages/pandas/core/indexing.py:543: SettingWithCopyWarning: \n",
      "A value is trying to be set on a copy of a slice from a DataFrame.\n",
      "Try using .loc[row_indexer,col_indexer] = value instead\n",
      "\n",
      "See the caveats in the documentation: http://pandas.pydata.org/pandas-docs/stable/indexing.html#indexing-view-versus-copy\n",
      "  self.obj[item] = s\n",
      "/usr/people/gk9567/.local/lib/python3.7/site-packages/ipykernel_launcher.py:7: SettingWithCopyWarning: \n",
      "A value is trying to be set on a copy of a slice from a DataFrame\n",
      "\n",
      "See the caveats in the documentation: http://pandas.pydata.org/pandas-docs/stable/indexing.html#indexing-view-versus-copy\n",
      "  import sys\n"
     ]
    }
   ],
   "source": [
    "## Restrict to participants with all data available.\n",
    "data_ic = data.groupby('subject').filter(lambda x: x.session.nunique() == 3)\n",
    "\n",
    "## Sort data.\n",
    "f = lambda x: x.subject + '_' + str(x.session) + '_' + x.rune\n",
    "data_ic.loc[:,'stimulus'] = np.unique(data_ic.apply(f, 1), return_inverse=True)[-1] + 1\n",
    "data_ic.sort_values(['stimulus','exposure'], inplace=True)\n",
    "data_ic.reset_index(drop=True, inplace=True)\n"
   ]
  },
  {
   "cell_type": "code",
   "execution_count": 90,
   "metadata": {},
   "outputs": [
    {
     "name": "stderr",
     "output_type": "stream",
     "text": [
      "/usr/people/gk9567/.local/lib/python3.7/site-packages/ipykernel_launcher.py:22: RuntimeWarning: invalid value encountered in less\n"
     ]
    },
    {
     "name": "stdout",
     "output_type": "stream",
     "text": [
      "12 2184\n",
      "(2184,)\n",
      "(2184,)\n",
      "(12, 2184)\n",
      "(12, 2184)\n",
      "(12, 2184)\n",
      "(12, 2184)\n",
      "12 2184\n",
      "(2184,)\n",
      "(2184,)\n",
      "(12, 2184)\n",
      "(12, 2184)\n",
      "(12, 2184)\n",
      "(12, 2184)\n",
      "12 2184\n",
      "(2184,)\n",
      "(2184,)\n",
      "(12, 2184)\n",
      "(12, 2184)\n",
      "(12, 2184)\n",
      "(12, 2184)\n"
     ]
    }
   ],
   "source": [
    "## internal consistency\n",
    "for ses in [1,2,3]:\n",
    "\n",
    "    data_ij = data_ic.query('session == {}'.format(ses))\n",
    "    ## Define metadata.\n",
    "    N = data_ij.stimulus.nunique()\n",
    "    E = data_ij.exposure.nunique()\n",
    "    S = np.unique(data_ij.query(f'exposure==1').subject, return_inverse=True)[-1] + 1\n",
    "    M = np.unique(data_ij.query(f'exposure==1').block, return_inverse=True)[-1] + 1\n",
    "\n",
    "\n",
    "    ## Prepare task variables.\n",
    "    R = data_ij.pivot_table('outcome','exposure', cols_ic).fillna(0).values.reshape(E,1,N).astype(int).swapaxes(0,1)[0]\n",
    "\n",
    "    ## Prepare response variables.\n",
    "    Y = data_ij.pivot_table('choice','exposure', cols_ic).fillna(0).values.reshape(E,1,N).astype(int).swapaxes(0,1)[0]\n",
    "\n",
    "    ## Prepare valance variables.\n",
    "    V = data_ij.pivot_table('valence','exposure', cols_ic).fillna(0).values.reshape(E,1,N).swapaxes(0,1)[0]\n",
    "    \n",
    "    C = data_ij.fillna(99).pivot_table('rt','exposure', cols_ic).values.reshape(E,1,N).swapaxes(0,1)[0]\n",
    "    C = np.invert(np.logical_or(np.isnan(C), C < 0.2)).astype(int)\n",
    "\n",
    "    #print sanity check\n",
    "    print(E,N)\n",
    "    print(S.shape)\n",
    "    print(M.shape)\n",
    "    print(R.shape)\n",
    "    print(Y.shape)\n",
    "    print(V.shape)\n",
    "    print(C.shape)\n",
    "\n",
    "    model_data = dict(N=N, \n",
    "                  E=E, \n",
    "                  C=C.tolist(),\n",
    "                  S=S.tolist(), \n",
    "                  M=M.tolist(), \n",
    "                  Y=Y.tolist(), \n",
    "                  V=V.tolist(),\n",
    "                  R=R.tolist())\n",
    "\n",
    "    \n",
    "#     json_data = json.dumps(model_data)\n",
    "\n",
    "#     f = open(\"stan_data/ic_s_{}_data.json\".format(ses),\"w\")\n",
    "#     f.write(json_data)\n",
    "#     f.close()    \n",
    "    "
   ]
  },
  {
   "cell_type": "code",
   "execution_count": 75,
   "metadata": {},
   "outputs": [],
   "source": [
    "# # Opening JSON file\n",
    "# r = open('stan_data/m1_s1_data.json')\n",
    "  \n",
    "# # a dictionary\n",
    "# dd = json.load(r)\n",
    "\n",
    "# #reformat\n",
    "# dd['S'] = np.array(dd['S'])\n",
    "# dd['Y'] = np.array(dd['Y'])\n",
    "# dd['R'] = np.array(dd['R'])\n",
    "# dd['V'] = np.array(dd['V'])\n"
   ]
  },
  {
   "cell_type": "code",
   "execution_count": null,
   "metadata": {},
   "outputs": [],
   "source": []
  }
 ],
 "metadata": {
  "kernelspec": {
   "display_name": "cmdstan",
   "language": "python",
   "name": "cmdstan"
  },
  "language_info": {
   "codemirror_mode": {
    "name": "ipython",
    "version": 3
   },
   "file_extension": ".py",
   "mimetype": "text/x-python",
   "name": "python",
   "nbconvert_exporter": "python",
   "pygments_lexer": "ipython3",
   "version": "3.7.0"
  }
 },
 "nbformat": 4,
 "nbformat_minor": 4
}
