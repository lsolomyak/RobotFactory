{
 "cells": [
  {
   "cell_type": "code",
   "execution_count": 1,
   "metadata": {},
   "outputs": [],
   "source": [
    "import numpy as np\n",
    "import pandas as pd\n",
    "from pandas import read_csv\n",
    "import json\n",
    "\n",
    "import os, sys\n",
    "from os.path import dirname\n",
    "\n",
    "\n",
    "ROOT_DIR = '.'\n"
   ]
  },
  {
   "cell_type": "code",
   "execution_count": null,
   "metadata": {},
   "outputs": [],
   "source": []
  },
  {
   "cell_type": "code",
   "execution_count": 3,
   "metadata": {},
   "outputs": [],
   "source": [
    "#import data\n",
    "raw_data = read_csv(os.path.join(ROOT_DIR,'data','data.csv'))\n",
    "data = raw_data.copy()\n",
    "\n",
    "# data rejections\n",
    "reject = read_csv(os.path.join(ROOT_DIR,'data','reject.csv'))\n",
    "data = data[data.subject.isin(reject.query('reject==0').subject)]\n",
    "\n",
    "## Sort data.\n",
    "f = lambda x: x.subject + '_' + x.rune\n",
    "data['stimulus'] = np.unique(data.apply(f, 1), return_inverse=True)[-1] + 1\n",
    "data = data.sort_values(['stimulus','exposure']).reset_index(drop=True)\n",
    "\n",
    "data['outcome'] = data.outcome.replace({10:1, 1:0, -1:1, -10:0})\n",
    "data['valence'] = data.valence.replace({'win':1, 'lose':0})\n",
    "\n"
   ]
  },
  {
   "cell_type": "code",
   "execution_count": 4,
   "metadata": {},
   "outputs": [
    {
     "name": "stderr",
     "output_type": "stream",
     "text": [
      "/usr/people/gk9567/.local/lib/python3.7/site-packages/ipykernel_launcher.py:19: RuntimeWarning: invalid value encountered in less\n"
     ]
    },
    {
     "name": "stdout",
     "output_type": "stream",
     "text": [
      "12 2640\n",
      "(12, 2640)\n",
      "(12, 2640)\n",
      "(12, 2640)\n",
      "(12, 2640)\n",
      "12 2328\n",
      "(12, 2328)\n",
      "(12, 2328)\n",
      "(12, 2328)\n",
      "(12, 2328)\n",
      "12 2376\n",
      "(12, 2376)\n",
      "(12, 2376)\n",
      "(12, 2376)\n",
      "(12, 2376)\n"
     ]
    }
   ],
   "source": [
    "for i in [1,2,3]:\n",
    "    data_i = data[data.session == i]\n",
    "    ## Define metadata.\n",
    "    N = data_i.stimulus.nunique()\n",
    "    E = data_i.exposure.nunique()\n",
    "    S = np.unique(data_i[data_i.exposure==1].subject, return_inverse=True)[-1] + 1\n",
    "\n",
    "    ## Prepare task variables.\n",
    "    R = data_i.pivot_table('outcome','exposure','stimulus').fillna(0).values\n",
    "\n",
    "    ## Prepare response variables.\n",
    "    Y = data_i.pivot_table('choice','exposure','stimulus').fillna(0).values.astype(int)\n",
    "\n",
    "    ## Prepare valance variables.\n",
    "\n",
    "    V = data_i.pivot_table('valence','exposure','stimulus').fillna(0).values.astype(int)\n",
    "    \n",
    "    C = data_i.pivot_table('choice','exposure','stimulus').notnull().values.astype(int)\n",
    "    C = np.where(data_i.pivot_table('rt','exposure','stimulus',dropna=False).values < 0.2, 0, C)\n",
    "\n",
    "    #print sanity check\n",
    "    print(E,N)\n",
    "    print(R.shape)\n",
    "    print(Y.shape)\n",
    "    print(V.shape)\n",
    "    print(C.shape)\n",
    "\n",
    "    model_data = dict(N=N, \n",
    "                  E=E, \n",
    "                  C=C.tolist(),\n",
    "                  S=S.tolist(), \n",
    "                  Y=Y.tolist(), \n",
    "                  V=V.tolist(),\n",
    "                  R=R.tolist())\n",
    "\n",
    "#     json_data = json.dumps(model_data)\n",
    "\n",
    "#     f = open(\"stan_data/s{}_data.json\".format(i),\"w\")\n",
    "#     f.write(json_data)\n",
    "#     f.close()\n",
    "    \n",
    "#     data_i.to_csv(\"stan_data/s{}_dataframe.csv\".format(i), index=False)"
   ]
  },
  {
   "cell_type": "code",
   "execution_count": 75,
   "metadata": {},
   "outputs": [],
   "source": [
    "# # Opening JSON file\n",
    "# r = open('stan_data/m1_s1_data.json')\n",
    "  \n",
    "# # a dictionary\n",
    "# dd = json.load(r)\n",
    "\n",
    "# #reformat\n",
    "# dd['S'] = np.array(dd['S'])\n",
    "# dd['Y'] = np.array(dd['Y'])\n",
    "# dd['R'] = np.array(dd['R'])\n",
    "# dd['V'] = np.array(dd['V'])\n"
   ]
  },
  {
   "cell_type": "code",
   "execution_count": 17,
   "metadata": {},
   "outputs": [
    {
     "data": {
      "text/plain": [
       "False"
      ]
     },
     "execution_count": 17,
     "metadata": {},
     "output_type": "execute_result"
    }
   ],
   "source": []
  },
  {
   "cell_type": "code",
   "execution_count": null,
   "metadata": {},
   "outputs": [],
   "source": []
  }
 ],
 "metadata": {
  "kernelspec": {
   "display_name": "cmdstan",
   "language": "python",
   "name": "cmdstan"
  },
  "language_info": {
   "codemirror_mode": {
    "name": "ipython",
    "version": 3
   },
   "file_extension": ".py",
   "mimetype": "text/x-python",
   "name": "python",
   "nbconvert_exporter": "python",
   "pygments_lexer": "ipython3",
   "version": "3.7.0"
  }
 },
 "nbformat": 4,
 "nbformat_minor": 4
}
