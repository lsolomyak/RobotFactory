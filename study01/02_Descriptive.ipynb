{
 "cells": [
  {
   "cell_type": "code",
   "execution_count": 1,
   "metadata": {},
   "outputs": [],
   "source": [
    "import os\n",
    "import numpy as np\n",
    "import matplotlib.pyplot as plt\n",
    "import seaborn as sns\n",
    "from pandas import DataFrame, read_csv, concat\n",
    "from numba import njit\n",
    "from tqdm import tqdm\n",
    "sns.set_theme(style='ticks', context='notebook', font_scale=1.1)"
   ]
  },
  {
   "cell_type": "markdown",
   "metadata": {},
   "source": [
    "## Section 1: Demographics"
   ]
  },
  {
   "cell_type": "code",
   "execution_count": 2,
   "metadata": {},
   "outputs": [],
   "source": [
    "## Load data.\n",
    "demo = read_csv(os.path.join('data', 's1', 'demographics.csv'))\n",
    "\n",
    "## Apply rejections.\n",
    "reject = read_csv(os.path.join('data', 's1', 'reject.csv'))\n",
    "demo = demo[demo.subject.isin(reject.query('reject == 0').subject)].reset_index(drop=True)"
   ]
  },
  {
   "cell_type": "markdown",
   "metadata": {},
   "source": [
    "### 1.1 Gender"
   ]
  },
  {
   "cell_type": "code",
   "execution_count": 3,
   "metadata": {},
   "outputs": [
    {
     "name": "stdout",
     "output_type": "stream",
     "text": [
      "        count     %\n",
      "gender             \n",
      "Man        55  53.4\n",
      "Woman      47  45.6\n",
      "Other       1   1.0\n"
     ]
    }
   ],
   "source": [
    "## Count responses.\n",
    "gb = demo.groupby('gender').subject.count().reset_index(name='count')\n",
    "gb['%'] = gb['count'].transform(lambda x: np.round(x / x.sum() * 100, 1))\n",
    "print(gb.set_index('gender').sort_values('count', ascending=False))"
   ]
  },
  {
   "cell_type": "markdown",
   "metadata": {},
   "source": [
    "### 1.2 Age"
   ]
  },
  {
   "cell_type": "code",
   "execution_count": 4,
   "metadata": {},
   "outputs": [
    {
     "data": {
      "text/plain": [
       "count    103.0\n",
       "mean      35.5\n",
       "std       10.3\n",
       "min       20.0\n",
       "25%       28.5\n",
       "50%       33.0\n",
       "75%       41.0\n",
       "max       69.0\n",
       "Name: age, dtype: float64"
      ]
     },
     "execution_count": 4,
     "metadata": {},
     "output_type": "execute_result"
    }
   ],
   "source": [
    "demo.age.describe().round(1)"
   ]
  },
  {
   "cell_type": "markdown",
   "metadata": {},
   "source": [
    "#### Discretized"
   ]
  },
  {
   "cell_type": "code",
   "execution_count": 5,
   "metadata": {},
   "outputs": [
    {
     "name": "stdout",
     "output_type": "stream",
     "text": [
      "              count     %\n",
      "18-29            30  29.1\n",
      "30-39            43  41.7\n",
      "40-49            19  18.4\n",
      "50-59             8   7.8\n",
      "60 and older      3   2.9\n"
     ]
    }
   ],
   "source": [
    "## Discretize ages.\n",
    "demo['age_cat'] = np.digitize(demo.age, [29.5, 39.5, 49.5, 59.5])\n",
    "\n",
    "## Count responses.\n",
    "gb = demo.groupby('age_cat').subject.count().reset_index(name='count')\n",
    "gb['%'] = gb['count'].transform(lambda x: np.round(x / x.sum() * 100, 1))\n",
    "gb.index = ['18-29', '30-39', '40-49', '50-59', '60 and older']\n",
    "print(gb[['count','%']])"
   ]
  },
  {
   "cell_type": "markdown",
   "metadata": {},
   "source": [
    "### 1.3 Race & ethnicity"
   ]
  },
  {
   "cell_type": "markdown",
   "metadata": {},
   "source": [
    "#### Ethnicity"
   ]
  },
  {
   "cell_type": "code",
   "execution_count": 6,
   "metadata": {},
   "outputs": [
    {
     "name": "stdout",
     "output_type": "stream",
     "text": [
      "                        count     %\n",
      "ethnicity                          \n",
      "Not Hispanic or Latino     93  90.3\n",
      "Hispanic or Latino          9   8.7\n",
      "Rather not say              1   1.0\n"
     ]
    }
   ],
   "source": [
    "## Count responses.\n",
    "gb = demo.groupby('ethnicity').subject.count().reset_index(name='count')\n",
    "gb['%'] = gb['count'].transform(lambda x: np.round(x / x.sum() * 100, 1))\n",
    "print(gb.set_index('ethnicity').sort_values('count', ascending=False))"
   ]
  },
  {
   "cell_type": "markdown",
   "metadata": {},
   "source": [
    "#### Race"
   ]
  },
  {
   "cell_type": "code",
   "execution_count": 7,
   "metadata": {},
   "outputs": [
    {
     "name": "stdout",
     "output_type": "stream",
     "text": [
      "                           count     %\n",
      "race                                  \n",
      "White                         80  77.7\n",
      "Asian                         10   9.7\n",
      "Black or African American      9   8.7\n",
      "Rather not say                 4   3.9\n"
     ]
    }
   ],
   "source": [
    "## Count responses.\n",
    "gb = demo.groupby('race').subject.count().reset_index(name='count')\n",
    "gb['%'] = gb['count'].transform(lambda x: np.round(x / x.sum() * 100, 1))\n",
    "print(gb.set_index('race').sort_values('count', ascending=False))"
   ]
  },
  {
   "cell_type": "markdown",
   "metadata": {},
   "source": [
    "## Section 2: Behavior"
   ]
  },
  {
   "cell_type": "code",
   "execution_count": 8,
   "metadata": {},
   "outputs": [
    {
     "name": "stdout",
     "output_type": "stream",
     "text": [
      "session\n",
      "1    103\n",
      "2     94\n",
      "3     92\n",
      "4     89\n",
      "Name: subject, dtype: int64\n"
     ]
    }
   ],
   "source": [
    "## Load data.\n",
    "data = concat([read_csv(os.path.join('data', session, 'pgng.csv'))\n",
    "               for session in ['s1','s2','s3','s4']])\n",
    "\n",
    "## Restrict participants.\n",
    "reject = read_csv(os.path.join('data', 's1', 'reject.csv'))\n",
    "data = data[data.subject.isin(reject.query('reject==0').subject)].reset_index(drop=True)\n",
    "\n",
    "## Return number of participants per session.\n",
    "print(data.groupby('session').subject.nunique())"
   ]
  },
  {
   "cell_type": "markdown",
   "metadata": {},
   "source": [
    "### 2.1 Learning curves"
   ]
  },
  {
   "cell_type": "code",
   "execution_count": 9,
   "metadata": {},
   "outputs": [
    {
     "data": {
      "image/png": "[encoded data removed]",
      "text/plain": [
       "<Figure size 691.2x216 with 4 Axes>"
      ]
     },
     "metadata": {
      "needs_background": "light"
     },
     "output_type": "display_data"
    }
   ],
   "source": [
    "## Initialize canvas.\n",
    "g = sns.FacetGrid(data, col='session', col_order=[1,2,3,4], aspect=0.8)\n",
    "\n",
    "## Define aesthetics.\n",
    "palette = ['#234f81', '#8e9cb8', '#bf8a82', '#812623']\n",
    "hue_order = ['gw','ngw','gal','ngal']\n",
    "\n",
    "## Plot learning curves.\n",
    "g.map(sns.lineplot, 'exposure', 'choice', 'robot', hue_order=hue_order, palette=palette, \n",
    "      lw=3, errorbar=('ci', 95))\n",
    "\n",
    "## Add trend line.\n",
    "for ax in g.axes.flatten(): ax.axhline(0.5, color='k', alpha=0.05, zorder=-1)\n",
    "\n",
    "## Adjust x-axis.\n",
    "g.set(xticks=np.append(1, np.arange(5,31,5)))\n",
    "g.set_xlabels('exposure')\n",
    "\n",
    "## Adjust y-axis.\n",
    "g.set_ylabels('p(go)');"
   ]
  },
  {
   "cell_type": "markdown",
   "metadata": {},
   "source": [
    "### 2.2 Descriptive statistics"
   ]
  },
  {
   "cell_type": "code",
   "execution_count": 10,
   "metadata": {},
   "outputs": [],
   "source": [
    "from itertools import combinations\n",
    "\n",
    "## Define parameters.\n",
    "n_iter = 5000\n",
    "sessions = [1,2,3,4]\n",
    "pairs = list(combinations(sessions, 2))\n",
    "\n",
    "## Define convenience functions.\n",
    "def mad(x):\n",
    "    \"\"\"Median absolute difference.\"\"\"\n",
    "    return np.nanmedian(np.abs(x - np.nanmedian(x)))\n",
    "\n",
    "def cohens_d(x, popmean=0):\n",
    "    \"\"\"Cohen's D for one-sample median.\"\"\"\n",
    "    return np.abs(np.nanmedian(x) - popmean) / (mad(x) / 0.6745)"
   ]
  },
  {
   "cell_type": "markdown",
   "metadata": {},
   "source": [
    "#### 2.2.1 Overall performance\n",
    "\n",
    "**Within-session comparisons**"
   ]
  },
  {
   "cell_type": "code",
   "execution_count": 11,
   "metadata": {},
   "outputs": [
    {
     "name": "stderr",
     "output_type": "stream",
     "text": [
      "100%|██████████| 5000/5000 [00:05<00:00, 900.58it/s]\n"
     ]
    },
    {
     "data": {
      "text/html": [
       "<div>\n",
       "<style scoped>\n",
       "    .dataframe tbody tr th:only-of-type {\n",
       "        vertical-align: middle;\n",
       "    }\n",
       "\n",
       "    .dataframe tbody tr th {\n",
       "        vertical-align: top;\n",
       "    }\n",
       "\n",
       "    .dataframe thead th {\n",
       "        text-align: right;\n",
       "    }\n",
       "</style>\n",
       "<table border=\"1\" class=\"dataframe\">\n",
       "  <thead>\n",
       "    <tr style=\"text-align: right;\">\n",
       "      <th></th>\n",
       "      <th>obs</th>\n",
       "      <th>d</th>\n",
       "      <th>pval</th>\n",
       "      <th>fwer</th>\n",
       "    </tr>\n",
       "    <tr>\n",
       "      <th>session</th>\n",
       "      <th></th>\n",
       "      <th></th>\n",
       "      <th></th>\n",
       "      <th></th>\n",
       "    </tr>\n",
       "  </thead>\n",
       "  <tbody>\n",
       "    <tr>\n",
       "      <th>1</th>\n",
       "      <td>0.850</td>\n",
       "      <td>2.982</td>\n",
       "      <td>0.0</td>\n",
       "      <td>0.122</td>\n",
       "    </tr>\n",
       "    <tr>\n",
       "      <th>2</th>\n",
       "      <td>0.929</td>\n",
       "      <td>6.947</td>\n",
       "      <td>0.0</td>\n",
       "      <td>0.000</td>\n",
       "    </tr>\n",
       "    <tr>\n",
       "      <th>3</th>\n",
       "      <td>0.946</td>\n",
       "      <td>10.310</td>\n",
       "      <td>0.0</td>\n",
       "      <td>0.000</td>\n",
       "    </tr>\n",
       "    <tr>\n",
       "      <th>4</th>\n",
       "      <td>0.946</td>\n",
       "      <td>12.029</td>\n",
       "      <td>0.0</td>\n",
       "      <td>0.000</td>\n",
       "    </tr>\n",
       "  </tbody>\n",
       "</table>\n",
       "</div>"
      ],
      "text/plain": [
       "           obs       d  pval   fwer\n",
       "session                            \n",
       "1        0.850   2.982   0.0  0.122\n",
       "2        0.929   6.947   0.0  0.000\n",
       "3        0.946  10.310   0.0  0.000\n",
       "4        0.946  12.029   0.0  0.000"
      ]
     },
     "execution_count": 11,
     "metadata": {},
     "output_type": "execute_result"
    }
   ],
   "source": [
    "np.random.seed(47404)\n",
    "\n",
    "## Compute average performance.\n",
    "pivot = data.pivot_table('accuracy', 'subject', 'session')\n",
    "pivot -= 0.5\n",
    "\n",
    "## Compute observed effects.\n",
    "obs = pivot.median().values\n",
    "\n",
    "## Compute effect sizes.\n",
    "d = pivot.apply(cohens_d).values\n",
    "\n",
    "## Compute null distribution.\n",
    "null = np.zeros((n_iter, obs.size))\n",
    "for n in tqdm(range(n_iter)):\n",
    "    \n",
    "    ## Permute sign.\n",
    "    pivot = pivot * np.random.choice([1,-1], pivot.shape, replace=True)\n",
    "    \n",
    "    ## Compute observed effects.\n",
    "    null[n] = pivot.median().values\n",
    "    \n",
    "## Compute p-values.\n",
    "pval = ((np.abs(obs[np.newaxis,:]) < np.abs(null)).sum(axis=0) + 1) / (n_iter + 1)\n",
    "fwer = ((np.abs(obs[:,np.newaxis]) < np.abs(null).max(axis=1)).sum(axis=1) + 1) / (n_iter + 1)\n",
    "\n",
    "## Report summary.\n",
    "summary = DataFrame(dict(session=sessions, obs=obs + 0.5, d=d, pval=pval, fwer=fwer))\n",
    "summary.set_index('session').round(3)"
   ]
  },
  {
   "cell_type": "markdown",
   "metadata": {},
   "source": [
    "**Between-session comparisons**"
   ]
  },
  {
   "cell_type": "code",
   "execution_count": 12,
   "metadata": {},
   "outputs": [
    {
     "name": "stderr",
     "output_type": "stream",
     "text": [
      "100%|██████████| 5000/5000 [00:19<00:00, 258.11it/s]\n"
     ]
    },
    {
     "data": {
      "text/html": [
       "<div>\n",
       "<style scoped>\n",
       "    .dataframe tbody tr th:only-of-type {\n",
       "        vertical-align: middle;\n",
       "    }\n",
       "\n",
       "    .dataframe tbody tr th {\n",
       "        vertical-align: top;\n",
       "    }\n",
       "\n",
       "    .dataframe thead th {\n",
       "        text-align: right;\n",
       "    }\n",
       "</style>\n",
       "<table border=\"1\" class=\"dataframe\">\n",
       "  <thead>\n",
       "    <tr style=\"text-align: right;\">\n",
       "      <th></th>\n",
       "      <th></th>\n",
       "      <th>obs</th>\n",
       "      <th>d</th>\n",
       "      <th>pval</th>\n",
       "      <th>fwer</th>\n",
       "    </tr>\n",
       "    <tr>\n",
       "      <th>s1</th>\n",
       "      <th>s2</th>\n",
       "      <th></th>\n",
       "      <th></th>\n",
       "      <th></th>\n",
       "      <th></th>\n",
       "    </tr>\n",
       "  </thead>\n",
       "  <tbody>\n",
       "    <tr>\n",
       "      <th rowspan=\"3\" valign=\"top\">1</th>\n",
       "      <th>2</th>\n",
       "      <td>-0.056</td>\n",
       "      <td>0.792</td>\n",
       "      <td>0.000</td>\n",
       "      <td>0.000</td>\n",
       "    </tr>\n",
       "    <tr>\n",
       "      <th>3</th>\n",
       "      <td>-0.065</td>\n",
       "      <td>0.909</td>\n",
       "      <td>0.000</td>\n",
       "      <td>0.000</td>\n",
       "    </tr>\n",
       "    <tr>\n",
       "      <th>4</th>\n",
       "      <td>-0.058</td>\n",
       "      <td>0.858</td>\n",
       "      <td>0.000</td>\n",
       "      <td>0.000</td>\n",
       "    </tr>\n",
       "    <tr>\n",
       "      <th rowspan=\"2\" valign=\"top\">2</th>\n",
       "      <th>3</th>\n",
       "      <td>-0.012</td>\n",
       "      <td>0.289</td>\n",
       "      <td>0.071</td>\n",
       "      <td>0.304</td>\n",
       "    </tr>\n",
       "    <tr>\n",
       "      <th>4</th>\n",
       "      <td>-0.008</td>\n",
       "      <td>0.193</td>\n",
       "      <td>0.179</td>\n",
       "      <td>0.660</td>\n",
       "    </tr>\n",
       "    <tr>\n",
       "      <th>3</th>\n",
       "      <th>4</th>\n",
       "      <td>-0.004</td>\n",
       "      <td>0.112</td>\n",
       "      <td>0.513</td>\n",
       "      <td>0.982</td>\n",
       "    </tr>\n",
       "  </tbody>\n",
       "</table>\n",
       "</div>"
      ],
      "text/plain": [
       "         obs      d   pval   fwer\n",
       "s1 s2                            \n",
       "1  2  -0.056  0.792  0.000  0.000\n",
       "   3  -0.065  0.909  0.000  0.000\n",
       "   4  -0.058  0.858  0.000  0.000\n",
       "2  3  -0.012  0.289  0.071  0.304\n",
       "   4  -0.008  0.193  0.179  0.660\n",
       "3  4  -0.004  0.112  0.513  0.982"
      ]
     },
     "execution_count": 12,
     "metadata": {},
     "output_type": "execute_result"
    }
   ],
   "source": [
    "np.random.seed(47404)\n",
    "\n",
    "## Compute average performance.\n",
    "pivot = data.pivot_table('accuracy', 'subject', 'session')\n",
    "pivot -= 0.5\n",
    "\n",
    "## Compute observed effects.\n",
    "obs = np.array([np.nanmedian(pivot[a] - pivot[b]) for a, b in pairs])\n",
    "\n",
    "## Compute effect sizes.\n",
    "d = np.array([cohens_d(pivot[a] - pivot[b]) for a, b in pairs])\n",
    "\n",
    "## Compute null distribution.\n",
    "null = np.zeros((n_iter, obs.size))\n",
    "for n in tqdm(range(n_iter)):\n",
    "    \n",
    "    ## Permute group assignments.\n",
    "    pivot.loc[:,:] = np.stack(pivot.apply(np.random.permutation, 1).values)\n",
    "    \n",
    "    ## Compute observed effects.\n",
    "    for m, (a, b) in enumerate(pairs):\n",
    "        null[n,m] = np.nanmedian(pivot[a] - pivot[b])\n",
    "        \n",
    "## Compute p-values.\n",
    "pval = ((np.abs(obs[np.newaxis,:]) < np.abs(null)).sum(axis=0) + 1) / (n_iter + 1)\n",
    "fwer = ((np.abs(obs[:,np.newaxis]) < np.abs(null).max(axis=1)).sum(axis=1) + 1) / (n_iter + 1)\n",
    "\n",
    "## Report summary.\n",
    "summary = DataFrame(dict(s1=[a for a, b in pairs], s2=[b for a, b in pairs], \n",
    "                         obs=obs, d=d, pval=pval, fwer=fwer))\n",
    "summary.set_index(['s1','s2']).round(3)"
   ]
  },
  {
   "cell_type": "markdown",
   "metadata": {},
   "source": [
    "#### 2.2.2 Main effect: required action\n",
    "\n",
    "**Within-session comparisons**"
   ]
  },
  {
   "cell_type": "code",
   "execution_count": 13,
   "metadata": {},
   "outputs": [
    {
     "name": "stderr",
     "output_type": "stream",
     "text": [
      "100%|██████████| 5000/5000 [00:44<00:00, 111.55it/s]\n"
     ]
    },
    {
     "data": {
      "text/html": [
       "<div>\n",
       "<style scoped>\n",
       "    .dataframe tbody tr th:only-of-type {\n",
       "        vertical-align: middle;\n",
       "    }\n",
       "\n",
       "    .dataframe tbody tr th {\n",
       "        vertical-align: top;\n",
       "    }\n",
       "\n",
       "    .dataframe thead th {\n",
       "        text-align: right;\n",
       "    }\n",
       "</style>\n",
       "<table border=\"1\" class=\"dataframe\">\n",
       "  <thead>\n",
       "    <tr style=\"text-align: right;\">\n",
       "      <th></th>\n",
       "      <th>obs</th>\n",
       "      <th>d</th>\n",
       "      <th>pval</th>\n",
       "      <th>fwer</th>\n",
       "    </tr>\n",
       "    <tr>\n",
       "      <th>session</th>\n",
       "      <th></th>\n",
       "      <th></th>\n",
       "      <th></th>\n",
       "      <th></th>\n",
       "    </tr>\n",
       "  </thead>\n",
       "  <tbody>\n",
       "    <tr>\n",
       "      <th>1</th>\n",
       "      <td>0.117</td>\n",
       "      <td>1.049</td>\n",
       "      <td>0.0</td>\n",
       "      <td>0.000</td>\n",
       "    </tr>\n",
       "    <tr>\n",
       "      <th>2</th>\n",
       "      <td>0.050</td>\n",
       "      <td>1.156</td>\n",
       "      <td>0.0</td>\n",
       "      <td>0.000</td>\n",
       "    </tr>\n",
       "    <tr>\n",
       "      <th>3</th>\n",
       "      <td>0.042</td>\n",
       "      <td>1.124</td>\n",
       "      <td>0.0</td>\n",
       "      <td>0.007</td>\n",
       "    </tr>\n",
       "    <tr>\n",
       "      <th>4</th>\n",
       "      <td>0.033</td>\n",
       "      <td>0.899</td>\n",
       "      <td>0.0</td>\n",
       "      <td>0.040</td>\n",
       "    </tr>\n",
       "  </tbody>\n",
       "</table>\n",
       "</div>"
      ],
      "text/plain": [
       "           obs      d  pval   fwer\n",
       "session                           \n",
       "1        0.117  1.049   0.0  0.000\n",
       "2        0.050  1.156   0.0  0.000\n",
       "3        0.042  1.124   0.0  0.007\n",
       "4        0.033  0.899   0.0  0.040"
      ]
     },
     "execution_count": 13,
     "metadata": {},
     "output_type": "execute_result"
    }
   ],
   "source": [
    "np.random.seed(47404)\n",
    "\n",
    "## Compute average performance by action type.\n",
    "pivot = data.pivot_table('accuracy', ['session','subject'], 'action')\n",
    "\n",
    "## Compute observed effects.\n",
    "obs = (pivot['go'] - pivot['no-go']).groupby(level=0).median().values\n",
    "\n",
    "## Compute effect sizes.\n",
    "d = (pivot['go'] - pivot['no-go']).groupby(level=0).apply(cohens_d).values\n",
    "\n",
    "## Compute null distribution.\n",
    "null = np.zeros((n_iter, obs.size))\n",
    "for n in tqdm(range(n_iter)):\n",
    "    \n",
    "    ## Permute group assignments.\n",
    "    pivot.loc[:,:] = np.stack(pivot.apply(np.random.permutation, 1).values)\n",
    "    \n",
    "    ## Compute observed effects.\n",
    "    null[n] = (pivot['go'] - pivot['no-go']).groupby(level=0).median().values\n",
    "    \n",
    "## Compute p-values.\n",
    "pval = ((np.abs(obs[np.newaxis,:]) < np.abs(null)).sum(axis=0) + 1) / (n_iter + 1)\n",
    "fwer = ((np.abs(obs[:,np.newaxis]) < np.abs(null).max(axis=1)).sum(axis=1) + 1) / (n_iter + 1)\n",
    "\n",
    "## Report summary.\n",
    "summary = DataFrame(dict(session=sessions, obs=obs, d=d, pval=pval, fwer=fwer))\n",
    "summary.set_index('session').round(3)"
   ]
  },
  {
   "cell_type": "markdown",
   "metadata": {},
   "source": [
    "**Between-session comparisons**"
   ]
  },
  {
   "cell_type": "code",
   "execution_count": 14,
   "metadata": {},
   "outputs": [
    {
     "name": "stderr",
     "output_type": "stream",
     "text": [
      "100%|██████████| 5000/5000 [00:19<00:00, 253.13it/s]\n"
     ]
    },
    {
     "data": {
      "text/html": [
       "<div>\n",
       "<style scoped>\n",
       "    .dataframe tbody tr th:only-of-type {\n",
       "        vertical-align: middle;\n",
       "    }\n",
       "\n",
       "    .dataframe tbody tr th {\n",
       "        vertical-align: top;\n",
       "    }\n",
       "\n",
       "    .dataframe thead th {\n",
       "        text-align: right;\n",
       "    }\n",
       "</style>\n",
       "<table border=\"1\" class=\"dataframe\">\n",
       "  <thead>\n",
       "    <tr style=\"text-align: right;\">\n",
       "      <th></th>\n",
       "      <th></th>\n",
       "      <th>obs</th>\n",
       "      <th>d</th>\n",
       "      <th>pval</th>\n",
       "      <th>fwer</th>\n",
       "    </tr>\n",
       "    <tr>\n",
       "      <th>s1</th>\n",
       "      <th>s2</th>\n",
       "      <th></th>\n",
       "      <th></th>\n",
       "      <th></th>\n",
       "      <th></th>\n",
       "    </tr>\n",
       "  </thead>\n",
       "  <tbody>\n",
       "    <tr>\n",
       "      <th rowspan=\"3\" valign=\"top\">1</th>\n",
       "      <th>2</th>\n",
       "      <td>0.025</td>\n",
       "      <td>0.337</td>\n",
       "      <td>0.000</td>\n",
       "      <td>0.001</td>\n",
       "    </tr>\n",
       "    <tr>\n",
       "      <th>3</th>\n",
       "      <td>0.054</td>\n",
       "      <td>0.674</td>\n",
       "      <td>0.000</td>\n",
       "      <td>0.000</td>\n",
       "    </tr>\n",
       "    <tr>\n",
       "      <th>4</th>\n",
       "      <td>0.075</td>\n",
       "      <td>0.674</td>\n",
       "      <td>0.000</td>\n",
       "      <td>0.000</td>\n",
       "    </tr>\n",
       "    <tr>\n",
       "      <th rowspan=\"2\" valign=\"top\">2</th>\n",
       "      <th>3</th>\n",
       "      <td>0.013</td>\n",
       "      <td>0.289</td>\n",
       "      <td>0.068</td>\n",
       "      <td>0.305</td>\n",
       "    </tr>\n",
       "    <tr>\n",
       "      <th>4</th>\n",
       "      <td>0.025</td>\n",
       "      <td>0.506</td>\n",
       "      <td>0.000</td>\n",
       "      <td>0.001</td>\n",
       "    </tr>\n",
       "    <tr>\n",
       "      <th>3</th>\n",
       "      <th>4</th>\n",
       "      <td>0.008</td>\n",
       "      <td>0.225</td>\n",
       "      <td>0.122</td>\n",
       "      <td>0.519</td>\n",
       "    </tr>\n",
       "  </tbody>\n",
       "</table>\n",
       "</div>"
      ],
      "text/plain": [
       "         obs      d   pval   fwer\n",
       "s1 s2                            \n",
       "1  2   0.025  0.337  0.000  0.001\n",
       "   3   0.054  0.674  0.000  0.000\n",
       "   4   0.075  0.674  0.000  0.000\n",
       "2  3   0.013  0.289  0.068  0.305\n",
       "   4   0.025  0.506  0.000  0.001\n",
       "3  4   0.008  0.225  0.122  0.519"
      ]
     },
     "execution_count": 14,
     "metadata": {},
     "output_type": "execute_result"
    }
   ],
   "source": [
    "np.random.seed(47404)\n",
    "\n",
    "## Compute average performance by action type.\n",
    "pivot = data.pivot_table('accuracy', 'subject', ['action','session'])\n",
    "pivot = pivot['go'] - pivot['no-go']\n",
    "\n",
    "## Compute observed effects.\n",
    "obs = np.array([np.nanmedian(pivot[a] - pivot[b]) for a, b in pairs])\n",
    "\n",
    "## Compute effect sizes.\n",
    "d = np.array([cohens_d(pivot[a] - pivot[b]) for a, b in pairs])\n",
    "\n",
    "## Compute null distribution.\n",
    "null = np.zeros((n_iter, obs.size))\n",
    "for n in tqdm(range(n_iter)):\n",
    "    \n",
    "    ## Permute group assignments.\n",
    "    pivot.loc[:,:] = np.stack(pivot.apply(np.random.permutation, 1).values)\n",
    "    \n",
    "    ## Compute observed effects.\n",
    "    for m, (a, b) in enumerate(pairs):\n",
    "        null[n,m] = np.nanmedian(pivot[a] - pivot[b])\n",
    "        \n",
    "## Compute p-values.\n",
    "pval = ((np.abs(obs[np.newaxis,:]) < np.abs(null)).sum(axis=0) + 1) / (n_iter + 1)\n",
    "fwer = ((np.abs(obs[:,np.newaxis]) < np.abs(null).max(axis=1)).sum(axis=1) + 1) / (n_iter + 1)\n",
    "\n",
    "## Report summary.\n",
    "summary = DataFrame(dict(s1=[a for a, b in pairs], s2=[b for a, b in pairs], \n",
    "                         obs=obs, d=d, pval=pval, fwer=fwer))\n",
    "summary.set_index(['s1','s2']).round(3)"
   ]
  },
  {
   "cell_type": "markdown",
   "metadata": {},
   "source": [
    "#### 2.2.3 Main effect: outcome valence\n",
    "\n",
    "**Within-session comparisons**"
   ]
  },
  {
   "cell_type": "code",
   "execution_count": 15,
   "metadata": {},
   "outputs": [
    {
     "name": "stderr",
     "output_type": "stream",
     "text": [
      "100%|██████████| 5000/5000 [00:44<00:00, 112.24it/s]\n"
     ]
    },
    {
     "data": {
      "text/html": [
       "<div>\n",
       "<style scoped>\n",
       "    .dataframe tbody tr th:only-of-type {\n",
       "        vertical-align: middle;\n",
       "    }\n",
       "\n",
       "    .dataframe tbody tr th {\n",
       "        vertical-align: top;\n",
       "    }\n",
       "\n",
       "    .dataframe thead th {\n",
       "        text-align: right;\n",
       "    }\n",
       "</style>\n",
       "<table border=\"1\" class=\"dataframe\">\n",
       "  <thead>\n",
       "    <tr style=\"text-align: right;\">\n",
       "      <th></th>\n",
       "      <th>obs</th>\n",
       "      <th>d</th>\n",
       "      <th>pval</th>\n",
       "      <th>fwer</th>\n",
       "    </tr>\n",
       "    <tr>\n",
       "      <th>session</th>\n",
       "      <th></th>\n",
       "      <th></th>\n",
       "      <th></th>\n",
       "      <th></th>\n",
       "    </tr>\n",
       "  </thead>\n",
       "  <tbody>\n",
       "    <tr>\n",
       "      <th>1</th>\n",
       "      <td>0.008</td>\n",
       "      <td>0.135</td>\n",
       "      <td>0.070</td>\n",
       "      <td>0.186</td>\n",
       "    </tr>\n",
       "    <tr>\n",
       "      <th>2</th>\n",
       "      <td>0.008</td>\n",
       "      <td>0.169</td>\n",
       "      <td>0.023</td>\n",
       "      <td>0.063</td>\n",
       "    </tr>\n",
       "    <tr>\n",
       "      <th>3</th>\n",
       "      <td>0.000</td>\n",
       "      <td>0.000</td>\n",
       "      <td>0.265</td>\n",
       "      <td>0.880</td>\n",
       "    </tr>\n",
       "    <tr>\n",
       "      <th>4</th>\n",
       "      <td>0.000</td>\n",
       "      <td>0.000</td>\n",
       "      <td>0.264</td>\n",
       "      <td>0.880</td>\n",
       "    </tr>\n",
       "  </tbody>\n",
       "</table>\n",
       "</div>"
      ],
      "text/plain": [
       "           obs      d   pval   fwer\n",
       "session                            \n",
       "1        0.008  0.135  0.070  0.186\n",
       "2        0.008  0.169  0.023  0.063\n",
       "3        0.000  0.000  0.265  0.880\n",
       "4        0.000  0.000  0.264  0.880"
      ]
     },
     "execution_count": 15,
     "metadata": {},
     "output_type": "execute_result"
    }
   ],
   "source": [
    "np.random.seed(47404)\n",
    "\n",
    "## Compute average performance by outcome valence.\n",
    "pivot = data.pivot_table('accuracy', ['session','subject'], 'valence')\n",
    "\n",
    "## Compute observed effects.\n",
    "obs = (pivot['win'] - pivot['lose']).groupby(level=0).median().values\n",
    "\n",
    "## Compute effect sizes.\n",
    "d = (pivot['win'] - pivot['lose']).groupby(level=0).apply(cohens_d).values\n",
    "\n",
    "## Compute null distribution.\n",
    "null = np.zeros((n_iter, obs.size))\n",
    "for n in tqdm(range(n_iter)):\n",
    "    \n",
    "    ## Permute group assignments.\n",
    "    pivot.loc[:,:] = np.stack(pivot.apply(np.random.permutation, 1).values)\n",
    "    \n",
    "    ## Compute observed effects.\n",
    "    null[n] = (pivot['win'] - pivot['lose']).groupby(level=0).median().values\n",
    "    \n",
    "## Compute p-values.\n",
    "pval = ((np.abs(obs[np.newaxis,:]) < np.abs(null)).sum(axis=0) + 1) / (n_iter + 1)\n",
    "fwer = ((np.abs(obs[:,np.newaxis]) < np.abs(null).max(axis=1)).sum(axis=1) + 1) / (n_iter + 1)\n",
    "\n",
    "## Report summary.\n",
    "summary = DataFrame(dict(session=sessions, obs=obs, d=d, pval=pval, fwer=fwer))\n",
    "summary.set_index('session').round(3)"
   ]
  },
  {
   "cell_type": "markdown",
   "metadata": {},
   "source": [
    "**Between-session comparisons**"
   ]
  },
  {
   "cell_type": "code",
   "execution_count": 16,
   "metadata": {},
   "outputs": [
    {
     "name": "stderr",
     "output_type": "stream",
     "text": [
      "100%|██████████| 5000/5000 [00:20<00:00, 244.35it/s]\n"
     ]
    },
    {
     "data": {
      "text/html": [
       "<div>\n",
       "<style scoped>\n",
       "    .dataframe tbody tr th:only-of-type {\n",
       "        vertical-align: middle;\n",
       "    }\n",
       "\n",
       "    .dataframe tbody tr th {\n",
       "        vertical-align: top;\n",
       "    }\n",
       "\n",
       "    .dataframe thead th {\n",
       "        text-align: right;\n",
       "    }\n",
       "</style>\n",
       "<table border=\"1\" class=\"dataframe\">\n",
       "  <thead>\n",
       "    <tr style=\"text-align: right;\">\n",
       "      <th></th>\n",
       "      <th></th>\n",
       "      <th>obs</th>\n",
       "      <th>d</th>\n",
       "      <th>pval</th>\n",
       "      <th>fwer</th>\n",
       "    </tr>\n",
       "    <tr>\n",
       "      <th>s1</th>\n",
       "      <th>s2</th>\n",
       "      <th></th>\n",
       "      <th></th>\n",
       "      <th></th>\n",
       "      <th></th>\n",
       "    </tr>\n",
       "  </thead>\n",
       "  <tbody>\n",
       "    <tr>\n",
       "      <th rowspan=\"3\" valign=\"top\">1</th>\n",
       "      <th>2</th>\n",
       "      <td>-0.004</td>\n",
       "      <td>0.045</td>\n",
       "      <td>0.578</td>\n",
       "      <td>0.994</td>\n",
       "    </tr>\n",
       "    <tr>\n",
       "      <th>3</th>\n",
       "      <td>0.000</td>\n",
       "      <td>0.000</td>\n",
       "      <td>0.743</td>\n",
       "      <td>1.000</td>\n",
       "    </tr>\n",
       "    <tr>\n",
       "      <th>4</th>\n",
       "      <td>0.008</td>\n",
       "      <td>0.096</td>\n",
       "      <td>0.298</td>\n",
       "      <td>0.844</td>\n",
       "    </tr>\n",
       "    <tr>\n",
       "      <th rowspan=\"2\" valign=\"top\">2</th>\n",
       "      <th>3</th>\n",
       "      <td>0.008</td>\n",
       "      <td>0.169</td>\n",
       "      <td>0.264</td>\n",
       "      <td>0.796</td>\n",
       "    </tr>\n",
       "    <tr>\n",
       "      <th>4</th>\n",
       "      <td>0.008</td>\n",
       "      <td>0.123</td>\n",
       "      <td>0.300</td>\n",
       "      <td>0.844</td>\n",
       "    </tr>\n",
       "    <tr>\n",
       "      <th>3</th>\n",
       "      <th>4</th>\n",
       "      <td>0.000</td>\n",
       "      <td>0.000</td>\n",
       "      <td>0.747</td>\n",
       "      <td>1.000</td>\n",
       "    </tr>\n",
       "  </tbody>\n",
       "</table>\n",
       "</div>"
      ],
      "text/plain": [
       "         obs      d   pval   fwer\n",
       "s1 s2                            \n",
       "1  2  -0.004  0.045  0.578  0.994\n",
       "   3   0.000  0.000  0.743  1.000\n",
       "   4   0.008  0.096  0.298  0.844\n",
       "2  3   0.008  0.169  0.264  0.796\n",
       "   4   0.008  0.123  0.300  0.844\n",
       "3  4   0.000  0.000  0.747  1.000"
      ]
     },
     "execution_count": 16,
     "metadata": {},
     "output_type": "execute_result"
    }
   ],
   "source": [
    "np.random.seed(47404)\n",
    "\n",
    "## Compute average performance by outcome valence.\n",
    "pivot = data.pivot_table('accuracy', 'subject', ['valence','session'])\n",
    "pivot = pivot['win'] - pivot['lose']\n",
    "\n",
    "## Compute observed effects.\n",
    "obs = np.array([np.nanmedian(pivot[a] - pivot[b]) for a, b in pairs])\n",
    "\n",
    "## Compute effect sizes.\n",
    "d = np.array([cohens_d(pivot[a] - pivot[b]) for a, b in pairs])\n",
    "\n",
    "## Compute null distribution.\n",
    "null = np.zeros((n_iter, obs.size))\n",
    "for n in tqdm(range(n_iter)):\n",
    "    \n",
    "    ## Permute group assignments.\n",
    "    pivot.loc[:,:] = np.stack(pivot.apply(np.random.permutation, 1).values)\n",
    "    \n",
    "    ## Compute observed effects.\n",
    "    for m, (a, b) in enumerate(pairs):\n",
    "        null[n,m] = np.nanmedian(pivot[a] - pivot[b])\n",
    "        \n",
    "## Compute p-values.\n",
    "pval = ((np.abs(obs[np.newaxis,:]) < np.abs(null)).sum(axis=0) + 1) / (n_iter + 1)\n",
    "fwer = ((np.abs(obs[:,np.newaxis]) < np.abs(null).max(axis=1)).sum(axis=1) + 1) / (n_iter + 1)\n",
    "\n",
    "## Report summary.\n",
    "summary = DataFrame(dict(s1=[a for a, b in pairs], s2=[b for a, b in pairs], \n",
    "                         obs=obs, d=d, pval=pval, fwer=fwer))\n",
    "summary.set_index(['s1','s2']).round(3)"
   ]
  },
  {
   "cell_type": "markdown",
   "metadata": {},
   "source": [
    "#### 2.2.4 Interaction effect: action type X outcome valence\n",
    "\n",
    "**Within-session comparisons**"
   ]
  },
  {
   "cell_type": "code",
   "execution_count": 17,
   "metadata": {},
   "outputs": [
    {
     "name": "stderr",
     "output_type": "stream",
     "text": [
      "100%|██████████| 5000/5000 [00:43<00:00, 113.77it/s]\n"
     ]
    },
    {
     "data": {
      "text/html": [
       "<div>\n",
       "<style scoped>\n",
       "    .dataframe tbody tr th:only-of-type {\n",
       "        vertical-align: middle;\n",
       "    }\n",
       "\n",
       "    .dataframe tbody tr th {\n",
       "        vertical-align: top;\n",
       "    }\n",
       "\n",
       "    .dataframe thead th {\n",
       "        text-align: right;\n",
       "    }\n",
       "</style>\n",
       "<table border=\"1\" class=\"dataframe\">\n",
       "  <thead>\n",
       "    <tr style=\"text-align: right;\">\n",
       "      <th></th>\n",
       "      <th>obs</th>\n",
       "      <th>d</th>\n",
       "      <th>pval</th>\n",
       "      <th>fwer</th>\n",
       "    </tr>\n",
       "    <tr>\n",
       "      <th>session</th>\n",
       "      <th></th>\n",
       "      <th></th>\n",
       "      <th></th>\n",
       "      <th></th>\n",
       "    </tr>\n",
       "  </thead>\n",
       "  <tbody>\n",
       "    <tr>\n",
       "      <th>1</th>\n",
       "      <td>0.092</td>\n",
       "      <td>1.237</td>\n",
       "      <td>0.000</td>\n",
       "      <td>0.000</td>\n",
       "    </tr>\n",
       "    <tr>\n",
       "      <th>2</th>\n",
       "      <td>0.017</td>\n",
       "      <td>0.450</td>\n",
       "      <td>0.000</td>\n",
       "      <td>0.107</td>\n",
       "    </tr>\n",
       "    <tr>\n",
       "      <th>3</th>\n",
       "      <td>0.017</td>\n",
       "      <td>0.450</td>\n",
       "      <td>0.000</td>\n",
       "      <td>0.165</td>\n",
       "    </tr>\n",
       "    <tr>\n",
       "      <th>4</th>\n",
       "      <td>0.008</td>\n",
       "      <td>0.225</td>\n",
       "      <td>0.002</td>\n",
       "      <td>0.193</td>\n",
       "    </tr>\n",
       "  </tbody>\n",
       "</table>\n",
       "</div>"
      ],
      "text/plain": [
       "           obs      d   pval   fwer\n",
       "session                            \n",
       "1        0.092  1.237  0.000  0.000\n",
       "2        0.017  0.450  0.000  0.107\n",
       "3        0.017  0.450  0.000  0.165\n",
       "4        0.008  0.225  0.002  0.193"
      ]
     },
     "execution_count": 17,
     "metadata": {},
     "output_type": "execute_result"
    }
   ],
   "source": [
    "np.random.seed(47404)\n",
    "\n",
    "## Compute average performance by congruency.\n",
    "data['congruence'] = data.robot.replace({'gw': 'c', 'ngal': 'c', 'ngw': 'i', 'gal': 'i'})\n",
    "pivot = data.pivot_table('accuracy', ['session','subject'], 'congruence')\n",
    "\n",
    "## Compute observed effects.\n",
    "obs = (pivot['c'] - pivot['i']).groupby(level=0).median().values\n",
    "\n",
    "## Compute effect sizes.\n",
    "d = (pivot['c'] - pivot['i']).groupby(level=0).apply(cohens_d).values\n",
    "\n",
    "## Compute null distribution.\n",
    "null = np.zeros((n_iter, obs.size))\n",
    "for n in tqdm(range(n_iter)):\n",
    "    \n",
    "    ## Permute group assignments.\n",
    "    pivot.loc[:,:] = np.stack(pivot.apply(np.random.permutation, 1).values)\n",
    "    \n",
    "    ## Compute observed effects.\n",
    "    null[n] = (pivot['c'] - pivot['i']).groupby(level=0).median().values\n",
    "    \n",
    "## Compute p-values.\n",
    "pval = ((np.abs(obs[np.newaxis,:]) < np.abs(null)).sum(axis=0) + 1) / (n_iter + 1)\n",
    "fwer = ((np.abs(obs[:,np.newaxis]) < np.abs(null).max(axis=1)).sum(axis=1) + 1) / (n_iter + 1)\n",
    "\n",
    "## Report summary.\n",
    "summary = DataFrame(dict(session=sessions, obs=obs, d=d, pval=pval, fwer=fwer))\n",
    "summary.set_index('session').round(3)"
   ]
  },
  {
   "cell_type": "markdown",
   "metadata": {},
   "source": [
    "**Between-session comparisons**"
   ]
  },
  {
   "cell_type": "code",
   "execution_count": 18,
   "metadata": {},
   "outputs": [
    {
     "name": "stderr",
     "output_type": "stream",
     "text": [
      "100%|██████████| 5000/5000 [00:21<00:00, 235.49it/s]\n"
     ]
    },
    {
     "data": {
      "text/html": [
       "<div>\n",
       "<style scoped>\n",
       "    .dataframe tbody tr th:only-of-type {\n",
       "        vertical-align: middle;\n",
       "    }\n",
       "\n",
       "    .dataframe tbody tr th {\n",
       "        vertical-align: top;\n",
       "    }\n",
       "\n",
       "    .dataframe thead th {\n",
       "        text-align: right;\n",
       "    }\n",
       "</style>\n",
       "<table border=\"1\" class=\"dataframe\">\n",
       "  <thead>\n",
       "    <tr style=\"text-align: right;\">\n",
       "      <th></th>\n",
       "      <th></th>\n",
       "      <th>obs</th>\n",
       "      <th>d</th>\n",
       "      <th>pval</th>\n",
       "      <th>fwer</th>\n",
       "    </tr>\n",
       "    <tr>\n",
       "      <th>s1</th>\n",
       "      <th>s2</th>\n",
       "      <th></th>\n",
       "      <th></th>\n",
       "      <th></th>\n",
       "      <th></th>\n",
       "    </tr>\n",
       "  </thead>\n",
       "  <tbody>\n",
       "    <tr>\n",
       "      <th rowspan=\"3\" valign=\"top\">1</th>\n",
       "      <th>2</th>\n",
       "      <td>0.046</td>\n",
       "      <td>0.495</td>\n",
       "      <td>0.000</td>\n",
       "      <td>0.000</td>\n",
       "    </tr>\n",
       "    <tr>\n",
       "      <th>3</th>\n",
       "      <td>0.067</td>\n",
       "      <td>0.899</td>\n",
       "      <td>0.000</td>\n",
       "      <td>0.000</td>\n",
       "    </tr>\n",
       "    <tr>\n",
       "      <th>4</th>\n",
       "      <td>0.075</td>\n",
       "      <td>0.867</td>\n",
       "      <td>0.000</td>\n",
       "      <td>0.000</td>\n",
       "    </tr>\n",
       "    <tr>\n",
       "      <th rowspan=\"2\" valign=\"top\">2</th>\n",
       "      <th>3</th>\n",
       "      <td>0.008</td>\n",
       "      <td>0.169</td>\n",
       "      <td>0.265</td>\n",
       "      <td>0.814</td>\n",
       "    </tr>\n",
       "    <tr>\n",
       "      <th>4</th>\n",
       "      <td>0.017</td>\n",
       "      <td>0.270</td>\n",
       "      <td>0.052</td>\n",
       "      <td>0.290</td>\n",
       "    </tr>\n",
       "    <tr>\n",
       "      <th>3</th>\n",
       "      <th>4</th>\n",
       "      <td>0.004</td>\n",
       "      <td>0.096</td>\n",
       "      <td>0.671</td>\n",
       "      <td>0.998</td>\n",
       "    </tr>\n",
       "  </tbody>\n",
       "</table>\n",
       "</div>"
      ],
      "text/plain": [
       "         obs      d   pval   fwer\n",
       "s1 s2                            \n",
       "1  2   0.046  0.495  0.000  0.000\n",
       "   3   0.067  0.899  0.000  0.000\n",
       "   4   0.075  0.867  0.000  0.000\n",
       "2  3   0.008  0.169  0.265  0.814\n",
       "   4   0.017  0.270  0.052  0.290\n",
       "3  4   0.004  0.096  0.671  0.998"
      ]
     },
     "execution_count": 18,
     "metadata": {},
     "output_type": "execute_result"
    }
   ],
   "source": [
    "np.random.seed(47404)\n",
    "\n",
    "## Compute average performance by congruency.\n",
    "data['congruence'] = data.robot.replace({'gw': 'c', 'ngal': 'c', 'ngw': 'i', 'gal': 'i'})\n",
    "pivot = data.pivot_table('accuracy', 'subject', ['congruence','session'])\n",
    "pivot = pivot['c'] - pivot['i']\n",
    "\n",
    "## Compute observed effects.\n",
    "obs = np.array([np.nanmedian(pivot[a] - pivot[b]) for a, b in pairs])\n",
    "\n",
    "## Compute effect sizes.\n",
    "d = np.array([cohens_d(pivot[a] - pivot[b]) for a, b in pairs])\n",
    "\n",
    "## Compute null distribution.\n",
    "null = np.zeros((n_iter, obs.size))\n",
    "for n in tqdm(range(n_iter)):\n",
    "    \n",
    "    ## Permute group assignments.\n",
    "    pivot.loc[:,:] = np.stack(pivot.apply(np.random.permutation, 1).values)\n",
    "    \n",
    "    ## Compute observed effects.\n",
    "    for m, (a, b) in enumerate(pairs):\n",
    "        null[n,m] = np.nanmedian(pivot[a] - pivot[b])\n",
    "        \n",
    "## Compute p-values.\n",
    "pval = ((np.abs(obs[np.newaxis,:]) < np.abs(null)).sum(axis=0) + 1) / (n_iter + 1)\n",
    "fwer = ((obs[:,np.newaxis] < np.abs(null).max(axis=1)).sum(axis=1) + 1) / (n_iter + 1)\n",
    "\n",
    "## Report summary.\n",
    "summary = DataFrame(dict(s1=[a for a, b in pairs], s2=[b for a, b in pairs], \n",
    "                         obs=obs, d=d, pval=pval, fwer=fwer))\n",
    "summary.set_index(['s1','s2']).round(3)"
   ]
  },
  {
   "cell_type": "markdown",
   "metadata": {},
   "source": [
    "#### 2.2.5 Secondary effect: feedback type \n",
    "\n",
    "**Within-session comparisons**"
   ]
  },
  {
   "cell_type": "code",
   "execution_count": 19,
   "metadata": {},
   "outputs": [
    {
     "name": "stderr",
     "output_type": "stream",
     "text": [
      "100%|██████████| 5000/5000 [00:44<00:00, 112.59it/s]\n"
     ]
    },
    {
     "data": {
      "text/html": [
       "<div>\n",
       "<style scoped>\n",
       "    .dataframe tbody tr th:only-of-type {\n",
       "        vertical-align: middle;\n",
       "    }\n",
       "\n",
       "    .dataframe tbody tr th {\n",
       "        vertical-align: top;\n",
       "    }\n",
       "\n",
       "    .dataframe thead th {\n",
       "        text-align: right;\n",
       "    }\n",
       "</style>\n",
       "<table border=\"1\" class=\"dataframe\">\n",
       "  <thead>\n",
       "    <tr style=\"text-align: right;\">\n",
       "      <th></th>\n",
       "      <th>obs</th>\n",
       "      <th>d</th>\n",
       "      <th>pval</th>\n",
       "      <th>fwer</th>\n",
       "    </tr>\n",
       "    <tr>\n",
       "      <th>session</th>\n",
       "      <th></th>\n",
       "      <th></th>\n",
       "      <th></th>\n",
       "      <th></th>\n",
       "    </tr>\n",
       "  </thead>\n",
       "  <tbody>\n",
       "    <tr>\n",
       "      <th>1</th>\n",
       "      <td>0.094</td>\n",
       "      <td>1.250</td>\n",
       "      <td>0.0</td>\n",
       "      <td>0.000</td>\n",
       "    </tr>\n",
       "    <tr>\n",
       "      <th>2</th>\n",
       "      <td>0.045</td>\n",
       "      <td>0.770</td>\n",
       "      <td>0.0</td>\n",
       "      <td>0.001</td>\n",
       "    </tr>\n",
       "    <tr>\n",
       "      <th>3</th>\n",
       "      <td>0.030</td>\n",
       "      <td>0.581</td>\n",
       "      <td>0.0</td>\n",
       "      <td>0.091</td>\n",
       "    </tr>\n",
       "    <tr>\n",
       "      <th>4</th>\n",
       "      <td>0.028</td>\n",
       "      <td>0.704</td>\n",
       "      <td>0.0</td>\n",
       "      <td>0.181</td>\n",
       "    </tr>\n",
       "  </tbody>\n",
       "</table>\n",
       "</div>"
      ],
      "text/plain": [
       "           obs      d  pval   fwer\n",
       "session                           \n",
       "1        0.094  1.250   0.0  0.000\n",
       "2        0.045  0.770   0.0  0.001\n",
       "3        0.030  0.581   0.0  0.091\n",
       "4        0.028  0.704   0.0  0.181"
      ]
     },
     "execution_count": 19,
     "metadata": {},
     "output_type": "execute_result"
    }
   ],
   "source": [
    "## Define previous exposure.\n",
    "data['prev_sham'] = data.groupby(['subject','session','stimulus']).sham.transform(np.roll, 1)\n",
    "data.loc[data.exposure == 1, 'prev_sham'] = np.nan\n",
    "\n",
    "## Compute average performance by feedback type.\n",
    "pivot = data.pivot_table('accuracy', ['session','subject'], 'prev_sham')\n",
    "\n",
    "## Compute observed effects.\n",
    "obs = (pivot[0] - pivot[1]).groupby(level=0).median().values\n",
    "\n",
    "## Compute effect sizes.\n",
    "d = (pivot[0] - pivot[1]).groupby(level=0).apply(cohens_d).values\n",
    "\n",
    "## Compute null distribution.\n",
    "null = np.zeros((n_iter, obs.size))\n",
    "for n in tqdm(range(n_iter)):\n",
    "    \n",
    "    ## Permute group assignments.\n",
    "    pivot.loc[:,:] = np.stack(pivot.apply(np.random.permutation, 1).values)\n",
    "    \n",
    "    ## Compute observed effects.\n",
    "    null[n] = (pivot[0] - pivot[1]).groupby(level=0).median().values\n",
    "    \n",
    "## Compute p-values.\n",
    "pval = ((np.abs(obs[np.newaxis,:]) < np.abs(null)).sum(axis=0) + 1) / (n_iter + 1)\n",
    "fwer = ((np.abs(obs[:,np.newaxis]) < np.abs(null).max(axis=1)).sum(axis=1) + 1) / (n_iter + 1)\n",
    "\n",
    "## Report summary.\n",
    "summary = DataFrame(dict(session=sessions, obs=obs, d=d, pval=pval, fwer=fwer))\n",
    "summary.set_index('session').round(3)"
   ]
  },
  {
   "cell_type": "markdown",
   "metadata": {},
   "source": [
    "**Between-session comparisons**"
   ]
  },
  {
   "cell_type": "code",
   "execution_count": 20,
   "metadata": {},
   "outputs": [
    {
     "name": "stderr",
     "output_type": "stream",
     "text": [
      "100%|██████████| 5000/5000 [00:21<00:00, 234.86it/s]\n"
     ]
    },
    {
     "data": {
      "text/html": [
       "<div>\n",
       "<style scoped>\n",
       "    .dataframe tbody tr th:only-of-type {\n",
       "        vertical-align: middle;\n",
       "    }\n",
       "\n",
       "    .dataframe tbody tr th {\n",
       "        vertical-align: top;\n",
       "    }\n",
       "\n",
       "    .dataframe thead th {\n",
       "        text-align: right;\n",
       "    }\n",
       "</style>\n",
       "<table border=\"1\" class=\"dataframe\">\n",
       "  <thead>\n",
       "    <tr style=\"text-align: right;\">\n",
       "      <th></th>\n",
       "      <th></th>\n",
       "      <th>obs</th>\n",
       "      <th>d</th>\n",
       "      <th>pval</th>\n",
       "      <th>fwer</th>\n",
       "    </tr>\n",
       "    <tr>\n",
       "      <th>s1</th>\n",
       "      <th>s2</th>\n",
       "      <th></th>\n",
       "      <th></th>\n",
       "      <th></th>\n",
       "      <th></th>\n",
       "    </tr>\n",
       "  </thead>\n",
       "  <tbody>\n",
       "    <tr>\n",
       "      <th rowspan=\"3\" valign=\"top\">1</th>\n",
       "      <th>2</th>\n",
       "      <td>0.038</td>\n",
       "      <td>0.492</td>\n",
       "      <td>0.000</td>\n",
       "      <td>0.000</td>\n",
       "    </tr>\n",
       "    <tr>\n",
       "      <th>3</th>\n",
       "      <td>0.039</td>\n",
       "      <td>0.572</td>\n",
       "      <td>0.000</td>\n",
       "      <td>0.000</td>\n",
       "    </tr>\n",
       "    <tr>\n",
       "      <th>4</th>\n",
       "      <td>0.053</td>\n",
       "      <td>0.777</td>\n",
       "      <td>0.000</td>\n",
       "      <td>0.000</td>\n",
       "    </tr>\n",
       "    <tr>\n",
       "      <th rowspan=\"2\" valign=\"top\">2</th>\n",
       "      <th>3</th>\n",
       "      <td>0.008</td>\n",
       "      <td>0.137</td>\n",
       "      <td>0.286</td>\n",
       "      <td>0.833</td>\n",
       "    </tr>\n",
       "    <tr>\n",
       "      <th>4</th>\n",
       "      <td>0.019</td>\n",
       "      <td>0.326</td>\n",
       "      <td>0.034</td>\n",
       "      <td>0.188</td>\n",
       "    </tr>\n",
       "    <tr>\n",
       "      <th>3</th>\n",
       "      <th>4</th>\n",
       "      <td>0.011</td>\n",
       "      <td>0.201</td>\n",
       "      <td>0.171</td>\n",
       "      <td>0.622</td>\n",
       "    </tr>\n",
       "  </tbody>\n",
       "</table>\n",
       "</div>"
      ],
      "text/plain": [
       "         obs      d   pval   fwer\n",
       "s1 s2                            \n",
       "1  2   0.038  0.492  0.000  0.000\n",
       "   3   0.039  0.572  0.000  0.000\n",
       "   4   0.053  0.777  0.000  0.000\n",
       "2  3   0.008  0.137  0.286  0.833\n",
       "   4   0.019  0.326  0.034  0.188\n",
       "3  4   0.011  0.201  0.171  0.622"
      ]
     },
     "execution_count": 20,
     "metadata": {},
     "output_type": "execute_result"
    }
   ],
   "source": [
    "np.random.seed(47404)\n",
    "\n",
    "## Compute average performance by feedback type.\n",
    "pivot = data.pivot_table('accuracy', 'subject', ['prev_sham','session'])\n",
    "pivot = pivot[0] - pivot[1]\n",
    "\n",
    "## Compute observed effects.\n",
    "obs = np.array([np.nanmedian(pivot[a] - pivot[b]) for a, b in pairs])\n",
    "\n",
    "## Compute effect sizes.\n",
    "d = np.array([cohens_d(pivot[a] - pivot[b]) for a, b in pairs])\n",
    "\n",
    "## Compute null distribution.\n",
    "null = np.zeros((n_iter, obs.size))\n",
    "for n in tqdm(range(n_iter)):\n",
    "    \n",
    "    ## Permute group assignments.\n",
    "    pivot.loc[:,:] = np.stack(pivot.apply(np.random.permutation, 1).values)\n",
    "    \n",
    "    ## Compute observed effects.\n",
    "    for m, (a, b) in enumerate(pairs):\n",
    "        null[n,m] = np.nanmedian(pivot[a] - pivot[b])\n",
    "        \n",
    "## Compute p-values.\n",
    "pval = ((np.abs(obs[np.newaxis,:]) < np.abs(null)).sum(axis=0) + 1) / (n_iter + 1)\n",
    "fwer = ((np.abs(obs[:,np.newaxis]) < np.abs(null).max(axis=1)).sum(axis=1) + 1) / (n_iter + 1)\n",
    "\n",
    "## Report summary.\n",
    "summary = DataFrame(dict(s1=[a for a, b in pairs], s2=[b for a, b in pairs], \n",
    "                         obs=obs, d=d, pval=pval, fwer=fwer))\n",
    "summary.set_index(['s1','s2']).round(3)"
   ]
  },
  {
   "cell_type": "markdown",
   "metadata": {},
   "source": [
    "#### 2.2.6 Secondary effect: scanner color\n",
    "\n",
    "**Overall accuracy**"
   ]
  },
  {
   "cell_type": "code",
   "execution_count": 50,
   "metadata": {},
   "outputs": [
    {
     "name": "stderr",
     "output_type": "stream",
     "text": [
      "100%|██████████| 5000/5000 [00:47<00:00, 105.46it/s]"
     ]
    },
    {
     "name": "stdout",
     "output_type": "stream",
     "text": [
      "obs = 0.000 (d = 0.000, p = 0.077)\n"
     ]
    },
    {
     "name": "stderr",
     "output_type": "stream",
     "text": [
      "\n"
     ]
    }
   ],
   "source": [
    "## Compute average performance by scanner color.\n",
    "pivot = data.pivot_table('accuracy', ['session','subject'], 'color')\n",
    "\n",
    "## Compute observed effects.\n",
    "obs = (pivot['blue'] - pivot['yellow']).median()\n",
    "\n",
    "## Compute effect sizes.\n",
    "d = cohens_d(pivot['blue'] - pivot['yellow'])\n",
    "\n",
    "## Compute null distribution.\n",
    "null = np.zeros(n_iter)\n",
    "for n in tqdm(range(n_iter)):\n",
    "    \n",
    "    ## Permute group assignments.\n",
    "    pivot.loc[:,:] = np.stack(pivot.apply(np.random.permutation, 1).values)\n",
    "    \n",
    "    ## Compute observed effects.\n",
    "    null[n] = (pivot['blue'] - pivot['yellow']).median()\n",
    "    \n",
    "## Compute p-values.\n",
    "pval = ((np.abs(obs) < np.abs(null)).sum(axis=0) + 1) / (n_iter + 1)\n",
    "\n",
    "## Report summary.\n",
    "print('obs = %0.3f (d = %0.3f, p = %0.3f)' %(obs, d, pval))"
   ]
  },
  {
   "cell_type": "markdown",
   "metadata": {},
   "source": [
    "### 2.3 Individual-differences"
   ]
  },
  {
   "cell_type": "code",
   "execution_count": 21,
   "metadata": {},
   "outputs": [
    {
     "data": {
      "image/png": "[encoded data removed]",
      "text/plain": [
       "<Figure size 720x216 with 4 Axes>"
      ]
     },
     "metadata": {
      "needs_background": "light"
     },
     "output_type": "display_data"
    }
   ],
   "source": [
    "## Compute accuracy by participant / session / condition.\n",
    "gb = data.groupby(['subject','session','robot']).accuracy.mean().reset_index()\n",
    "\n",
    "## Score performance into top five deciles.\n",
    "gb['score'] = np.digitize(gb.accuracy, np.arange(0.6,1.0,0.1))\n",
    "\n",
    "## Calculate proportion of participants in each bin.\n",
    "gb = gb.groupby(['robot','session','score']).subject.count().reset_index()\n",
    "gb['prop'] = gb.groupby(['robot','session']).subject.transform(lambda x: x / x.sum())\n",
    "gb['cumprop'] = gb.groupby(['robot','session']).prop.transform(np.cumsum)\n",
    "\n",
    "## Initialize canvas.\n",
    "fig, axes = plt.subplots(1, 4, figsize=(10,3))\n",
    "palette = sns.color_palette('crest_r', n_colors=gb.score.nunique()).as_hex()\n",
    "palette = ['#234f81', '#4c658c', '#6d7b96', '#8d93a1', '#ababab']\n",
    "\n",
    "## Iteratively plot.\n",
    "for i, (ax, robot) in enumerate(zip(axes, ['gw','gal','ngw','ngal'])):\n",
    "\n",
    "    ## Stacked barchart. \n",
    "    for score, color in zip(np.unique(gb.score)[::-1], palette):    \n",
    "    \n",
    "        ## Plot scores.\n",
    "        q = f'robot == \"{robot}\" and score == {score}'\n",
    "        sns.barplot(x='cumprop', y='session', data=gb.query(q), order=[1,2,3,4], \n",
    "                    palette=np.repeat(color, 4), orient='h', ax=ax)\n",
    "    \n",
    "    ## Annotations.\n",
    "    for y, session in enumerate([1,2,3,4]):\n",
    "        v = gb.set_index(['robot','session','score']).loc[(robot,session,4)].prop\n",
    "        ax.annotate('%0.1f%%' %(v*1e2), (0,0), (1-v/2, y), ha='center', va='center',\n",
    "                    color='w', fontsize=10)\n",
    "    \n",
    "    ## Adjust x-axis.\n",
    "    ax.set(xlim=(0,1), xticks=np.linspace(0,1,6))\n",
    "    ax.set_xticklabels(['%0.0f%%' %p for p in np.linspace(0,1e2,6)], fontsize=9, color='0.3')\n",
    "    ax.set_xlabel('Percent of sample', fontsize=9, color='0.3')\n",
    "\n",
    "    ## Adjust y-axis.\n",
    "    ax.set(ylabel='', yticks=np.arange(4), yticklabels=[])\n",
    "    if not i: ax.set_yticklabels(['Day 0', 'Day 3', 'Day 14', 'Day 28'], ha='right',\n",
    "                                 fontsize=11, color='0.3')\n",
    "    \n",
    "    ## Adjust title.\n",
    "    ax.set_title(robot.upper(), fontsize=14, color='0.3')\n",
    "    \n",
    "    ## Modify ax spines.\n",
    "    ax.yaxis.set_tick_params(pad=1)\n",
    "    ax.spines['bottom'].set(linewidth=1, color='0.3')\n",
    "    ax.tick_params(bottom=True, left=False, color='0.3', length=4, width=1)\n",
    "    sns.despine(ax=ax, left=True, right=True, top=True, bottom=False)\n",
    "    \n",
    "plt.tight_layout()"
   ]
  },
  {
   "cell_type": "code",
   "execution_count": 154,
   "metadata": {},
   "outputs": [
    {
     "name": "stdout",
     "output_type": "stream",
     "text": [
      "gw\tx2(df=6) = 8.149 (p = 0.227)\n",
      "ngw\tx2(df=6) = 55.458 (p = 0.000)\n",
      "gal\tx2(df=6) = 42.191 (p = 0.000)\n",
      "ngal\tx2(df=6) = 39.287 (p = 0.000)\n"
     ]
    }
   ],
   "source": [
    "from scipy.stats import chi2_contingency\n",
    "\n",
    "## Compute accuracy by participant / session / condition.\n",
    "gb = data.groupby(['subject','session','robot']).accuracy.mean().reset_index()\n",
    "\n",
    "## Score performance into top five deciles.\n",
    "gb['score'] = np.digitize(gb.accuracy, [0.6,0.9])\n",
    "\n",
    "## Calculate proportion of participants in each bin.\n",
    "pivot = gb.pivot_table('subject', ['robot','score'], 'session', aggfunc='count').fillna(0)\n",
    "\n",
    "for robot in ['gw','ngw','gal','ngal']:\n",
    "    chi2, pval, dof, _ = chi2_contingency(pivot.loc[robot])\n",
    "    print('%s\\tx2(df=%s) = %0.3f (p = %0.3f)' %(robot, dof, chi2, pval))"
   ]
  }
 ],
 "metadata": {
  "kernelspec": {
   "display_name": "Python 3",
   "language": "python",
   "name": "python3"
  },
  "language_info": {
   "codemirror_mode": {
    "name": "ipython",
    "version": 3
   },
   "file_extension": ".py",
   "mimetype": "text/x-python",
   "name": "python",
   "nbconvert_exporter": "python",
   "pygments_lexer": "ipython3",
   "version": "3.9.12"
  }
 },
 "nbformat": 4,
 "nbformat_minor": 4
}
