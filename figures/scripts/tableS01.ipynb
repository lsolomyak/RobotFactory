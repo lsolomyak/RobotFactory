{
 "cells": [
  {
   "cell_type": "code",
   "execution_count": 1,
   "id": "1ea503fc-a369-4800-bb01-58e47c079980",
   "metadata": {},
   "outputs": [],
   "source": [
    "import os\n",
    "import numpy as np\n",
    "from os.path import dirname\n",
    "from pandas import DataFrame, read_csv\n",
    "from scipy.stats import ttest_ind\n",
    "from statsmodels.stats.proportion import proportions_ztest\n",
    "ROOT_DIR = dirname(dirname(dirname(os.path.realpath('__file__'))))"
   ]
  },
  {
   "cell_type": "markdown",
   "id": "5d2c7dd2-8bf5-48cf-bee0-32f77741e44d",
   "metadata": {},
   "source": [
    "## Section 1: Experiment 1"
   ]
  },
  {
   "cell_type": "code",
   "execution_count": 2,
   "id": "5c3893aa-c216-4f37-8a54-b30b96ea94c0",
   "metadata": {},
   "outputs": [],
   "source": [
    "## Load data.\n",
    "demo = read_csv(os.path.join(ROOT_DIR, 'study01', 'data', 's1', 'demographics.csv'))\n",
    "\n",
    "## Apply rejections.\n",
    "reject = read_csv(os.path.join(ROOT_DIR, 'study01', 'data', 's1', 'reject.csv'))\n",
    "demo = demo[demo.subject.isin(reject.query('reject == 0').subject)].reset_index(drop=True)"
   ]
  },
  {
   "cell_type": "markdown",
   "id": "5b007b85-3f02-481c-bbb9-c80f6340a8f0",
   "metadata": {},
   "source": [
    "### 1.1 Gender"
   ]
  },
  {
   "cell_type": "code",
   "execution_count": 3,
   "id": "6f1da1e1-a8f9-411c-82cb-47c1d459c1de",
   "metadata": {},
   "outputs": [
    {
     "name": "stdout",
     "output_type": "stream",
     "text": [
      "        count     %\n",
      "gender             \n",
      "Man        55  53.4\n",
      "Woman      47  45.6\n",
      "Other       1   1.0\n"
     ]
    }
   ],
   "source": [
    "## Count responses.\n",
    "gb = demo.groupby('gender').subject.count().reset_index(name='count')\n",
    "gb['%'] = gb['count'].transform(lambda x: np.round(x / x.sum() * 100, 1))\n",
    "print(gb.set_index('gender').sort_values('count', ascending=False))"
   ]
  },
  {
   "cell_type": "markdown",
   "id": "a91a9032-c0b1-4cec-ba81-526d39a0c48c",
   "metadata": {},
   "source": [
    "### 1.2 Age"
   ]
  },
  {
   "cell_type": "code",
   "execution_count": 4,
   "id": "0812c159-e444-462a-8135-33bade5404c7",
   "metadata": {},
   "outputs": [
    {
     "data": {
      "text/plain": [
       "count    103.0\n",
       "mean      35.5\n",
       "std       10.3\n",
       "min       20.0\n",
       "25%       28.5\n",
       "50%       33.0\n",
       "75%       41.0\n",
       "max       69.0\n",
       "Name: age, dtype: float64"
      ]
     },
     "execution_count": 4,
     "metadata": {},
     "output_type": "execute_result"
    }
   ],
   "source": [
    "demo.age.describe().round(1)"
   ]
  },
  {
   "cell_type": "markdown",
   "id": "29fa3c8f-0534-4f3e-9f3d-ddd55353fb9e",
   "metadata": {},
   "source": [
    "#### Discretized"
   ]
  },
  {
   "cell_type": "code",
   "execution_count": 5,
   "id": "99c910d9-26e0-42ab-afdb-94571672d07c",
   "metadata": {},
   "outputs": [
    {
     "name": "stdout",
     "output_type": "stream",
     "text": [
      "              count     %\n",
      "18-29            30  29.1\n",
      "30-39            43  41.7\n",
      "40-49            19  18.4\n",
      "50-59             8   7.8\n",
      "60 and older      3   2.9\n"
     ]
    }
   ],
   "source": [
    "## Discretize ages.\n",
    "demo['age_cat'] = np.digitize(demo.age, [29.5, 39.5, 49.5, 59.5])\n",
    "\n",
    "## Count responses.\n",
    "gb = demo.groupby('age_cat').subject.count().reset_index(name='count')\n",
    "gb['%'] = gb['count'].transform(lambda x: np.round(x / x.sum() * 100, 1))\n",
    "gb.index = ['18-29', '30-39', '40-49', '50-59', '60 and older']\n",
    "print(gb[['count','%']])"
   ]
  },
  {
   "cell_type": "markdown",
   "id": "f477fd1b-5775-44d3-ae0e-93f0ea924dc6",
   "metadata": {},
   "source": [
    "### 1.3 Race & ethnicity"
   ]
  },
  {
   "cell_type": "markdown",
   "id": "cb075538-2fd2-458b-aeef-b27fca79e6dd",
   "metadata": {},
   "source": [
    "#### Ethnicity"
   ]
  },
  {
   "cell_type": "code",
   "execution_count": 6,
   "id": "b2260e03-31a6-480d-a9f6-cd747a8a61a7",
   "metadata": {},
   "outputs": [
    {
     "name": "stdout",
     "output_type": "stream",
     "text": [
      "                        count     %\n",
      "ethnicity                          \n",
      "Not Hispanic or Latino     93  90.3\n",
      "Hispanic or Latino          9   8.7\n",
      "Rather not say              1   1.0\n"
     ]
    }
   ],
   "source": [
    "## Count responses.\n",
    "gb = demo.groupby('ethnicity').subject.count().reset_index(name='count')\n",
    "gb['%'] = gb['count'].transform(lambda x: np.round(x / x.sum() * 100, 1))\n",
    "print(gb.set_index('ethnicity').sort_values('count', ascending=False))"
   ]
  },
  {
   "cell_type": "markdown",
   "id": "93c64d39-0d4a-4131-b74f-c8c457e18c6d",
   "metadata": {},
   "source": [
    "#### Race"
   ]
  },
  {
   "cell_type": "code",
   "execution_count": 7,
   "id": "78e25215-c373-4e06-9a20-e147f4252573",
   "metadata": {},
   "outputs": [
    {
     "name": "stdout",
     "output_type": "stream",
     "text": [
      "                           count     %\n",
      "race                                  \n",
      "White                         80  77.7\n",
      "Asian                         10   9.7\n",
      "Black or African American      9   8.7\n",
      "Rather not say                 4   3.9\n"
     ]
    }
   ],
   "source": [
    "## Count responses.\n",
    "gb = demo.groupby('race').subject.count().reset_index(name='count')\n",
    "gb['%'] = gb['count'].transform(lambda x: np.round(x / x.sum() * 100, 1))\n",
    "print(gb.set_index('race').sort_values('count', ascending=False))"
   ]
  },
  {
   "cell_type": "markdown",
   "id": "b9eb0814-0ac3-4e19-b4e2-57b9fe65b4c6",
   "metadata": {},
   "source": [
    "## Section 2: Experiment 2"
   ]
  },
  {
   "cell_type": "code",
   "execution_count": 8,
   "id": "48d05326-209d-46dc-9270-cba497463933",
   "metadata": {},
   "outputs": [],
   "source": [
    "## Load data.\n",
    "demo = read_csv(os.path.join(ROOT_DIR, 'study02', 'data', 's1', 'demographics.csv'))\n",
    "\n",
    "## Apply rejections.\n",
    "reject = read_csv(os.path.join(ROOT_DIR, 'study02', 'data', 's1', 'reject.csv'))\n",
    "demo = demo[demo.subject.isin(reject.query('reject == 0').subject)].reset_index(drop=True)"
   ]
  },
  {
   "cell_type": "markdown",
   "id": "d8fb76b2-f7e9-4e4b-8719-56ed6896f847",
   "metadata": {},
   "source": [
    "### 2.1 Gender"
   ]
  },
  {
   "cell_type": "code",
   "execution_count": 9,
   "id": "9ec954c3-bee8-48b7-a1c0-80ced791bdae",
   "metadata": {},
   "outputs": [
    {
     "name": "stdout",
     "output_type": "stream",
     "text": [
      "                count     %\n",
      "gender                     \n",
      "Man                65  59.1\n",
      "Woman              43  39.1\n",
      "Other               1   0.9\n",
      "Rather not say      1   0.9\n"
     ]
    }
   ],
   "source": [
    "## Count responses.\n",
    "gb = demo.groupby('gender').subject.count().reset_index(name='count')\n",
    "gb['%'] = gb['count'].transform(lambda x: np.round(x / x.sum() * 100, 1))\n",
    "print(gb.set_index('gender').sort_values('count', ascending=False))"
   ]
  },
  {
   "cell_type": "markdown",
   "id": "18070242-d442-4727-a018-05a4bc010abc",
   "metadata": {},
   "source": [
    "### 2.2 Age"
   ]
  },
  {
   "cell_type": "code",
   "execution_count": 10,
   "id": "f93b6a45-3f76-404a-8516-fced8fb9f39a",
   "metadata": {},
   "outputs": [
    {
     "data": {
      "text/plain": [
       "count    110.0\n",
       "mean      39.6\n",
       "std       11.0\n",
       "min       23.0\n",
       "25%       31.0\n",
       "50%       37.0\n",
       "75%       46.0\n",
       "max       69.0\n",
       "Name: age, dtype: float64"
      ]
     },
     "execution_count": 10,
     "metadata": {},
     "output_type": "execute_result"
    }
   ],
   "source": [
    "demo.age.describe().round(1)"
   ]
  },
  {
   "cell_type": "markdown",
   "id": "3a0f3ad0-db98-47e9-a40d-6f61f4d891f6",
   "metadata": {},
   "source": [
    "#### Discretized"
   ]
  },
  {
   "cell_type": "code",
   "execution_count": 11,
   "id": "a6a01e4f-ddfb-498f-856e-0728632db29c",
   "metadata": {},
   "outputs": [
    {
     "name": "stdout",
     "output_type": "stream",
     "text": [
      "              count     %\n",
      "18-29            21  19.1\n",
      "30-39            42  38.2\n",
      "40-49            26  23.6\n",
      "50-59            14  12.7\n",
      "60 and older      7   6.4\n"
     ]
    }
   ],
   "source": [
    "## Discretize ages.\n",
    "demo['age_cat'] = np.digitize(demo.age, [29.5, 39.5, 49.5, 59.5])\n",
    "\n",
    "## Count responses.\n",
    "gb = demo.groupby('age_cat').subject.count().reset_index(name='count')\n",
    "gb['%'] = gb['count'].transform(lambda x: np.round(x / x.sum() * 100, 1))\n",
    "gb.index = ['18-29', '30-39', '40-49', '50-59', '60 and older']\n",
    "print(gb[['count','%']])"
   ]
  },
  {
   "cell_type": "markdown",
   "id": "69b44af2-cc88-4573-9885-76968ac3ac4c",
   "metadata": {},
   "source": [
    "### 2.3 Race & ethnicity"
   ]
  },
  {
   "cell_type": "markdown",
   "id": "5279ca56-c3ee-493c-99ad-b58b3b000e37",
   "metadata": {},
   "source": [
    "#### Ethnicity"
   ]
  },
  {
   "cell_type": "code",
   "execution_count": 12,
   "id": "f640451b-8fd7-4ee2-bb8a-9a3b3dc133f8",
   "metadata": {},
   "outputs": [
    {
     "name": "stdout",
     "output_type": "stream",
     "text": [
      "                        count     %\n",
      "ethnicity                          \n",
      "Not Hispanic or Latino    101  91.8\n",
      "Hispanic or Latino          8   7.3\n",
      "Rather not say              1   0.9\n"
     ]
    }
   ],
   "source": [
    "## Count responses.\n",
    "gb = demo.groupby('ethnicity').subject.count().reset_index(name='count')\n",
    "gb['%'] = gb['count'].transform(lambda x: np.round(x / x.sum() * 100, 1))\n",
    "print(gb.set_index('ethnicity').sort_values('count', ascending=False))"
   ]
  },
  {
   "cell_type": "markdown",
   "id": "54c0998e-7936-4a06-bd65-6aa2784f39d4",
   "metadata": {},
   "source": [
    "#### Race"
   ]
  },
  {
   "cell_type": "code",
   "execution_count": 13,
   "id": "1a45beba-8c99-4182-a925-9ee2f56c2588",
   "metadata": {},
   "outputs": [
    {
     "name": "stdout",
     "output_type": "stream",
     "text": [
      "                                            count     %\n",
      "race                                                   \n",
      "['White']                                      91  82.7\n",
      "['Black or African American']                   8   7.3\n",
      "['American Indian/Alaska Native', 'White']      3   2.7\n",
      "['Rather not say']                              3   2.7\n",
      "['Asian']                                       2   1.8\n",
      "['Black or African American', 'White']          2   1.8\n",
      "['Asian', 'White']                              1   0.9\n"
     ]
    }
   ],
   "source": [
    "## Count responses.\n",
    "gb = demo.groupby('race').subject.count().reset_index(name='count')\n",
    "gb['%'] = gb['count'].transform(lambda x: np.round(x / x.sum() * 100, 1))\n",
    "print(gb.set_index('race').sort_values('count', ascending=False))"
   ]
  },
  {
   "cell_type": "markdown",
   "id": "7d8f22a8-1079-4fb1-b18d-5cdedb8628a2",
   "metadata": {},
   "source": [
    "## Section 3: Demographics comparison"
   ]
  },
  {
   "cell_type": "code",
   "execution_count": 14,
   "id": "fdda9f93-37da-4f84-bfc9-62bfbf266f6f",
   "metadata": {},
   "outputs": [],
   "source": [
    "## Load demographics (study 1).\n",
    "d1 = read_csv(os.path.join(ROOT_DIR, 'study01', 'data', 's1', 'demographics.csv'))\n",
    "reject = read_csv(os.path.join(ROOT_DIR, 'study01', 'data', 's1', 'reject.csv'))\n",
    "d1 = d1[d1.subject.isin(reject.query('reject == 0').subject)].reset_index(drop=True)\n",
    "\n",
    "## Load demographics (study 2).\n",
    "d2 = read_csv(os.path.join(ROOT_DIR, 'study02', 'data', 's1', 'demographics.csv'))\n",
    "reject = read_csv(os.path.join(ROOT_DIR, 'study02', 'data', 's1', 'reject.csv'))\n",
    "d2 = d2[d2.subject.isin(reject.query('reject == 0').subject)].reset_index(drop=True)"
   ]
  },
  {
   "cell_type": "markdown",
   "id": "9135f788-1500-4b6a-9ee9-c45200d1c3f1",
   "metadata": {},
   "source": [
    "### 1.1 Gender"
   ]
  },
  {
   "cell_type": "code",
   "execution_count": 15,
   "id": "3c38d9c3-5e05-46c2-af33-10821af03471",
   "metadata": {},
   "outputs": [
    {
     "name": "stdout",
     "output_type": "stream",
     "text": [
      "z = -0.837, p = 0.403\n"
     ]
    }
   ],
   "source": [
    "## Perform proportions z-test.\n",
    "zval, pval = proportions_ztest(\n",
    "    [sum(d1.gender=='Man'), sum(d2.gender=='Man')],\n",
    "    [len(d1), len(d2)]\n",
    ")\n",
    "\n",
    "## Return statistics.\n",
    "print('z = %0.3f, p = %0.3f' %(zval, pval))"
   ]
  },
  {
   "cell_type": "markdown",
   "id": "133eaa5d-2898-4e52-86cc-88c4aede618b",
   "metadata": {},
   "source": [
    "### 1.2 Age"
   ]
  },
  {
   "cell_type": "code",
   "execution_count": 16,
   "id": "c51d6c30-df45-410e-b363-f48d84481a0e",
   "metadata": {},
   "outputs": [
    {
     "name": "stdout",
     "output_type": "stream",
     "text": [
      "t = -0.837, p = 0.006\n"
     ]
    }
   ],
   "source": [
    "## Perform 2-sample t-test.\n",
    "tval, pval = ttest_ind(d1.age, d2.age)\n",
    "\n",
    "## Return statistics.\n",
    "print('t = %0.3f, p = %0.3f' %(zval, pval))"
   ]
  },
  {
   "cell_type": "markdown",
   "id": "9d07b6fa-399f-4f6d-a719-77481898c6ab",
   "metadata": {},
   "source": [
    "### 1.3 Ethnicity"
   ]
  },
  {
   "cell_type": "code",
   "execution_count": 17,
   "id": "2199ef86-d3d0-4e38-8257-7cd89dce8663",
   "metadata": {},
   "outputs": [
    {
     "name": "stdout",
     "output_type": "stream",
     "text": [
      "z = -0.391, p = 0.696\n"
     ]
    }
   ],
   "source": [
    "## Perform proportions z-test.\n",
    "zval, pval = proportions_ztest(\n",
    "    [sum(d1.ethnicity=='Not Hispanic or Latino'), sum(d2.ethnicity=='Not Hispanic or Latino')],\n",
    "    [len(d1), len(d2)]\n",
    ")\n",
    "\n",
    "## Return statistics.\n",
    "print('z = %0.3f, p = %0.3f' %(zval, pval))"
   ]
  },
  {
   "cell_type": "markdown",
   "id": "197067a0-7898-407a-90ca-1aa877f64faa",
   "metadata": {},
   "source": [
    "### 1.4 Race"
   ]
  },
  {
   "cell_type": "code",
   "execution_count": 18,
   "id": "d022c092-c9a6-411b-9624-f8df0ec6279b",
   "metadata": {},
   "outputs": [
    {
     "name": "stdout",
     "output_type": "stream",
     "text": [
      "z = -1.116, p = 0.264\n"
     ]
    }
   ],
   "source": [
    "## Unpack responses.\n",
    "gb = DataFrame(dict(race = [r for resp in d2.race for r in eval(resp)]))\n",
    "\n",
    "## Perform proportions z-test.\n",
    "zval, pval = proportions_ztest(\n",
    "    [sum(d1.race=='White'), sum(gb.race=='White')],\n",
    "    [len(d1), len(gb)]\n",
    ")\n",
    "\n",
    "## Return statistics.\n",
    "print('z = %0.3f, p = %0.3f' %(zval, pval))"
   ]
  }
 ],
 "metadata": {
  "kernelspec": {
   "display_name": "Python 3",
   "language": "python",
   "name": "python3"
  },
  "language_info": {
   "codemirror_mode": {
    "name": "ipython",
    "version": 3
   },
   "file_extension": ".py",
   "mimetype": "text/x-python",
   "name": "python",
   "nbconvert_exporter": "python",
   "pygments_lexer": "ipython3",
   "version": "3.9.12"
  }
 },
 "nbformat": 4,
 "nbformat_minor": 5
}
