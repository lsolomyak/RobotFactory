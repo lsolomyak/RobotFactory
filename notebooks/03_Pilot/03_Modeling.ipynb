{
 "cells": [
  {
   "cell_type": "code",
   "execution_count": 16,
   "metadata": {},
   "outputs": [],
   "source": [
    "import os\n",
    "import numpy as np\n",
    "import matplotlib.pyplot as plt\n",
    "import seaborn as sns\n",
    "from pandas import read_csv\n",
    "sns.set_style('white')\n",
    "sns.set_context('notebook', font_scale=1.5)\n",
    "%matplotlib inline"
   ]
  },
  {
   "cell_type": "markdown",
   "metadata": {},
   "source": [
    "## Section 1: Load and prepare data"
   ]
  },
  {
   "cell_type": "code",
   "execution_count": 3,
   "metadata": {},
   "outputs": [
    {
     "name": "stderr",
     "output_type": "stream",
     "text": [
      "INFO:pystan:COMPILING THE C++ CODE FOR MODEL anon_model_f6c543d090887843c37bf0fcbe66e146 NOW.\n",
      "WARNING:pystan:Maximum (flat) parameter count (1000) exceeded: skipping diagnostic tests for n_eff and Rhat.\n",
      "To run all diagnostics call pystan.check_hmc_diagnostics(fit)\n"
     ]
    }
   ],
   "source": [
    "import os, sys, pystan\n",
    "import numpy as np\n",
    "from pandas import read_csv\n",
    "from notorious.io import load_model, save_fit\n",
    "\n",
    "#~~~~~~~~~~~~~~~~~~~~~~~~~~~~~~~~~~~~~~~~~~#\n",
    "### Define parameters.\n",
    "#~~~~~~~~~~~~~~~~~~~~~~~~~~~~~~~~~~~~~~~~~~#\n",
    "\n",
    "## I/O parameters.\n",
    "stan_model = 'pit_m1_np'\n",
    "\n",
    "## Version\n",
    "version = 1\n",
    "\n",
    "## Sampling parameters.\n",
    "samples = 2500\n",
    "warmup = 2000\n",
    "chains = 4\n",
    "thin = 1\n",
    "n_jobs = 4\n",
    "\n",
    "#~~~~~~~~~~~~~~~~~~~~~~~~~~~~~~~~~~~~~~~~~~#\n",
    "### Load and preprocess data.\n",
    "#~~~~~~~~~~~~~~~~~~~~~~~~~~~~~~~~~~~~~~~~~~#\n",
    "\n",
    "## Load data.\n",
    "data = read_csv(os.path.join('data','data.csv'))\n",
    "\n",
    "## Reject participants.\n",
    "reject = read_csv(os.path.join('data','reject.csv'))\n",
    "data = data.merge(reject[['Subject','Reject']]).query('Reject==False')\n",
    "\n",
    "## Limit to version.\n",
    "data = data.query(f'Version=={version}')\n",
    "if version == 2: data['Block'] = 1\n",
    "\n",
    "## Define robot identities.\n",
    "data.loc[np.logical_and(data.Valence=='Win',data.Action=='Go'),'Robot'] = 'GW'\n",
    "data.loc[np.logical_and(data.Valence=='Win',data.Action=='No-Go'),'Robot'] = 'NGW'\n",
    "data.loc[np.logical_and(data.Valence=='Lose',data.Action=='Go'),'Robot'] = 'GAL'\n",
    "data.loc[np.logical_and(data.Valence=='Lose',data.Action=='No-Go'),'Robot'] = 'NGAL'\n",
    "\n",
    "## Define exposure.\n",
    "f = lambda x: np.arange(x.size)+1\n",
    "data['Exposure'] = data.groupby(['Subject','Block','Robot']).Trial.transform(f)\n",
    "data = data.sort_values(['Version','Subject','Block','Robot','Exposure']).reset_index(drop=True)\n",
    "\n",
    "## Update outcomes.\n",
    "data['Outcome'] = data['Outcome'].replace({10:1, -10:-1})\n",
    "\n",
    "#~~~~~~~~~~~~~~~~~~~~~~~~~~~~~~~~~~~~~~~~~~#\n",
    "### Assemble data for Stan.\n",
    "#~~~~~~~~~~~~~~~~~~~~~~~~~~~~~~~~~~~~~~~~~~#\n",
    "\n",
    "## Define data.\n",
    "R = data.pivot_table('Outcome',('Subject','Block','Robot'),'Exposure').values.T\n",
    "Y = data.pivot_table('Choice',('Subject','Block','Robot'),'Exposure').values.T\n",
    "\n",
    "## Define mappings.\n",
    "sub_ix = data.pivot_table('Choice',('Subject','Block','Robot'),'Exposure').index.get_level_values(0)\n",
    "sub_ix = np.unique(sub_ix, return_inverse=True)[-1] + 1\n",
    "\n",
    "## Define metadata.\n",
    "T, H = Y.shape\n",
    "\n",
    "## Assemble data.\n",
    "dd = dict(H=H, T=T, Y=Y, R=R, sub_ix=sub_ix)\n",
    "\n",
    "#~~~~~~~~~~~~~~~~~~~~~~~~~~~~~~~~~~~~~~~~~~#\n",
    "### Fit Stan Model.\n",
    "#~~~~~~~~~~~~~~~~~~~~~~~~~~~~~~~~~~~~~~~~~~#\n",
    "    \n",
    "## Load StanModel\n",
    "StanModel = load_model(os.path.join('stan_models',stan_model))\n",
    "\n",
    "## Fit model.\n",
    "StanFit = StanModel.sampling(data=dd, iter=samples, warmup=warmup, chains=chains, \n",
    "                             thin=thin, n_jobs=n_jobs, seed=47404)\n",
    "\n",
    "## Save.\n",
    "f = os.path.join('stan_results','pilot%0.2d_%s' %(version,stan_model))\n",
    "save_fit(f, StanFit, data=dd)"
   ]
  },
  {
   "cell_type": "code",
   "execution_count": 4,
   "metadata": {},
   "outputs": [],
   "source": [
    "samples = StanFit.extract()"
   ]
  },
  {
   "cell_type": "code",
   "execution_count": null,
   "metadata": {},
   "outputs": [],
   "source": [
    "sns.scatterplot(data.groupby('Subject').Accuracy.mean(), np.median(samples['rho'], axis=0))"
   ]
  },
  {
   "cell_type": "code",
   "execution_count": null,
   "metadata": {},
   "outputs": [],
   "source": [
    "sns.scatterplot(data.groupby('Subject').Accuracy.mean(), np.median(samples['eta'], axis=0))"
   ]
  },
  {
   "cell_type": "code",
   "execution_count": null,
   "metadata": {},
   "outputs": [],
   "source": [
    "ax = sns.scatterplot(data.groupby('Subject').Accuracy.mean(), np.median(samples['nu'], axis=0))\n",
    "ax.set(xlabel='Overall Accuracy', ylabel='Pavlovian Bias')\n",
    "\n",
    "sns.despine()\n",
    "plt.tight_layout()"
   ]
  },
  {
   "cell_type": "code",
   "execution_count": null,
   "metadata": {},
   "outputs": [],
   "source": [
    "pavlovian_subjects = data.Subject.unique()[np.where(np.median(samples['nu'], axis=0) > 1.5)]\n",
    "pavlovian_subjects = data[data.Subject.isin(pavlovian_subjects)]\n"
   ]
  },
  {
   "cell_type": "code",
   "execution_count": 22,
   "metadata": {},
   "outputs": [
    {
     "data": {
      "image/png": "[encoded data removed]",
      "text/plain": [
       "<Figure size 864x576 with 8 Axes>"
      ]
     },
     "metadata": {
      "needs_background": "light"
     },
     "output_type": "display_data"
    }
   ],
   "source": [
    "fig, axes = plt.subplots(4,2,figsize=(12,8),sharex=True,sharey=True)\n",
    "palette = sns.color_palette('muted',n_colors=4)\n",
    "\n",
    "pivot = data.pivot_table('Accuracy',('Block','Robot','Subject'),'Exposure')\n",
    "ix = np.argsort(data.query('Robot==\"GAL\"').groupby('Subject').Accuracy.mean())[::-1]\n",
    "\n",
    "for i, block in enumerate([1,2]):\n",
    "    \n",
    "    for j, (robot, color) in enumerate(zip(['GW','NGW','GAL','NGAL'], palette)):\n",
    "        \n",
    "        ## Extract data.\n",
    "        acc = pivot.loc[block,robot].values[ix]\n",
    "        n, m = acc.shape\n",
    "        \n",
    "        sns.heatmap(acc, cbar=False, cmap=['k',color], ax=axes[j,i])\n",
    "        axes[j,i].hlines(np.arange(1,n),0,m,color='w',alpha=0.05)\n",
    "        axes[j,i].vlines(np.arange(1,m),0,n,color='w',alpha=0.05)\n",
    "        axes[j,i].set(yticks=[])\n",
    "    \n",
    "plt.tight_layout()"
   ]
  },
  {
   "cell_type": "markdown",
   "metadata": {},
   "source": [
    "So, as an FYI, if you're still planning on piloting tomorrow: I've been modeling the pilot PIT data this afternoon. I've been starting with the simple 4-parameter PIT models (i.e. learning rate, reward sensitivity, go bias, Pavlovian bias). Here the reward sensitivity acts as the inverse temperature. I model the go bias and Pavlovian bias as scalar multiples of the reward sensitivity so that we can interpret how much influence a bias exerts relative to reward (e.g. a go bias = 0.5 says that the go-bias exerts roughly half as much influence as reward)."
   ]
  }
 ],
 "metadata": {
  "kernelspec": {
   "display_name": "Python 3",
   "language": "python",
   "name": "python3"
  },
  "language_info": {
   "codemirror_mode": {
    "name": "ipython",
    "version": 3
   },
   "file_extension": ".py",
   "mimetype": "text/x-python",
   "name": "python",
   "nbconvert_exporter": "python",
   "pygments_lexer": "ipython3",
   "version": "3.7.4"
  }
 },
 "nbformat": 4,
 "nbformat_minor": 4
}
