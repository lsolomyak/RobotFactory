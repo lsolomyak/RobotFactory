{
 "cells": [
  {
   "cell_type": "code",
   "execution_count": null,
   "metadata": {},
   "outputs": [],
   "source": [
    "import numpy as np\n",
    "import matplotlib.pyplot as plt\n",
    "import seaborn as sns\n",
    "from notorious.agents import AgentsPIT\n",
    "sns.set_style('white')\n",
    "sns.set_context('notebook', font_scale=1.25)\n",
    "%matplotlib inline"
   ]
  },
  {
   "cell_type": "markdown",
   "metadata": {},
   "source": [
    "## Section 1: Simulate Data"
   ]
  },
  {
   "cell_type": "code",
   "execution_count": null,
   "metadata": {},
   "outputs": [],
   "source": [
    "np.random.seed(47404)\n",
    "\n",
    "#~~~~~~~~~~~~~~~~~~~~~~~~~~~~~~~~~~~~~~~~~~#\n",
    "### Define parameters.\n",
    "#~~~~~~~~~~~~~~~~~~~~~~~~~~~~~~~~~~~~~~~~~~#\n",
    "\n",
    "## Agent parameters.\n",
    "n_agents = 20\n",
    "beta = np.random.uniform( 4.0, 8.0, n_agents)\n",
    "eta  = np.random.uniform( 0.1, 0.4, n_agents)\n",
    "tau  = np.random.uniform(-0.1, 0.3, n_agents)\n",
    "nu   = np.random.uniform( 0.2, 0.6, n_agents)\n",
    "\n",
    "beta = 8.00\n",
    "eta  = 0.25\n",
    "tau  = 0.20\n",
    "nu   = 0.00\n",
    "\n",
    "## Task parameters\n",
    "n_trials = 20\n",
    "n_blocks = 4\n",
    "params = dict(GW  = (0.2,0.8, 0), NGW  = (0.8,0.2, 0),\n",
    "              GAL = (0.2,0.8,-1), NGAL = (0.8,0.2,-1))\n",
    "\n",
    "#~~~~~~~~~~~~~~~~~~~~~~~~~~~~~~~~~~~~~~~~~~#\n",
    "### Simulate behavior.\n",
    "#~~~~~~~~~~~~~~~~~~~~~~~~~~~~~~~~~~~~~~~~~~#\n",
    "\n",
    "## Initialize agents.\n",
    "agents = AgentsPIT(beta, eta, tau, nu, w=0, n_agents=n_agents)\n",
    "\n",
    "## Preallocate space.\n",
    "Y = np.zeros((n_blocks,len(params),n_agents,n_trials),dtype=int)\n",
    "R = np.zeros((n_blocks,len(params),n_agents,n_trials))\n",
    "\n",
    "for i in range(n_blocks):\n",
    "\n",
    "    for j, (p1, p2, s) in enumerate(params.values()):\n",
    "\n",
    "        ## Simulate outcomes.\n",
    "        r = np.random.binomial(1, (p1,p2), (n_agents,n_trials,2)) + s\n",
    "        \n",
    "        ## Simulate behavior.\n",
    "        y = agents.train(r)\n",
    "        \n",
    "        ## Store behavior.\n",
    "        m,n = y.shape; I,J = np.ogrid[:m,:n]\n",
    "        R[i,j] = r[I,J,y]; Y[i,j] = y\n",
    "        \n",
    "## Reshape behavior.\n",
    "Y = np.moveaxis(Y, (3,2), (1,2)).reshape(n_blocks, n_trials, -1)\n",
    "R = np.moveaxis(R, (3,2), (1,2)).reshape(n_blocks, n_trials, -1)"
   ]
  },
  {
   "cell_type": "markdown",
   "metadata": {},
   "source": [
    "## Section 2: Fit Models w/ Stan"
   ]
  },
  {
   "cell_type": "code",
   "execution_count": null,
   "metadata": {},
   "outputs": [],
   "source": [
    "import os, pystan\n",
    "from stantools.io import load_model, save_fit\n",
    "\n",
    "#~~~~~~~~~~~~~~~~~~~~~~~~~~~~~~~~~~~~~~~~~~#\n",
    "### Define parameters.\n",
    "#~~~~~~~~~~~~~~~~~~~~~~~~~~~~~~~~~~~~~~~~~~#\n",
    "\n",
    "## I/O parameters.\n",
    "stan_model = f'pit_m1'\n",
    "\n",
    "## Sampling parameters.\n",
    "samples = 1500\n",
    "warmup = 1000\n",
    "chains = 4\n",
    "thin = 1\n",
    "n_jobs = 4\n",
    "\n",
    "#~~~~~~~~~~~~~~~~~~~~~~~~~~~~~~~~~~~~~~~~~~#\n",
    "### Prepare data.\n",
    "#~~~~~~~~~~~~~~~~~~~~~~~~~~~~~~~~~~~~~~~~~~#\n",
    "\n",
    "## Define metadata.\n",
    "N = n_agents\n",
    "K = n_blocks\n",
    "S = len(params)\n",
    "T = n_trials\n",
    "\n",
    "## Define mapping.\n",
    "ix = np.repeat(np.arange(n_agents)+1, S)\n",
    "\n",
    "## Assemble data.\n",
    "dd = dict(N=N, K=K, S=S, T=T, Y=Y, R=R, ix=ix)\n",
    "\n",
    "#~~~~~~~~~~~~~~~~~~~~~~~~~~~~~~~~~~~~~~~~~~#\n",
    "### Fit Stan Model.\n",
    "#~~~~~~~~~~~~~~~~~~~~~~~~~~~~~~~~~~~~~~~~~~#\n",
    "    \n",
    "## Load StanModel\n",
    "StanModel = load_model(os.path.join('stan_models',stan_model))\n",
    "\n",
    "## Fit model.\n",
    "StanFit = StanModel.sampling(data=dd, iter=samples, warmup=warmup, chains=chains, \n",
    "                             thin=thin, n_jobs=n_jobs, seed=0)\n",
    "\n",
    "## Save.\n",
    "# save_fit(f, StanFit, data=dd)"
   ]
  }
 ],
 "metadata": {
  "kernelspec": {
   "display_name": "Python 3",
   "language": "python",
   "name": "python3"
  },
  "language_info": {
   "codemirror_mode": {
    "name": "ipython",
    "version": 3
   },
   "file_extension": ".py",
   "mimetype": "text/x-python",
   "name": "python",
   "nbconvert_exporter": "python",
   "pygments_lexer": "ipython3",
   "version": "3.7.4"
  }
 },
 "nbformat": 4,
 "nbformat_minor": 4
}
